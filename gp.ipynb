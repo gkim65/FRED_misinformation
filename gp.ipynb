{
 "cells": [
  {
   "cell_type": "code",
   "execution_count": 19,
   "outputs": [],
   "source": [
    "import multiprocessing\n",
    "import uuid\n",
    "import os\n",
    "\n",
    "if not os.path.exists('out'):\n",
    "    os.makedirs('out')\n",
    "if not os.path.exists('results'):\n",
    "    os.makedirs('results')\n",
    "\n",
    "import pandas as pd\n",
    "import numpy as np\n",
    "import matplotlib.pyplot as plt\n",
    "\n",
    "from emukit.core import ParameterSpace, ContinuousParameter, DiscreteParameter\n",
    "from emukit.core.initial_designs.latin_design import LatinDesign\n",
    "from GPy.models import GPRegression\n",
    "from emukit.model_wrappers import GPyModelWrapper\n",
    "from emukit.experimental_design.experimental_design_loop import ExperimentalDesignLoop\n",
    "from emukit.experimental_design.acquisitions import ModelVariance, IntegratedVarianceReduction"
   ],
   "metadata": {
    "collapsed": false,
    "ExecuteTime": {
     "end_time": "2024-01-15T18:28:05.896016500Z",
     "start_time": "2024-01-15T18:28:05.890017700Z"
    }
   },
   "id": "a7f8a58e6997adfb"
  },
  {
   "cell_type": "code",
   "execution_count": 20,
   "outputs": [],
   "source": [
    "target_name = 'SEIZ_updated'\n",
    "threads_per_run = multiprocessing.cpu_count()\n",
    "init_exposures = 100\n",
    "\n",
    "parameter_space = ParameterSpace([ContinuousParameter('p', 0, 1),\n",
    "                                  ContinuousParameter('l', 0, 1),\n",
    "                                  ContinuousParameter('epsilon', 2, 2),\n",
    "                                  DiscreteParameter('prop_init_skeptics', np.arange(1, init_exposures-1, 1, dtype=np.int_))\n",
    "                                  # DiscreteParameter('prop_init_skeptics', np.array([50]))\n",
    "                                ])"
   ],
   "metadata": {
    "collapsed": false,
    "ExecuteTime": {
     "end_time": "2024-01-15T18:28:05.929318900Z",
     "start_time": "2024-01-15T18:28:05.898021300Z"
    }
   },
   "id": "fb1ca09136c55a1e"
  },
  {
   "cell_type": "code",
   "execution_count": 21,
   "outputs": [],
   "source": [
    "def run_job(p, l, epsilon, init_skeptics, init_adopters):\n",
    "    with open(f'{target_name}_editable.fred', 'r') as file:\n",
    "        filedata = file.read()\n",
    "\n",
    "    vars = {\n",
    "        'p': p, \n",
    "        'l': l, \n",
    "        'epsilon': epsilon, \n",
    "        'init_skeptic': int(init_skeptics), \n",
    "        'init_adopt': int(init_adopters)\n",
    "    }\n",
    "\n",
    "    run_uuid = uuid.uuid4()\n",
    "    var_str = ', '.join(map(lambda item: f'{item[0]}={item[1]}', vars.items()))\n",
    "    print(run_uuid, var_str)\n",
    "\n",
    "    with open(f'out/{target_name}_{run_uuid}_out.fred', 'w') as file:\n",
    "        file.write(filedata.format(**vars))\n",
    "        \n",
    "    !fred_job -p out/{target_name}_{run_uuid}_out.fred -k {target_name}_{run_uuid}_run -t {threads_per_run}\n",
    "    !fred_csv -k {target_name}_{run_uuid}_run > results/{target_name}_{run_uuid}_run.csv\n",
    "\n",
    "    with open(f'results/{target_name}_{run_uuid}_run.csv', 'r') as file:\n",
    "        lines = file.readlines()\n",
    "\n",
    "    with open(f'results/{target_name}_{run_uuid}_run.csv', 'w') as file:\n",
    "        lines[0] = var_str+'\\n'\n",
    "        file.writelines(lines)\n",
    "\n",
    "    return pd.read_csv(f'results/{target_name}_{run_uuid}_run.csv', header=2)"
   ],
   "metadata": {
    "collapsed": false,
    "ExecuteTime": {
     "end_time": "2024-01-15T18:28:05.929318900Z",
     "start_time": "2024-01-15T18:28:05.908019400Z"
    }
   },
   "id": "e924571bf2e2530e"
  },
  {
   "cell_type": "code",
   "execution_count": 22,
   "outputs": [],
   "source": [
    "def sample(X, clear_results=False):\n",
    "    X = np.array(X)\n",
    "    \n",
    "    if X.ndim < 2:\n",
    "        X = np.expand_dims(X, 0)\n",
    "    elif X.ndim > 2:\n",
    "        raise Exception(f'X has too many dimensions (ndim={X.ndim}, must be 1 or 2)')\n",
    "    if X.shape[-1] != len(parameter_space._parameters):\n",
    "        raise Exception(f'X has the wrong number of variables (variables={X.shape[-1]}, must be {len(parameter_space._parameters)})')\n",
    "\n",
    "    X = np.append(X, np.expand_dims(init_exposures-X[:,-1], axis=1), axis=1)  # create and add init_adopters variable\n",
    "\n",
    "    if clear_results:\n",
    "        !yes | fred_clear_all_results\n",
    "    \n",
    "    Y = []\n",
    "\n",
    "    with multiprocessing.Pool() as pool:\n",
    "        for data in pool.starmap(run_job, X):\n",
    "            S_count = data['ADOPT.totS'].iat[0]\n",
    "            Y.append([(-data['ADOPT.S'].diff()).max() / S_count])\n",
    "        \n",
    "    return np.vstack(Y)"
   ],
   "metadata": {
    "collapsed": false,
    "ExecuteTime": {
     "end_time": "2024-01-15T18:28:05.929318900Z",
     "start_time": "2024-01-15T18:28:05.917262900Z"
    }
   },
   "id": "cb1c34ba9ad24f90"
  },
  {
   "cell_type": "code",
   "execution_count": 23,
   "outputs": [],
   "source": [
    "design = LatinDesign(parameter_space)\n",
    "num_data_points = 10\n",
    "X = design.get_samples(num_data_points)"
   ],
   "metadata": {
    "collapsed": false,
    "ExecuteTime": {
     "end_time": "2024-01-15T18:28:05.929318900Z",
     "start_time": "2024-01-15T18:28:05.921261300Z"
    }
   },
   "id": "a5ced94ccd5c878b"
  },
  {
   "cell_type": "code",
   "execution_count": 24,
   "outputs": [
    {
     "data": {
      "text/plain": "array([[2.5e-01, 4.5e-01, 2.0e+00, 9.3e+01],\n       [4.5e-01, 2.5e-01, 2.0e+00, 6.4e+01],\n       [9.5e-01, 3.5e-01, 2.0e+00, 6.0e+00],\n       [1.5e-01, 1.5e-01, 2.0e+00, 1.6e+01],\n       [7.5e-01, 5.5e-01, 2.0e+00, 5.4e+01],\n       [6.5e-01, 6.5e-01, 2.0e+00, 4.5e+01],\n       [3.5e-01, 9.5e-01, 2.0e+00, 2.5e+01],\n       [8.5e-01, 7.5e-01, 2.0e+00, 8.3e+01],\n       [5.5e-01, 5.0e-02, 2.0e+00, 3.5e+01],\n       [5.0e-02, 8.5e-01, 2.0e+00, 7.4e+01]])"
     },
     "execution_count": 24,
     "metadata": {},
     "output_type": "execute_result"
    }
   ],
   "source": [
    "X"
   ],
   "metadata": {
    "collapsed": false,
    "ExecuteTime": {
     "end_time": "2024-01-15T18:28:05.937320100Z",
     "start_time": "2024-01-15T18:28:05.930321500Z"
    }
   },
   "id": "278c49f1065bef65"
  },
  {
   "cell_type": "code",
   "execution_count": 25,
   "outputs": [
    {
     "name": "stdout",
     "output_type": "stream",
     "text": [
      "You are about to delete /home/nyoma/FRED/RESULTS. This cannot be undone.\r\n",
      "Proceed? yes/no [no]\r\n",
      "/home/nyoma/FRED/RESULTS deleted\r\n",
      "yes: standard output: Broken pipe\r\n",
      "d7d45ed5-70f7-4552-910b-1101af8b3cacf4107796-ccc6-49e3-be2a-38ff149b691706ac704d-5f13-4dd5-a2df-d876a9fb9fa0f8a393a8-5410-480f-a135-c3721f8417782ac16b47-3f6a-47bb-ae32-d00929d818f42392171c-cba9-410a-bb50-d706eea195ad79635772-3444-456e-8914-2184a9d4899b30728e6c-8e8c-478d-be88-178d20c6fde82ea7a272-2f68-4a60-b62a-863f84dd23ecd739d7d8-2c92-4f25-86a2-bd6794ac593b          p=0.45, l=0.25, epsilon=2.0, init_skeptic=64, init_adopt=36p=0.15000000000000002, l=0.15000000000000002, epsilon=2.0, init_skeptic=16, init_adopt=84p=0.35000000000000003, l=0.95, epsilon=2.0, init_skeptic=25, init_adopt=75p=0.95, l=0.35000000000000003, epsilon=2.0, init_skeptic=6, init_adopt=94p=0.25, l=0.45, epsilon=2.0, init_skeptic=93, init_adopt=7p=0.6500000000000001, l=0.6500000000000001, epsilon=2.0, init_skeptic=45, init_adopt=55p=0.75, l=0.55, epsilon=2.0, init_skeptic=54, init_adopt=46p=0.8500000000000001, l=0.75, epsilon=2.0, init_skeptic=83, init_adopt=17p=0.55, l=0.05, epsilon=2.0, init_skeptic=35, init_adopt=65p=0.05, l=0.8500000000000001, epsilon=2.0, init_skeptic=74, init_adopt=26\n",
      "\n",
      "\n",
      "\n",
      "\n",
      "\n",
      "\n",
      "\n",
      "\n",
      "fred_compile out/SEIZ_updated_79635772-3444-456e-8914-2184a9d4899b_out.fred ...\r\n",
      "fred_compile out/SEIZ_updated_d7d45ed5-70f7-4552-910b-1101af8b3cac_out.fred ...\r\n",
      "fred_compile out/SEIZ_updated_06ac704d-5f13-4dd5-a2df-d876a9fb9fa0_out.fred ...\r\n",
      "fred_compile out/SEIZ_updated_2ea7a272-2f68-4a60-b62a-863f84dd23ec_out.fred ...\r\n",
      "fred_compile out/SEIZ_updated_f8a393a8-5410-480f-a135-c3721f841778_out.fred ...\r\n",
      "fred_compile out/SEIZ_updated_d739d7d8-2c92-4f25-86a2-bd6794ac593b_out.fred ...\r\n",
      "fred_compile out/SEIZ_updated_2ac16b47-3f6a-47bb-ae32-d00929d818f4_out.fred ...\r\n",
      "fred_compile out/SEIZ_updated_2392171c-cba9-410a-bb50-d706eea195ad_out.fred ...\r\n",
      "fred_compile out/SEIZ_updated_30728e6c-8e8c-478d-be88-178d20c6fde8_out.fred ...\r\n",
      "fred_compile out/SEIZ_updated_f4107796-ccc6-49e3-be2a-38ff149b6917_out.fred ...\r\n",
      "No errors found.\r\n",
      "\r\n",
      "FRED Warning (file out/SEIZ_updated_79635772-3444-456e-8914-2184a9d4899b_out.fred) No wait rule found for state SKEPTIC.InBetween\r\n",
      "\r\n",
      "\r\n",
      "FRED Warning (file out/SEIZ_updated_79635772-3444-456e-8914-2184a9d4899b_out.fred) No wait rule found for state ADOPT.InBetween\r\n",
      "\r\n",
      "\r\n",
      "No errors found.\r\n",
      "\r\n",
      "FRED Warning (file out/SEIZ_updated_06ac704d-5f13-4dd5-a2df-d876a9fb9fa0_out.fred) No wait rule found for state SKEPTIC.InBetween\r\n",
      "\r\n",
      "\r\n",
      "FRED Warning (file out/SEIZ_updated_06ac704d-5f13-4dd5-a2df-d876a9fb9fa0_out.fred) No wait rule found for state ADOPT.InBetween\r\n",
      "\r\n",
      "\r\n",
      "No errors found.\r\n",
      "\r\n",
      "FRED Warning (file out/SEIZ_updated_2ea7a272-2f68-4a60-b62a-863f84dd23ec_out.fred) No wait rule found for state SKEPTIC.InBetween\r\n",
      "\r\n",
      "\r\n",
      "FRED Warning (file out/SEIZ_updated_2ea7a272-2f68-4a60-b62a-863f84dd23ec_out.fred) No wait rule found for state ADOPT.InBetween\r\n",
      "\r\n",
      "\r\n",
      "No errors found.\r\n",
      "\r\n",
      "FRED Warning (file out/SEIZ_updated_d739d7d8-2c92-4f25-86a2-bd6794ac593b_out.fred) No wait rule found for state SKEPTIC.InBetween\r\n",
      "\r\n",
      "\r\n",
      "FRED Warning (file out/SEIZ_updated_d739d7d8-2c92-4f25-86a2-bd6794ac593b_out.fred) No wait rule found for state ADOPT.InBetween\r\n",
      "\r\n",
      "\r\n",
      "No errors found.\r\n",
      "\r\n",
      "FRED Warning (file out/SEIZ_updated_2ac16b47-3f6a-47bb-ae32-d00929d818f4_out.fred) No wait rule found for state SKEPTIC.InBetween\r\n",
      "\r\n",
      "\r\n",
      "FRED Warning (file out/SEIZ_updated_2ac16b47-3f6a-47bb-ae32-d00929d818f4_out.fred) No wait rule found for state ADOPT.InBetween\r\n",
      "\r\n",
      "\r\n",
      "No errors found.\r\n",
      "\r\n",
      "FRED Warning (file out/SEIZ_updated_2392171c-cba9-410a-bb50-d706eea195ad_out.fred) No wait rule found for state SKEPTIC.InBetween\r\n",
      "\r\n",
      "\r\n",
      "FRED Warning (file out/SEIZ_updated_2392171c-cba9-410a-bb50-d706eea195ad_out.fred) No wait rule found for state ADOPT.InBetween\r\n",
      "\r\n",
      "\r\n",
      "No errors found.\r\n",
      "\r\n",
      "FRED Warning (file out/SEIZ_updated_30728e6c-8e8c-478d-be88-178d20c6fde8_out.fred) No wait rule found for state SKEPTIC.InBetween\r\n",
      "\r\n",
      "\r\n",
      "FRED Warning (file out/SEIZ_updated_30728e6c-8e8c-478d-be88-178d20c6fde8_out.fred) No wait rule found for state ADOPT.InBetween\r\n",
      "\r\n",
      "\r\n",
      "No errors found.\r\n",
      "\r\n",
      "FRED Warning (file out/SEIZ_updated_f4107796-ccc6-49e3-be2a-38ff149b6917_out.fred) No wait rule found for state SKEPTIC.InBetween\r\n",
      "\r\n",
      "\r\n",
      "FRED Warning (file out/SEIZ_updated_f4107796-ccc6-49e3-be2a-38ff149b6917_out.fred) No wait rule found for state ADOPT.InBetween\r\n",
      "\r\n",
      "\r\n",
      "No errors found.\r\n",
      "\r\n",
      "FRED Warning (file out/SEIZ_updated_f8a393a8-5410-480f-a135-c3721f841778_out.fred) No wait rule found for state SKEPTIC.InBetween\r\n",
      "\r\n",
      "\r\n",
      "FRED Warning (file out/SEIZ_updated_f8a393a8-5410-480f-a135-c3721f841778_out.fred) No wait rule found for state ADOPT.InBetween\r\n",
      "\r\n",
      "\r\n",
      "No errors found.\r\n",
      "\r\n",
      "FRED Warning (file out/SEIZ_updated_d7d45ed5-70f7-4552-910b-1101af8b3cac_out.fred) No wait rule found for state SKEPTIC.InBetween\r\n",
      "\r\n",
      "\r\n",
      "FRED Warning (file out/SEIZ_updated_d7d45ed5-70f7-4552-910b-1101af8b3cac_out.fred) No wait rule found for state ADOPT.InBetween\r\n",
      "\r\n",
      "\r\n",
      "SEIZ_updated_2ea7a272-2f68-4a60-b62a-863f84dd23ec_run 2\r\n",
      "SEIZ_updated_d739d7d8-2c92-4f25-86a2-bd6794ac593b_run 1\r\n",
      "SEIZ_updated_2ac16b47-3f6a-47bb-ae32-d00929d818f4_run 4\r\n",
      "SEIZ_updated_f4107796-ccc6-49e3-be2a-38ff149b6917_run 3\r\n",
      "SEIZ_updated_79635772-3444-456e-8914-2184a9d4899b_run 6\r\n",
      "SEIZ_updated_06ac704d-5f13-4dd5-a2df-d876a9fb9fa0_run 5\r\n",
      "SEIZ_updated_30728e6c-8e8c-478d-be88-178d20c6fde8_run 7\r\n",
      "SEIZ_updated_f8a393a8-5410-480f-a135-c3721f841778_run 8\r\n",
      "SEIZ_updated_2392171c-cba9-410a-bb50-d706eea195ad_run 9\r\n",
      "SEIZ_updated_d7d45ed5-70f7-4552-910b-1101af8b3cac_run 10\r\n",
      "(export OMP_NUM_THREADS=16 ; FRED -p /home/nyoma/FRED/RESULTS/JOB/2/WORK/SEIZ_updated_2ea7a272-2f68-4a60-b62a-863f84dd23ec_out.fred -r 1 -d /home/nyoma/FRED/RESULTS/JOB/2/OUT 2>&1 > /home/nyoma/FRED/RESULTS/JOB/2/OUT/RUN1/LOG)(export OMP_NUM_THREADS=16 ; FRED -p /home/nyoma/FRED/RESULTS/JOB/1/WORK/SEIZ_updated_d739d7d8-2c92-4f25-86a2-bd6794ac593b_out.fred -r 1 -d /home/nyoma/FRED/RESULTS/JOB/1/OUT 2>&1 > /home/nyoma/FRED/RESULTS/JOB/1/OUT/RUN1/LOG)\r\n",
      "\r\n",
      "(export OMP_NUM_THREADS=16 ; FRED -p /home/nyoma/FRED/RESULTS/JOB/3/WORK/SEIZ_updated_f4107796-ccc6-49e3-be2a-38ff149b6917_out.fred -r 1 -d /home/nyoma/FRED/RESULTS/JOB/3/OUT 2>&1 > /home/nyoma/FRED/RESULTS/JOB/3/OUT/RUN1/LOG)\r\n",
      "(export OMP_NUM_THREADS=16 ; FRED -p /home/nyoma/FRED/RESULTS/JOB/4/WORK/SEIZ_updated_2ac16b47-3f6a-47bb-ae32-d00929d818f4_out.fred -r 1 -d /home/nyoma/FRED/RESULTS/JOB/4/OUT 2>&1 > /home/nyoma/FRED/RESULTS/JOB/4/OUT/RUN1/LOG)\r\n",
      "(export OMP_NUM_THREADS=16 ; FRED -p /home/nyoma/FRED/RESULTS/JOB/5/WORK/SEIZ_updated_06ac704d-5f13-4dd5-a2df-d876a9fb9fa0_out.fred -r 1 -d /home/nyoma/FRED/RESULTS/JOB/5/OUT 2>&1 > /home/nyoma/FRED/RESULTS/JOB/5/OUT/RUN1/LOG)\r\n",
      "(export OMP_NUM_THREADS=16 ; FRED -p /home/nyoma/FRED/RESULTS/JOB/6/WORK/SEIZ_updated_79635772-3444-456e-8914-2184a9d4899b_out.fred -r 1 -d /home/nyoma/FRED/RESULTS/JOB/6/OUT 2>&1 > /home/nyoma/FRED/RESULTS/JOB/6/OUT/RUN1/LOG)\r\n",
      "(export OMP_NUM_THREADS=16 ; FRED -p /home/nyoma/FRED/RESULTS/JOB/7/WORK/SEIZ_updated_30728e6c-8e8c-478d-be88-178d20c6fde8_out.fred -r 1 -d /home/nyoma/FRED/RESULTS/JOB/7/OUT 2>&1 > /home/nyoma/FRED/RESULTS/JOB/7/OUT/RUN1/LOG)\r\n",
      "(export OMP_NUM_THREADS=16 ; FRED -p /home/nyoma/FRED/RESULTS/JOB/8/WORK/SEIZ_updated_f8a393a8-5410-480f-a135-c3721f841778_out.fred -r 1 -d /home/nyoma/FRED/RESULTS/JOB/8/OUT 2>&1 > /home/nyoma/FRED/RESULTS/JOB/8/OUT/RUN1/LOG)\r\n",
      "(export OMP_NUM_THREADS=16 ; FRED -p /home/nyoma/FRED/RESULTS/JOB/9/WORK/SEIZ_updated_2392171c-cba9-410a-bb50-d706eea195ad_out.fred -r 1 -d /home/nyoma/FRED/RESULTS/JOB/9/OUT 2>&1 > /home/nyoma/FRED/RESULTS/JOB/9/OUT/RUN1/LOG)\r\n",
      "(export OMP_NUM_THREADS=16 ; FRED -p /home/nyoma/FRED/RESULTS/JOB/10/WORK/SEIZ_updated_d7d45ed5-70f7-4552-910b-1101af8b3cac_out.fred -r 1 -d /home/nyoma/FRED/RESULTS/JOB/10/OUT 2>&1 > /home/nyoma/FRED/RESULTS/JOB/10/OUT/RUN1/LOG)\r\n"
     ]
    },
    {
     "name": "stderr",
     "output_type": "stream",
     "text": [
      "\n",
      "KeyboardInterrupt\n",
      "\n"
     ]
    }
   ],
   "source": [
    "Y = sample(X, clear_results=True)"
   ],
   "metadata": {
    "collapsed": false,
    "ExecuteTime": {
     "end_time": "2024-01-15T18:28:39.937938100Z",
     "start_time": "2024-01-15T18:28:05.944319100Z"
    }
   },
   "id": "d51326a96257ae1a"
  },
  {
   "cell_type": "code",
   "execution_count": null,
   "outputs": [],
   "source": [
    "Y"
   ],
   "metadata": {
    "collapsed": false,
    "ExecuteTime": {
     "start_time": "2024-01-15T18:28:39.946939800Z"
    }
   },
   "id": "4ca0dacfef62042c"
  },
  {
   "cell_type": "code",
   "execution_count": null,
   "outputs": [],
   "source": [
    "model_gpy = GPRegression(X,Y)\n",
    "model_emukit = GPyModelWrapper(model_gpy)"
   ],
   "metadata": {
    "collapsed": false,
    "ExecuteTime": {
     "start_time": "2024-01-15T18:28:39.948464300Z"
    }
   },
   "id": "fe0f204fc438c030"
  },
  {
   "cell_type": "code",
   "execution_count": null,
   "outputs": [],
   "source": [
    "model_variance = ModelVariance(model=model_emukit)\n",
    "expdesign_loop = ExperimentalDesignLoop(model=model_emukit,\n",
    "                                        space=parameter_space,\n",
    "                                        acquisition=model_variance,\n",
    "                                        batch_size=5)\n",
    "\n",
    "max_iterations = 50\n",
    "expdesign_loop.run_loop(sample, max_iterations)"
   ],
   "metadata": {
    "collapsed": false,
    "ExecuteTime": {
     "start_time": "2024-01-15T18:28:39.948464300Z"
    }
   },
   "id": "f826fb9b5e6a8239"
  },
  {
   "cell_type": "code",
   "execution_count": null,
   "outputs": [],
   "source": [
    "model_emukit.predict(np.array([[0.5,0.5,2,50]]))"
   ],
   "metadata": {
    "collapsed": false,
    "ExecuteTime": {
     "start_time": "2024-01-15T18:28:39.950459800Z"
    }
   },
   "id": "af71260d752437b4"
  }
 ],
 "metadata": {
  "kernelspec": {
   "display_name": "Python 3",
   "language": "python",
   "name": "python3"
  },
  "language_info": {
   "codemirror_mode": {
    "name": "ipython",
    "version": 2
   },
   "file_extension": ".py",
   "mimetype": "text/x-python",
   "name": "python",
   "nbconvert_exporter": "python",
   "pygments_lexer": "ipython2",
   "version": "2.7.6"
  }
 },
 "nbformat": 4,
 "nbformat_minor": 5
}
