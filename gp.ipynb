{
 "cells": [
  {
   "cell_type": "code",
   "execution_count": 93,
   "outputs": [],
   "source": [
    "import multiprocessing\n",
    "import re\n",
    "from io import StringIO\n",
    "import uuid\n",
    "\n",
    "import pandas as pd\n",
    "import numpy as np\n",
    "\n",
    "from emukit.core import ParameterSpace, ContinuousParameter, DiscreteParameter\n",
    "from emukit.core.initial_designs import RandomDesign\n",
    "from GPy.models import GPRegression\n",
    "from emukit.model_wrappers import GPyModelWrapper\n",
    "from emukit.bayesian_optimization.acquisitions import ExpectedImprovement\n",
    "from emukit.bayesian_optimization.loops import BayesianOptimizationLoop"
   ],
   "metadata": {
    "collapsed": false,
    "ExecuteTime": {
     "end_time": "2024-01-14T00:08:47.072246100Z",
     "start_time": "2024-01-14T00:08:47.064743800Z"
    }
   },
   "id": "a7f8a58e6997adfb"
  },
  {
   "cell_type": "code",
   "execution_count": 94,
   "outputs": [],
   "source": [
    "target_name = 'SEIZ_updated'\n",
    "# n_runs = 5\n",
    "# max_parallel_runs = 8\n",
    "# threads_per_run = multiprocessing.cpu_count()//min(n_runs,max_parallel_runs)\n",
    "threads_per_run = multiprocessing.cpu_count()\n",
    "init_exposures = 100\n",
    "\n",
    "parameter_space = ParameterSpace([ContinuousParameter('p', 0, 1),\n",
    "                                  ContinuousParameter('l', 0, 1),\n",
    "                                  ContinuousParameter('epsilon', 2, 2),\n",
    "                                  DiscreteParameter('prop_init_skeptics', np.arange(1, init_exposures-1, 1, dtype=np.int_))])"
   ],
   "metadata": {
    "collapsed": false,
    "ExecuteTime": {
     "end_time": "2024-01-14T00:08:47.143187200Z",
     "start_time": "2024-01-14T00:08:47.077765200Z"
    }
   },
   "id": "fb1ca09136c55a1e"
  },
  {
   "cell_type": "code",
   "execution_count": 95,
   "outputs": [],
   "source": [
    "def run_job(p, l, epsilon, init_skeptics, init_adopters, clear_results=False):\n",
    "    with open(f'{target_name}_editable.fred', 'r') as file:\n",
    "        filedata = file.read()\n",
    "\n",
    "    vars = {\n",
    "        '{p}': p, \n",
    "        '{l}': l, \n",
    "        '{epsilon}': epsilon, \n",
    "        '{init_skeptic}': init_skeptics, \n",
    "        '{init_adopt}': init_adopters\n",
    "    }\n",
    "\n",
    "    for target, value in vars.items():\n",
    "        filedata = filedata.replace(target, str(value))\n",
    "\n",
    "    with open(f'{target_name}_out.fred', 'w') as file:\n",
    "        file.write(filedata)\n",
    "        \n",
    "    if clear_results:\n",
    "        !yes | fred_clear_all_results\n",
    "        \n",
    "    run_uuid = uuid.uuid4()\n",
    "    \n",
    "    # !fred_job -p {target_name}_out.fred -k {target_name}_{p}_{l}_{epsilon}_run -n {n_runs} -m {max_parallel_runs} -t {threads_per_run}\n",
    "    !fred_job -p {target_name}_out.fred -k {target_name}_{run_uuid}_run -t {threads_per_run}\n",
    "    !fred_csv -k {target_name}_{run_uuid}_run > results/{target_name}_{run_uuid}_run.csv\n",
    "\n",
    "    with open(f'results/{target_name}_{run_uuid}_run.csv', 'r') as file:\n",
    "        lines = file.readlines()\n",
    "\n",
    "    with open(f'results/{target_name}_{run_uuid}_run.csv', 'w') as file:\n",
    "        lines[0] = ', '.join(map(lambda item: f'{item[0][1:-1]}={item[1]}', vars.items()))+'\\n'\n",
    "        file.writelines(lines)\n",
    "\n",
    "    # with open(f'results/{target_name}_{p}_{l}_{epsilon}_run.csv', 'r') as csv:\n",
    "    #     results = csv.read()\n",
    "    # \n",
    "    # results = re.split('Run,\\d\\n', results)[1:]\n",
    "    # return [pd.read_csv(StringIO(data)) for data in results]\n",
    "    return pd.read_csv(f'results/{target_name}_{run_uuid}_run.csv', header=2)"
   ],
   "metadata": {
    "collapsed": false,
    "ExecuteTime": {
     "end_time": "2024-01-14T00:08:47.144186Z",
     "start_time": "2024-01-14T00:08:47.094825500Z"
    }
   },
   "id": "e924571bf2e2530e"
  },
  {
   "cell_type": "code",
   "execution_count": 96,
   "outputs": [],
   "source": [
    "def sample(X, **kwargs):\n",
    "    X = np.array(X)\n",
    "    \n",
    "    if X.ndim < 2:\n",
    "        X = np.expand_dims(X, 0)\n",
    "    elif X.ndim > 2:\n",
    "        raise Exception(f'X has too many dimensions (ndim={X.ndim}, must be 1 or 2)')\n",
    "    if X.shape[-1] != len(parameter_space._parameters):\n",
    "        raise Exception(f'X has the wrong number of variables (variables={X.shape[-1]}, must be {len(parameter_space._parameters)})')\n",
    "    \n",
    "    Y = []\n",
    "\n",
    "    for (p, l, epsilon, init_skeptics) in X: # TODO: parallelize this?\n",
    "        data = run_job(p, l, epsilon, init_skeptics, init_exposures-init_skeptics, **kwargs)\n",
    "        # Y.append([run['ADOPT.I'].iat[-1] for run in data])\n",
    "        Y.append([data['ADOPT.I'].iat[-1]])\n",
    "        \n",
    "    return np.vstack(Y)"
   ],
   "metadata": {
    "collapsed": false,
    "ExecuteTime": {
     "end_time": "2024-01-14T00:08:47.144186Z",
     "start_time": "2024-01-14T00:08:47.105074400Z"
    }
   },
   "id": "cb1c34ba9ad24f90"
  },
  {
   "cell_type": "code",
   "execution_count": 97,
   "outputs": [],
   "source": [
    "design = RandomDesign(parameter_space)\n",
    "num_data_points = 5\n",
    "X = design.get_samples(num_data_points)"
   ],
   "metadata": {
    "collapsed": false,
    "ExecuteTime": {
     "end_time": "2024-01-14T00:08:47.144186Z",
     "start_time": "2024-01-14T00:08:47.119829200Z"
    }
   },
   "id": "a5ced94ccd5c878b"
  },
  {
   "cell_type": "code",
   "execution_count": 98,
   "outputs": [
    {
     "data": {
      "text/plain": "array([[ 0.13773894,  0.61219263,  2.        , 78.        ],\n       [ 0.658957  ,  0.63596732,  2.        , 44.        ],\n       [ 0.38752622,  0.49432402,  2.        ,  3.        ],\n       [ 0.68030643,  0.62002139,  2.        ,  5.        ],\n       [ 0.72109157,  0.9696176 ,  2.        , 66.        ]])"
     },
     "execution_count": 98,
     "metadata": {},
     "output_type": "execute_result"
    }
   ],
   "source": [
    "X"
   ],
   "metadata": {
    "collapsed": false,
    "ExecuteTime": {
     "end_time": "2024-01-14T00:08:47.145184400Z",
     "start_time": "2024-01-14T00:08:47.133902300Z"
    }
   },
   "id": "278c49f1065bef65"
  },
  {
   "cell_type": "code",
   "execution_count": 99,
   "outputs": [
    {
     "name": "stdout",
     "output_type": "stream",
     "text": [
      "You are about to delete /home/nyoma/FRED/RESULTS. This cannot be undone.\r\n",
      "Proceed? yes/no [no]\r\n",
      "/home/nyoma/FRED/RESULTS deleted\r\n",
      "yes: standard output: Broken pipe\r\n",
      "fred_compile SEIZ_updated_out.fred ...\r\n",
      "No errors found.\r\n",
      "\r\n",
      "FRED Warning (file SEIZ_updated_out.fred) No wait rule found for state SKEPTIC.InBetween\r\n",
      "\r\n",
      "\r\n",
      "FRED Warning (file SEIZ_updated_out.fred) No wait rule found for state ADOPT.InBetween\r\n",
      "\r\n",
      "\r\n",
      "SEIZ_updated_44fbcfde-8a8d-4518-91bd-5ad38a05d2fa_run 1\r\n",
      "(export OMP_NUM_THREADS=16 ; FRED -p /home/nyoma/FRED/RESULTS/JOB/1/WORK/SEIZ_updated_out.fred -r 1 -d /home/nyoma/FRED/RESULTS/JOB/1/OUT 2>&1 > /home/nyoma/FRED/RESULTS/JOB/1/OUT/RUN1/LOG)\r\n",
      "You are about to delete /home/nyoma/FRED/RESULTS. This cannot be undone.\r\n",
      "Proceed? yes/no [no]\r\n",
      "/home/nyoma/FRED/RESULTS deleted\r\n",
      "yes: standard output: Broken pipe\r\n",
      "fred_compile SEIZ_updated_out.fred ...\r\n",
      "No errors found.\r\n",
      "\r\n",
      "FRED Warning (file SEIZ_updated_out.fred) No wait rule found for state SKEPTIC.InBetween\r\n",
      "\r\n",
      "\r\n",
      "FRED Warning (file SEIZ_updated_out.fred) No wait rule found for state ADOPT.InBetween\r\n",
      "\r\n",
      "\r\n",
      "SEIZ_updated_241a631a-f2e1-4db6-8ed8-127e85d6e2c3_run 1\r\n",
      "(export OMP_NUM_THREADS=16 ; FRED -p /home/nyoma/FRED/RESULTS/JOB/1/WORK/SEIZ_updated_out.fred -r 1 -d /home/nyoma/FRED/RESULTS/JOB/1/OUT 2>&1 > /home/nyoma/FRED/RESULTS/JOB/1/OUT/RUN1/LOG)\r\n",
      "You are about to delete /home/nyoma/FRED/RESULTS. This cannot be undone.\r\n",
      "Proceed? yes/no [no]\r\n",
      "/home/nyoma/FRED/RESULTS deleted\r\n",
      "yes: standard output: Broken pipe\r\n",
      "fred_compile SEIZ_updated_out.fred ...\r\n",
      "No errors found.\r\n",
      "\r\n",
      "FRED Warning (file SEIZ_updated_out.fred) No wait rule found for state SKEPTIC.InBetween\r\n",
      "\r\n",
      "\r\n",
      "FRED Warning (file SEIZ_updated_out.fred) No wait rule found for state ADOPT.InBetween\r\n",
      "\r\n",
      "\r\n",
      "SEIZ_updated_5805dd2f-55b9-4913-8283-b2d5a334a714_run 1\r\n",
      "(export OMP_NUM_THREADS=16 ; FRED -p /home/nyoma/FRED/RESULTS/JOB/1/WORK/SEIZ_updated_out.fred -r 1 -d /home/nyoma/FRED/RESULTS/JOB/1/OUT 2>&1 > /home/nyoma/FRED/RESULTS/JOB/1/OUT/RUN1/LOG)\r\n",
      "You are about to delete /home/nyoma/FRED/RESULTS. This cannot be undone.\r\n",
      "Proceed? yes/no [no]\r\n",
      "/home/nyoma/FRED/RESULTS deleted\r\n",
      "yes: standard output: Broken pipe\r\n",
      "fred_compile SEIZ_updated_out.fred ...\r\n",
      "No errors found.\r\n",
      "\r\n",
      "FRED Warning (file SEIZ_updated_out.fred) No wait rule found for state SKEPTIC.InBetween\r\n",
      "\r\n",
      "\r\n",
      "FRED Warning (file SEIZ_updated_out.fred) No wait rule found for state ADOPT.InBetween\r\n",
      "\r\n",
      "\r\n",
      "SEIZ_updated_e153cf36-8ebd-4843-ab81-79788fe317b7_run 1\r\n",
      "(export OMP_NUM_THREADS=16 ; FRED -p /home/nyoma/FRED/RESULTS/JOB/1/WORK/SEIZ_updated_out.fred -r 1 -d /home/nyoma/FRED/RESULTS/JOB/1/OUT 2>&1 > /home/nyoma/FRED/RESULTS/JOB/1/OUT/RUN1/LOG)\r\n",
      "You are about to delete /home/nyoma/FRED/RESULTS. This cannot be undone.\r\n",
      "Proceed? yes/no [no]\r\n",
      "/home/nyoma/FRED/RESULTS deleted\r\n",
      "yes: standard output: Broken pipe\r\n",
      "fred_compile SEIZ_updated_out.fred ...\r\n",
      "No errors found.\r\n",
      "\r\n",
      "FRED Warning (file SEIZ_updated_out.fred) No wait rule found for state SKEPTIC.InBetween\r\n",
      "\r\n",
      "\r\n",
      "FRED Warning (file SEIZ_updated_out.fred) No wait rule found for state ADOPT.InBetween\r\n",
      "\r\n",
      "\r\n",
      "SEIZ_updated_ac01e6f5-bed9-4f79-a5a7-b65c4a50cbb5_run 1\r\n",
      "(export OMP_NUM_THREADS=16 ; FRED -p /home/nyoma/FRED/RESULTS/JOB/1/WORK/SEIZ_updated_out.fred -r 1 -d /home/nyoma/FRED/RESULTS/JOB/1/OUT 2>&1 > /home/nyoma/FRED/RESULTS/JOB/1/OUT/RUN1/LOG)\r\n"
     ]
    }
   ],
   "source": [
    "Y = sample(X, clear_results=True)"
   ],
   "metadata": {
    "collapsed": false,
    "ExecuteTime": {
     "end_time": "2024-01-14T00:13:18.194344900Z",
     "start_time": "2024-01-14T00:08:47.144186Z"
    }
   },
   "id": "d51326a96257ae1a"
  },
  {
   "cell_type": "code",
   "execution_count": 100,
   "outputs": [
    {
     "data": {
      "text/plain": "array([[32391],\n       [38665],\n       [45002],\n       [44555],\n       [ 8595]])"
     },
     "execution_count": 100,
     "metadata": {},
     "output_type": "execute_result"
    }
   ],
   "source": [
    "Y"
   ],
   "metadata": {
    "collapsed": false,
    "ExecuteTime": {
     "end_time": "2024-01-14T00:13:18.207410100Z",
     "start_time": "2024-01-14T00:13:18.203413500Z"
    }
   },
   "id": "4ca0dacfef62042c"
  },
  {
   "cell_type": "code",
   "execution_count": 101,
   "outputs": [],
   "source": [
    "model_gpy = GPRegression(X,Y)\n",
    "model_emukit = GPyModelWrapper(model_gpy)"
   ],
   "metadata": {
    "collapsed": false,
    "ExecuteTime": {
     "end_time": "2024-01-14T00:13:18.255734200Z",
     "start_time": "2024-01-14T00:13:18.210411100Z"
    }
   },
   "id": "fe0f204fc438c030"
  },
  {
   "cell_type": "code",
   "execution_count": 102,
   "outputs": [],
   "source": [
    "expected_improvement = ExpectedImprovement(model=model_emukit)"
   ],
   "metadata": {
    "collapsed": false,
    "ExecuteTime": {
     "end_time": "2024-01-14T00:13:18.255734200Z",
     "start_time": "2024-01-14T00:13:18.245679800Z"
    }
   },
   "id": "aac4e404d087b8cc"
  },
  {
   "cell_type": "code",
   "execution_count": 103,
   "outputs": [],
   "source": [
    "bayesopt_loop = BayesianOptimizationLoop(model=model_emukit,\n",
    "                                         space=parameter_space,\n",
    "                                         acquisition=expected_improvement,\n",
    "                                         batch_size=1)"
   ],
   "metadata": {
    "collapsed": false,
    "ExecuteTime": {
     "end_time": "2024-01-14T00:13:18.267730300Z",
     "start_time": "2024-01-14T00:13:18.258736800Z"
    }
   },
   "id": "1661103750b6c98"
  },
  {
   "cell_type": "code",
   "execution_count": 104,
   "outputs": [
    {
     "name": "stderr",
     "output_type": "stream",
     "text": [
      " /home/nyoma/.local/lib/python3.9/site-packages/GPy/kern/src/stationary.py:168: RuntimeWarning:overflow encountered in divide\n",
      " /home/nyoma/.local/lib/python3.9/site-packages/GPy/kern/src/rbf.py:76: RuntimeWarning:invalid value encountered in multiply\n",
      " /home/nyoma/.local/lib/python3.9/site-packages/GPy/kern/src/rbf.py:52: RuntimeWarning:overflow encountered in square\n"
     ]
    },
    {
     "name": "stdout",
     "output_type": "stream",
     "text": [
      "fred_compile SEIZ_updated_out.fred ...\r\n",
      "No errors found.\r\n",
      "\r\n",
      "FRED Warning (file SEIZ_updated_out.fred) No wait rule found for state SKEPTIC.InBetween\r\n",
      "\r\n",
      "\r\n",
      "FRED Warning (file SEIZ_updated_out.fred) No wait rule found for state ADOPT.InBetween\r\n",
      "\r\n",
      "\r\n",
      "SEIZ_updated_0173f224-733e-4cdc-8fc5-bf5cfab8da99_run 2\r\n",
      "(export OMP_NUM_THREADS=16 ; FRED -p /home/nyoma/FRED/RESULTS/JOB/2/WORK/SEIZ_updated_out.fred -r 1 -d /home/nyoma/FRED/RESULTS/JOB/2/OUT 2>&1 > /home/nyoma/FRED/RESULTS/JOB/2/OUT/RUN1/LOG)\r\n"
     ]
    },
    {
     "name": "stderr",
     "output_type": "stream",
     "text": [
      " /home/nyoma/.local/lib/python3.9/site-packages/GPy/kern/src/stationary.py:168: RuntimeWarning:overflow encountered in divide\n",
      " /home/nyoma/.local/lib/python3.9/site-packages/GPy/kern/src/rbf.py:76: RuntimeWarning:invalid value encountered in multiply\n",
      " /home/nyoma/.local/lib/python3.9/site-packages/paramz/transformations.py:111: RuntimeWarning:overflow encountered in expm1\n",
      " /home/nyoma/.local/lib/python3.9/site-packages/GPy/kern/src/rbf.py:52: RuntimeWarning:overflow encountered in square\n"
     ]
    },
    {
     "name": "stdout",
     "output_type": "stream",
     "text": [
      "fred_compile SEIZ_updated_out.fred ...\r\n",
      "No errors found.\r\n",
      "\r\n",
      "FRED Warning (file SEIZ_updated_out.fred) No wait rule found for state SKEPTIC.InBetween\r\n",
      "\r\n",
      "\r\n",
      "FRED Warning (file SEIZ_updated_out.fred) No wait rule found for state ADOPT.InBetween\r\n",
      "\r\n",
      "\r\n",
      "SEIZ_updated_cbba391a-63dc-4c4c-8a9c-b5cfa8eb9a0c_run 3\r\n",
      "(export OMP_NUM_THREADS=16 ; FRED -p /home/nyoma/FRED/RESULTS/JOB/3/WORK/SEIZ_updated_out.fred -r 1 -d /home/nyoma/FRED/RESULTS/JOB/3/OUT 2>&1 > /home/nyoma/FRED/RESULTS/JOB/3/OUT/RUN1/LOG)\r\n"
     ]
    },
    {
     "name": "stderr",
     "output_type": "stream",
     "text": [
      " /home/nyoma/.local/lib/python3.9/site-packages/GPy/kern/src/stationary.py:168: RuntimeWarning:overflow encountered in divide\n",
      " /home/nyoma/.local/lib/python3.9/site-packages/GPy/kern/src/rbf.py:76: RuntimeWarning:invalid value encountered in multiply\n",
      " /home/nyoma/.local/lib/python3.9/site-packages/paramz/transformations.py:111: RuntimeWarning:overflow encountered in expm1\n",
      " /home/nyoma/.local/lib/python3.9/site-packages/GPy/kern/src/rbf.py:52: RuntimeWarning:overflow encountered in square\n"
     ]
    },
    {
     "name": "stdout",
     "output_type": "stream",
     "text": [
      "fred_compile SEIZ_updated_out.fred ...\r\n",
      "No errors found.\r\n",
      "\r\n",
      "FRED Warning (file SEIZ_updated_out.fred) No wait rule found for state SKEPTIC.InBetween\r\n",
      "\r\n",
      "\r\n",
      "FRED Warning (file SEIZ_updated_out.fred) No wait rule found for state ADOPT.InBetween\r\n",
      "\r\n",
      "\r\n",
      "SEIZ_updated_800e3687-2cc8-47b4-8ca4-64757e05e2aa_run 4\r\n",
      "(export OMP_NUM_THREADS=16 ; FRED -p /home/nyoma/FRED/RESULTS/JOB/4/WORK/SEIZ_updated_out.fred -r 1 -d /home/nyoma/FRED/RESULTS/JOB/4/OUT 2>&1 > /home/nyoma/FRED/RESULTS/JOB/4/OUT/RUN1/LOG)\r\n"
     ]
    },
    {
     "name": "stderr",
     "output_type": "stream",
     "text": [
      " /home/nyoma/.local/lib/python3.9/site-packages/GPy/kern/src/stationary.py:168: RuntimeWarning:overflow encountered in divide\n",
      " /home/nyoma/.local/lib/python3.9/site-packages/GPy/kern/src/rbf.py:76: RuntimeWarning:invalid value encountered in multiply\n",
      " /home/nyoma/.local/lib/python3.9/site-packages/paramz/transformations.py:111: RuntimeWarning:overflow encountered in expm1\n",
      " /home/nyoma/.local/lib/python3.9/site-packages/GPy/kern/src/rbf.py:52: RuntimeWarning:overflow encountered in square\n"
     ]
    },
    {
     "name": "stdout",
     "output_type": "stream",
     "text": [
      "fred_compile SEIZ_updated_out.fred ...\r\n",
      "No errors found.\r\n",
      "\r\n",
      "FRED Warning (file SEIZ_updated_out.fred) No wait rule found for state SKEPTIC.InBetween\r\n",
      "\r\n",
      "\r\n",
      "FRED Warning (file SEIZ_updated_out.fred) No wait rule found for state ADOPT.InBetween\r\n",
      "\r\n",
      "\r\n",
      "SEIZ_updated_8c5de0f5-6fe8-44cb-b5f8-f061f55318f7_run 5\r\n",
      "(export OMP_NUM_THREADS=16 ; FRED -p /home/nyoma/FRED/RESULTS/JOB/5/WORK/SEIZ_updated_out.fred -r 1 -d /home/nyoma/FRED/RESULTS/JOB/5/OUT 2>&1 > /home/nyoma/FRED/RESULTS/JOB/5/OUT/RUN1/LOG)\r\n"
     ]
    },
    {
     "name": "stderr",
     "output_type": "stream",
     "text": [
      " /home/nyoma/.local/lib/python3.9/site-packages/GPy/kern/src/stationary.py:168: RuntimeWarning:overflow encountered in divide\n",
      " /home/nyoma/.local/lib/python3.9/site-packages/GPy/kern/src/rbf.py:76: RuntimeWarning:invalid value encountered in multiply\n",
      " /home/nyoma/.local/lib/python3.9/site-packages/paramz/transformations.py:111: RuntimeWarning:overflow encountered in expm1\n",
      " /home/nyoma/.local/lib/python3.9/site-packages/GPy/kern/src/rbf.py:52: RuntimeWarning:overflow encountered in square\n"
     ]
    },
    {
     "name": "stdout",
     "output_type": "stream",
     "text": [
      "fred_compile SEIZ_updated_out.fred ...\r\n",
      "No errors found.\r\n",
      "\r\n",
      "FRED Warning (file SEIZ_updated_out.fred) No wait rule found for state SKEPTIC.InBetween\r\n",
      "\r\n",
      "\r\n",
      "FRED Warning (file SEIZ_updated_out.fred) No wait rule found for state ADOPT.InBetween\r\n",
      "\r\n",
      "\r\n",
      "SEIZ_updated_6f2fcfc2-514e-44c7-9565-b73bd22a11df_run 6\r\n",
      "(export OMP_NUM_THREADS=16 ; FRED -p /home/nyoma/FRED/RESULTS/JOB/6/WORK/SEIZ_updated_out.fred -r 1 -d /home/nyoma/FRED/RESULTS/JOB/6/OUT 2>&1 > /home/nyoma/FRED/RESULTS/JOB/6/OUT/RUN1/LOG)\r\n"
     ]
    },
    {
     "name": "stderr",
     "output_type": "stream",
     "text": [
      " /home/nyoma/.local/lib/python3.9/site-packages/GPy/kern/src/stationary.py:168: RuntimeWarning:overflow encountered in divide\n",
      " /home/nyoma/.local/lib/python3.9/site-packages/GPy/kern/src/rbf.py:76: RuntimeWarning:invalid value encountered in multiply\n",
      " /home/nyoma/.local/lib/python3.9/site-packages/paramz/transformations.py:111: RuntimeWarning:overflow encountered in expm1\n",
      " /home/nyoma/.local/lib/python3.9/site-packages/GPy/kern/src/rbf.py:52: RuntimeWarning:overflow encountered in square\n"
     ]
    },
    {
     "name": "stdout",
     "output_type": "stream",
     "text": [
      "fred_compile SEIZ_updated_out.fred ...\r\n",
      "No errors found.\r\n",
      "\r\n",
      "FRED Warning (file SEIZ_updated_out.fred) No wait rule found for state SKEPTIC.InBetween\r\n",
      "\r\n",
      "\r\n",
      "FRED Warning (file SEIZ_updated_out.fred) No wait rule found for state ADOPT.InBetween\r\n",
      "\r\n",
      "\r\n",
      "SEIZ_updated_6b98fa11-719b-488a-a132-6116dee95620_run 7\r\n",
      "(export OMP_NUM_THREADS=16 ; FRED -p /home/nyoma/FRED/RESULTS/JOB/7/WORK/SEIZ_updated_out.fred -r 1 -d /home/nyoma/FRED/RESULTS/JOB/7/OUT 2>&1 > /home/nyoma/FRED/RESULTS/JOB/7/OUT/RUN1/LOG)\r\n"
     ]
    },
    {
     "name": "stderr",
     "output_type": "stream",
     "text": [
      " /home/nyoma/.local/lib/python3.9/site-packages/GPy/kern/src/stationary.py:168: RuntimeWarning:overflow encountered in divide\n",
      " /home/nyoma/.local/lib/python3.9/site-packages/GPy/kern/src/rbf.py:76: RuntimeWarning:invalid value encountered in multiply\n",
      " /home/nyoma/.local/lib/python3.9/site-packages/paramz/transformations.py:111: RuntimeWarning:overflow encountered in expm1\n",
      " /home/nyoma/.local/lib/python3.9/site-packages/GPy/kern/src/rbf.py:52: RuntimeWarning:overflow encountered in square\n"
     ]
    },
    {
     "name": "stdout",
     "output_type": "stream",
     "text": [
      "fred_compile SEIZ_updated_out.fred ...\r\n",
      "No errors found.\r\n",
      "\r\n",
      "FRED Warning (file SEIZ_updated_out.fred) No wait rule found for state SKEPTIC.InBetween\r\n",
      "\r\n",
      "\r\n",
      "FRED Warning (file SEIZ_updated_out.fred) No wait rule found for state ADOPT.InBetween\r\n",
      "\r\n",
      "\r\n",
      "SEIZ_updated_3e238f66-c1c2-471c-93e6-41b485c253f3_run 8\r\n",
      "(export OMP_NUM_THREADS=16 ; FRED -p /home/nyoma/FRED/RESULTS/JOB/8/WORK/SEIZ_updated_out.fred -r 1 -d /home/nyoma/FRED/RESULTS/JOB/8/OUT 2>&1 > /home/nyoma/FRED/RESULTS/JOB/8/OUT/RUN1/LOG)\r\n"
     ]
    },
    {
     "name": "stderr",
     "output_type": "stream",
     "text": [
      " /home/nyoma/.local/lib/python3.9/site-packages/GPy/kern/src/stationary.py:168: RuntimeWarning:overflow encountered in divide\n",
      " /home/nyoma/.local/lib/python3.9/site-packages/GPy/kern/src/rbf.py:76: RuntimeWarning:invalid value encountered in multiply\n",
      " /home/nyoma/.local/lib/python3.9/site-packages/paramz/transformations.py:111: RuntimeWarning:overflow encountered in expm1\n",
      " /home/nyoma/.local/lib/python3.9/site-packages/GPy/kern/src/rbf.py:52: RuntimeWarning:overflow encountered in square\n"
     ]
    },
    {
     "name": "stdout",
     "output_type": "stream",
     "text": [
      "fred_compile SEIZ_updated_out.fred ...\r\n",
      "No errors found.\r\n",
      "\r\n",
      "FRED Warning (file SEIZ_updated_out.fred) No wait rule found for state SKEPTIC.InBetween\r\n",
      "\r\n",
      "\r\n",
      "FRED Warning (file SEIZ_updated_out.fred) No wait rule found for state ADOPT.InBetween\r\n",
      "\r\n",
      "\r\n",
      "SEIZ_updated_832e9f16-66f8-4ae9-9310-56a58a5d41f0_run 9\r\n",
      "(export OMP_NUM_THREADS=16 ; FRED -p /home/nyoma/FRED/RESULTS/JOB/9/WORK/SEIZ_updated_out.fred -r 1 -d /home/nyoma/FRED/RESULTS/JOB/9/OUT 2>&1 > /home/nyoma/FRED/RESULTS/JOB/9/OUT/RUN1/LOG)\r\n"
     ]
    },
    {
     "name": "stderr",
     "output_type": "stream",
     "text": [
      " /home/nyoma/.local/lib/python3.9/site-packages/GPy/kern/src/stationary.py:168: RuntimeWarning:overflow encountered in divide\n",
      " /home/nyoma/.local/lib/python3.9/site-packages/GPy/kern/src/rbf.py:76: RuntimeWarning:invalid value encountered in multiply\n",
      " /home/nyoma/.local/lib/python3.9/site-packages/paramz/transformations.py:111: RuntimeWarning:overflow encountered in expm1\n",
      " /home/nyoma/.local/lib/python3.9/site-packages/GPy/kern/src/rbf.py:52: RuntimeWarning:overflow encountered in square\n"
     ]
    },
    {
     "name": "stdout",
     "output_type": "stream",
     "text": [
      "fred_compile SEIZ_updated_out.fred ...\r\n",
      "No errors found.\r\n",
      "\r\n",
      "FRED Warning (file SEIZ_updated_out.fred) No wait rule found for state SKEPTIC.InBetween\r\n",
      "\r\n",
      "\r\n",
      "FRED Warning (file SEIZ_updated_out.fred) No wait rule found for state ADOPT.InBetween\r\n",
      "\r\n",
      "\r\n",
      "SEIZ_updated_5704fd3b-6e2c-4f07-a64d-977e2b8c1838_run 10\r\n",
      "(export OMP_NUM_THREADS=16 ; FRED -p /home/nyoma/FRED/RESULTS/JOB/10/WORK/SEIZ_updated_out.fred -r 1 -d /home/nyoma/FRED/RESULTS/JOB/10/OUT 2>&1 > /home/nyoma/FRED/RESULTS/JOB/10/OUT/RUN1/LOG)\r\n"
     ]
    },
    {
     "name": "stderr",
     "output_type": "stream",
     "text": [
      " /home/nyoma/.local/lib/python3.9/site-packages/GPy/kern/src/stationary.py:168: RuntimeWarning:overflow encountered in divide\n",
      " /home/nyoma/.local/lib/python3.9/site-packages/GPy/kern/src/rbf.py:76: RuntimeWarning:invalid value encountered in multiply\n",
      " /home/nyoma/.local/lib/python3.9/site-packages/paramz/transformations.py:111: RuntimeWarning:overflow encountered in expm1\n",
      " /home/nyoma/.local/lib/python3.9/site-packages/GPy/kern/src/rbf.py:52: RuntimeWarning:overflow encountered in square\n"
     ]
    },
    {
     "name": "stdout",
     "output_type": "stream",
     "text": [
      "fred_compile SEIZ_updated_out.fred ...\r\n",
      "No errors found.\r\n",
      "\r\n",
      "FRED Warning (file SEIZ_updated_out.fred) No wait rule found for state SKEPTIC.InBetween\r\n",
      "\r\n",
      "\r\n",
      "FRED Warning (file SEIZ_updated_out.fred) No wait rule found for state ADOPT.InBetween\r\n",
      "\r\n",
      "\r\n",
      "SEIZ_updated_82652c2d-056b-436b-a957-c56fad82d3d7_run 11\r\n",
      "(export OMP_NUM_THREADS=16 ; FRED -p /home/nyoma/FRED/RESULTS/JOB/11/WORK/SEIZ_updated_out.fred -r 1 -d /home/nyoma/FRED/RESULTS/JOB/11/OUT 2>&1 > /home/nyoma/FRED/RESULTS/JOB/11/OUT/RUN1/LOG)\r\n"
     ]
    },
    {
     "name": "stderr",
     "output_type": "stream",
     "text": [
      " /home/nyoma/.local/lib/python3.9/site-packages/GPy/kern/src/stationary.py:168: RuntimeWarning:overflow encountered in divide\n",
      " /home/nyoma/.local/lib/python3.9/site-packages/GPy/kern/src/rbf.py:76: RuntimeWarning:invalid value encountered in multiply\n",
      " /home/nyoma/.local/lib/python3.9/site-packages/paramz/transformations.py:111: RuntimeWarning:overflow encountered in expm1\n",
      " /home/nyoma/.local/lib/python3.9/site-packages/GPy/kern/src/rbf.py:52: RuntimeWarning:overflow encountered in square\n"
     ]
    },
    {
     "name": "stdout",
     "output_type": "stream",
     "text": [
      "fred_compile SEIZ_updated_out.fred ...\r\n",
      "No errors found.\r\n",
      "\r\n",
      "FRED Warning (file SEIZ_updated_out.fred) No wait rule found for state SKEPTIC.InBetween\r\n",
      "\r\n",
      "\r\n",
      "FRED Warning (file SEIZ_updated_out.fred) No wait rule found for state ADOPT.InBetween\r\n",
      "\r\n",
      "\r\n",
      "SEIZ_updated_e117321b-a542-4707-ab7c-0f19c1164c7c_run 12\r\n",
      "(export OMP_NUM_THREADS=16 ; FRED -p /home/nyoma/FRED/RESULTS/JOB/12/WORK/SEIZ_updated_out.fred -r 1 -d /home/nyoma/FRED/RESULTS/JOB/12/OUT 2>&1 > /home/nyoma/FRED/RESULTS/JOB/12/OUT/RUN1/LOG)\r\n"
     ]
    },
    {
     "name": "stderr",
     "output_type": "stream",
     "text": [
      " /home/nyoma/.local/lib/python3.9/site-packages/GPy/kern/src/stationary.py:168: RuntimeWarning:overflow encountered in divide\n",
      " /home/nyoma/.local/lib/python3.9/site-packages/GPy/kern/src/rbf.py:76: RuntimeWarning:invalid value encountered in multiply\n",
      " /home/nyoma/.local/lib/python3.9/site-packages/paramz/transformations.py:111: RuntimeWarning:overflow encountered in expm1\n",
      " /home/nyoma/.local/lib/python3.9/site-packages/GPy/kern/src/rbf.py:52: RuntimeWarning:overflow encountered in square\n"
     ]
    },
    {
     "name": "stdout",
     "output_type": "stream",
     "text": [
      "fred_compile SEIZ_updated_out.fred ...\r\n",
      "No errors found.\r\n",
      "\r\n",
      "FRED Warning (file SEIZ_updated_out.fred) No wait rule found for state SKEPTIC.InBetween\r\n",
      "\r\n",
      "\r\n",
      "FRED Warning (file SEIZ_updated_out.fred) No wait rule found for state ADOPT.InBetween\r\n",
      "\r\n",
      "\r\n",
      "SEIZ_updated_65bf8eb8-9460-45b6-a5fe-6b7a4aa16cad_run 13\r\n",
      "(export OMP_NUM_THREADS=16 ; FRED -p /home/nyoma/FRED/RESULTS/JOB/13/WORK/SEIZ_updated_out.fred -r 1 -d /home/nyoma/FRED/RESULTS/JOB/13/OUT 2>&1 > /home/nyoma/FRED/RESULTS/JOB/13/OUT/RUN1/LOG)\r\n"
     ]
    },
    {
     "name": "stderr",
     "output_type": "stream",
     "text": [
      " /home/nyoma/.local/lib/python3.9/site-packages/GPy/kern/src/stationary.py:168: RuntimeWarning:overflow encountered in divide\n",
      " /home/nyoma/.local/lib/python3.9/site-packages/GPy/kern/src/rbf.py:76: RuntimeWarning:invalid value encountered in multiply\n",
      " /home/nyoma/.local/lib/python3.9/site-packages/paramz/transformations.py:111: RuntimeWarning:overflow encountered in expm1\n",
      " /home/nyoma/.local/lib/python3.9/site-packages/GPy/kern/src/rbf.py:52: RuntimeWarning:overflow encountered in square\n"
     ]
    },
    {
     "name": "stdout",
     "output_type": "stream",
     "text": [
      "fred_compile SEIZ_updated_out.fred ...\r\n",
      "No errors found.\r\n",
      "\r\n",
      "FRED Warning (file SEIZ_updated_out.fred) No wait rule found for state SKEPTIC.InBetween\r\n",
      "\r\n",
      "\r\n",
      "FRED Warning (file SEIZ_updated_out.fred) No wait rule found for state ADOPT.InBetween\r\n",
      "\r\n",
      "\r\n",
      "SEIZ_updated_7997297b-47a2-4b59-91b1-ef7c9233ce09_run 14\r\n",
      "(export OMP_NUM_THREADS=16 ; FRED -p /home/nyoma/FRED/RESULTS/JOB/14/WORK/SEIZ_updated_out.fred -r 1 -d /home/nyoma/FRED/RESULTS/JOB/14/OUT 2>&1 > /home/nyoma/FRED/RESULTS/JOB/14/OUT/RUN1/LOG)\r\n"
     ]
    },
    {
     "name": "stderr",
     "output_type": "stream",
     "text": [
      " /home/nyoma/.local/lib/python3.9/site-packages/GPy/kern/src/stationary.py:168: RuntimeWarning:overflow encountered in divide\n",
      " /home/nyoma/.local/lib/python3.9/site-packages/GPy/kern/src/rbf.py:76: RuntimeWarning:invalid value encountered in multiply\n",
      " /home/nyoma/.local/lib/python3.9/site-packages/paramz/transformations.py:111: RuntimeWarning:overflow encountered in expm1\n",
      " /home/nyoma/.local/lib/python3.9/site-packages/GPy/kern/src/rbf.py:52: RuntimeWarning:overflow encountered in square\n"
     ]
    },
    {
     "name": "stdout",
     "output_type": "stream",
     "text": [
      "fred_compile SEIZ_updated_out.fred ...\r\n",
      "No errors found.\r\n",
      "\r\n",
      "FRED Warning (file SEIZ_updated_out.fred) No wait rule found for state SKEPTIC.InBetween\r\n",
      "\r\n",
      "\r\n",
      "FRED Warning (file SEIZ_updated_out.fred) No wait rule found for state ADOPT.InBetween\r\n",
      "\r\n",
      "\r\n",
      "SEIZ_updated_7bc9e7ad-ce3d-491d-a2c0-fdddb35c2431_run 15\r\n",
      "(export OMP_NUM_THREADS=16 ; FRED -p /home/nyoma/FRED/RESULTS/JOB/15/WORK/SEIZ_updated_out.fred -r 1 -d /home/nyoma/FRED/RESULTS/JOB/15/OUT 2>&1 > /home/nyoma/FRED/RESULTS/JOB/15/OUT/RUN1/LOG)\r\n"
     ]
    },
    {
     "name": "stderr",
     "output_type": "stream",
     "text": [
      " /home/nyoma/.local/lib/python3.9/site-packages/GPy/kern/src/stationary.py:168: RuntimeWarning:overflow encountered in divide\n",
      " /home/nyoma/.local/lib/python3.9/site-packages/GPy/kern/src/rbf.py:76: RuntimeWarning:invalid value encountered in multiply\n",
      " /home/nyoma/.local/lib/python3.9/site-packages/paramz/transformations.py:111: RuntimeWarning:overflow encountered in expm1\n",
      " /home/nyoma/.local/lib/python3.9/site-packages/GPy/kern/src/rbf.py:52: RuntimeWarning:overflow encountered in square\n"
     ]
    },
    {
     "name": "stdout",
     "output_type": "stream",
     "text": [
      "fred_compile SEIZ_updated_out.fred ...\r\n",
      "No errors found.\r\n",
      "\r\n",
      "FRED Warning (file SEIZ_updated_out.fred) No wait rule found for state SKEPTIC.InBetween\r\n",
      "\r\n",
      "\r\n",
      "FRED Warning (file SEIZ_updated_out.fred) No wait rule found for state ADOPT.InBetween\r\n",
      "\r\n",
      "\r\n",
      "SEIZ_updated_d14058a7-c5fe-4fd4-9700-599cb6b66bcf_run 16\r\n",
      "(export OMP_NUM_THREADS=16 ; FRED -p /home/nyoma/FRED/RESULTS/JOB/16/WORK/SEIZ_updated_out.fred -r 1 -d /home/nyoma/FRED/RESULTS/JOB/16/OUT 2>&1 > /home/nyoma/FRED/RESULTS/JOB/16/OUT/RUN1/LOG)\r\n"
     ]
    },
    {
     "name": "stderr",
     "output_type": "stream",
     "text": [
      " /home/nyoma/.local/lib/python3.9/site-packages/GPy/kern/src/stationary.py:168: RuntimeWarning:overflow encountered in divide\n",
      " /home/nyoma/.local/lib/python3.9/site-packages/GPy/kern/src/rbf.py:76: RuntimeWarning:invalid value encountered in multiply\n",
      " /home/nyoma/.local/lib/python3.9/site-packages/paramz/transformations.py:111: RuntimeWarning:overflow encountered in expm1\n",
      " /home/nyoma/.local/lib/python3.9/site-packages/GPy/kern/src/rbf.py:52: RuntimeWarning:overflow encountered in square\n"
     ]
    },
    {
     "name": "stdout",
     "output_type": "stream",
     "text": [
      "fred_compile SEIZ_updated_out.fred ...\r\n",
      "No errors found.\r\n",
      "\r\n",
      "FRED Warning (file SEIZ_updated_out.fred) No wait rule found for state SKEPTIC.InBetween\r\n",
      "\r\n",
      "\r\n",
      "FRED Warning (file SEIZ_updated_out.fred) No wait rule found for state ADOPT.InBetween\r\n",
      "\r\n",
      "\r\n",
      "SEIZ_updated_cd693484-17b0-43f6-b600-54f7f2e0d2be_run 17\r\n",
      "(export OMP_NUM_THREADS=16 ; FRED -p /home/nyoma/FRED/RESULTS/JOB/17/WORK/SEIZ_updated_out.fred -r 1 -d /home/nyoma/FRED/RESULTS/JOB/17/OUT 2>&1 > /home/nyoma/FRED/RESULTS/JOB/17/OUT/RUN1/LOG)\r\n"
     ]
    },
    {
     "name": "stderr",
     "output_type": "stream",
     "text": [
      " /home/nyoma/.local/lib/python3.9/site-packages/GPy/kern/src/stationary.py:168: RuntimeWarning:overflow encountered in divide\n",
      " /home/nyoma/.local/lib/python3.9/site-packages/GPy/kern/src/rbf.py:76: RuntimeWarning:invalid value encountered in multiply\n",
      " /home/nyoma/.local/lib/python3.9/site-packages/paramz/transformations.py:111: RuntimeWarning:overflow encountered in expm1\n",
      " /home/nyoma/.local/lib/python3.9/site-packages/GPy/kern/src/rbf.py:52: RuntimeWarning:overflow encountered in square\n"
     ]
    },
    {
     "name": "stdout",
     "output_type": "stream",
     "text": [
      "fred_compile SEIZ_updated_out.fred ...\r\n",
      "No errors found.\r\n",
      "\r\n",
      "FRED Warning (file SEIZ_updated_out.fred) No wait rule found for state SKEPTIC.InBetween\r\n",
      "\r\n",
      "\r\n",
      "FRED Warning (file SEIZ_updated_out.fred) No wait rule found for state ADOPT.InBetween\r\n",
      "\r\n",
      "\r\n",
      "SEIZ_updated_a566268e-c801-45eb-b054-bfde69df2e2d_run 18\r\n",
      "(export OMP_NUM_THREADS=16 ; FRED -p /home/nyoma/FRED/RESULTS/JOB/18/WORK/SEIZ_updated_out.fred -r 1 -d /home/nyoma/FRED/RESULTS/JOB/18/OUT 2>&1 > /home/nyoma/FRED/RESULTS/JOB/18/OUT/RUN1/LOG)\r\n"
     ]
    },
    {
     "name": "stderr",
     "output_type": "stream",
     "text": [
      " /home/nyoma/.local/lib/python3.9/site-packages/GPy/kern/src/stationary.py:168: RuntimeWarning:overflow encountered in divide\n",
      " /home/nyoma/.local/lib/python3.9/site-packages/GPy/kern/src/rbf.py:76: RuntimeWarning:invalid value encountered in multiply\n",
      " /home/nyoma/.local/lib/python3.9/site-packages/paramz/transformations.py:111: RuntimeWarning:overflow encountered in expm1\n",
      " /home/nyoma/.local/lib/python3.9/site-packages/GPy/kern/src/rbf.py:52: RuntimeWarning:overflow encountered in square\n"
     ]
    },
    {
     "name": "stdout",
     "output_type": "stream",
     "text": [
      "fred_compile SEIZ_updated_out.fred ...\r\n",
      "No errors found.\r\n",
      "\r\n",
      "FRED Warning (file SEIZ_updated_out.fred) No wait rule found for state SKEPTIC.InBetween\r\n",
      "\r\n",
      "\r\n",
      "FRED Warning (file SEIZ_updated_out.fred) No wait rule found for state ADOPT.InBetween\r\n",
      "\r\n",
      "\r\n",
      "SEIZ_updated_0dd2eb1a-8511-43f0-866c-ddf6b8e482d1_run 19\r\n",
      "(export OMP_NUM_THREADS=16 ; FRED -p /home/nyoma/FRED/RESULTS/JOB/19/WORK/SEIZ_updated_out.fred -r 1 -d /home/nyoma/FRED/RESULTS/JOB/19/OUT 2>&1 > /home/nyoma/FRED/RESULTS/JOB/19/OUT/RUN1/LOG)\r\n"
     ]
    },
    {
     "name": "stderr",
     "output_type": "stream",
     "text": [
      " /home/nyoma/.local/lib/python3.9/site-packages/GPy/kern/src/stationary.py:168: RuntimeWarning:overflow encountered in divide\n",
      " /home/nyoma/.local/lib/python3.9/site-packages/GPy/kern/src/rbf.py:52: RuntimeWarning:overflow encountered in square\n",
      " /home/nyoma/.local/lib/python3.9/site-packages/GPy/kern/src/rbf.py:76: RuntimeWarning:invalid value encountered in multiply\n",
      " /home/nyoma/.local/lib/python3.9/site-packages/paramz/transformations.py:111: RuntimeWarning:overflow encountered in expm1\n"
     ]
    },
    {
     "name": "stdout",
     "output_type": "stream",
     "text": [
      "fred_compile SEIZ_updated_out.fred ...\r\n",
      "No errors found.\r\n",
      "\r\n",
      "FRED Warning (file SEIZ_updated_out.fred) No wait rule found for state SKEPTIC.InBetween\r\n",
      "\r\n",
      "\r\n",
      "FRED Warning (file SEIZ_updated_out.fred) No wait rule found for state ADOPT.InBetween\r\n",
      "\r\n",
      "\r\n",
      "SEIZ_updated_a8e93fe6-bc5f-4839-b5c0-7bc1fcdc2d54_run 20\r\n",
      "(export OMP_NUM_THREADS=16 ; FRED -p /home/nyoma/FRED/RESULTS/JOB/20/WORK/SEIZ_updated_out.fred -r 1 -d /home/nyoma/FRED/RESULTS/JOB/20/OUT 2>&1 > /home/nyoma/FRED/RESULTS/JOB/20/OUT/RUN1/LOG)\r\n"
     ]
    },
    {
     "name": "stderr",
     "output_type": "stream",
     "text": [
      " /home/nyoma/.local/lib/python3.9/site-packages/GPy/kern/src/stationary.py:168: RuntimeWarning:overflow encountered in divide\n",
      " /home/nyoma/.local/lib/python3.9/site-packages/GPy/kern/src/rbf.py:52: RuntimeWarning:overflow encountered in square\n",
      " /home/nyoma/.local/lib/python3.9/site-packages/GPy/kern/src/rbf.py:76: RuntimeWarning:invalid value encountered in multiply\n",
      " /home/nyoma/.local/lib/python3.9/site-packages/paramz/transformations.py:111: RuntimeWarning:overflow encountered in expm1\n"
     ]
    },
    {
     "name": "stdout",
     "output_type": "stream",
     "text": [
      "fred_compile SEIZ_updated_out.fred ...\r\n",
      "No errors found.\r\n",
      "\r\n",
      "FRED Warning (file SEIZ_updated_out.fred) No wait rule found for state SKEPTIC.InBetween\r\n",
      "\r\n",
      "\r\n",
      "FRED Warning (file SEIZ_updated_out.fred) No wait rule found for state ADOPT.InBetween\r\n",
      "\r\n",
      "\r\n",
      "SEIZ_updated_ea8f6dd4-2897-4013-a728-c2e4f39531e9_run 21\r\n",
      "(export OMP_NUM_THREADS=16 ; FRED -p /home/nyoma/FRED/RESULTS/JOB/21/WORK/SEIZ_updated_out.fred -r 1 -d /home/nyoma/FRED/RESULTS/JOB/21/OUT 2>&1 > /home/nyoma/FRED/RESULTS/JOB/21/OUT/RUN1/LOG)\r\n"
     ]
    },
    {
     "name": "stderr",
     "output_type": "stream",
     "text": [
      " /home/nyoma/.local/lib/python3.9/site-packages/GPy/kern/src/stationary.py:168: RuntimeWarning:overflow encountered in divide\n",
      " /home/nyoma/.local/lib/python3.9/site-packages/GPy/kern/src/rbf.py:52: RuntimeWarning:overflow encountered in square\n",
      " /home/nyoma/.local/lib/python3.9/site-packages/GPy/kern/src/rbf.py:76: RuntimeWarning:invalid value encountered in multiply\n",
      " /home/nyoma/.local/lib/python3.9/site-packages/paramz/transformations.py:111: RuntimeWarning:overflow encountered in expm1\n"
     ]
    },
    {
     "name": "stdout",
     "output_type": "stream",
     "text": [
      "fred_compile SEIZ_updated_out.fred ...\r\n",
      "No errors found.\r\n",
      "\r\n",
      "FRED Warning (file SEIZ_updated_out.fred) No wait rule found for state SKEPTIC.InBetween\r\n",
      "\r\n",
      "\r\n",
      "FRED Warning (file SEIZ_updated_out.fred) No wait rule found for state ADOPT.InBetween\r\n",
      "\r\n",
      "\r\n",
      "SEIZ_updated_8a860cad-7004-498c-86ca-2085e92d7744_run 22\r\n",
      "(export OMP_NUM_THREADS=16 ; FRED -p /home/nyoma/FRED/RESULTS/JOB/22/WORK/SEIZ_updated_out.fred -r 1 -d /home/nyoma/FRED/RESULTS/JOB/22/OUT 2>&1 > /home/nyoma/FRED/RESULTS/JOB/22/OUT/RUN1/LOG)\r\n"
     ]
    },
    {
     "name": "stderr",
     "output_type": "stream",
     "text": [
      " /home/nyoma/.local/lib/python3.9/site-packages/GPy/kern/src/stationary.py:168: RuntimeWarning:overflow encountered in divide\n",
      " /home/nyoma/.local/lib/python3.9/site-packages/GPy/kern/src/rbf.py:52: RuntimeWarning:overflow encountered in square\n",
      " /home/nyoma/.local/lib/python3.9/site-packages/GPy/kern/src/rbf.py:76: RuntimeWarning:invalid value encountered in multiply\n",
      " /home/nyoma/.local/lib/python3.9/site-packages/paramz/transformations.py:111: RuntimeWarning:overflow encountered in expm1\n"
     ]
    },
    {
     "name": "stdout",
     "output_type": "stream",
     "text": [
      "fred_compile SEIZ_updated_out.fred ...\r\n",
      "No errors found.\r\n",
      "\r\n",
      "FRED Warning (file SEIZ_updated_out.fred) No wait rule found for state SKEPTIC.InBetween\r\n",
      "\r\n",
      "\r\n",
      "FRED Warning (file SEIZ_updated_out.fred) No wait rule found for state ADOPT.InBetween\r\n",
      "\r\n",
      "\r\n",
      "SEIZ_updated_443fc793-603a-46bd-9b7d-e7e37bdb733b_run 23\r\n",
      "(export OMP_NUM_THREADS=16 ; FRED -p /home/nyoma/FRED/RESULTS/JOB/23/WORK/SEIZ_updated_out.fred -r 1 -d /home/nyoma/FRED/RESULTS/JOB/23/OUT 2>&1 > /home/nyoma/FRED/RESULTS/JOB/23/OUT/RUN1/LOG)\r\n"
     ]
    },
    {
     "name": "stderr",
     "output_type": "stream",
     "text": [
      " /home/nyoma/.local/lib/python3.9/site-packages/GPy/kern/src/stationary.py:168: RuntimeWarning:overflow encountered in divide\n",
      " /home/nyoma/.local/lib/python3.9/site-packages/GPy/kern/src/rbf.py:52: RuntimeWarning:overflow encountered in square\n",
      " /home/nyoma/.local/lib/python3.9/site-packages/GPy/kern/src/rbf.py:76: RuntimeWarning:invalid value encountered in multiply\n",
      " /home/nyoma/.local/lib/python3.9/site-packages/paramz/transformations.py:111: RuntimeWarning:overflow encountered in expm1\n"
     ]
    },
    {
     "name": "stdout",
     "output_type": "stream",
     "text": [
      "fred_compile SEIZ_updated_out.fred ...\r\n",
      "No errors found.\r\n",
      "\r\n",
      "FRED Warning (file SEIZ_updated_out.fred) No wait rule found for state SKEPTIC.InBetween\r\n",
      "\r\n",
      "\r\n",
      "FRED Warning (file SEIZ_updated_out.fred) No wait rule found for state ADOPT.InBetween\r\n",
      "\r\n",
      "\r\n",
      "SEIZ_updated_ed1c3f61-3921-48bb-ba9e-d826e504f00e_run 24\r\n",
      "(export OMP_NUM_THREADS=16 ; FRED -p /home/nyoma/FRED/RESULTS/JOB/24/WORK/SEIZ_updated_out.fred -r 1 -d /home/nyoma/FRED/RESULTS/JOB/24/OUT 2>&1 > /home/nyoma/FRED/RESULTS/JOB/24/OUT/RUN1/LOG)\r\n"
     ]
    },
    {
     "name": "stderr",
     "output_type": "stream",
     "text": [
      " /home/nyoma/.local/lib/python3.9/site-packages/GPy/kern/src/stationary.py:168: RuntimeWarning:overflow encountered in divide\n",
      " /home/nyoma/.local/lib/python3.9/site-packages/GPy/kern/src/rbf.py:52: RuntimeWarning:overflow encountered in square\n",
      " /home/nyoma/.local/lib/python3.9/site-packages/GPy/kern/src/rbf.py:76: RuntimeWarning:invalid value encountered in multiply\n",
      " /home/nyoma/.local/lib/python3.9/site-packages/paramz/transformations.py:111: RuntimeWarning:overflow encountered in expm1\n"
     ]
    },
    {
     "name": "stdout",
     "output_type": "stream",
     "text": [
      "fred_compile SEIZ_updated_out.fred ...\r\n",
      "No errors found.\r\n",
      "\r\n",
      "FRED Warning (file SEIZ_updated_out.fred) No wait rule found for state SKEPTIC.InBetween\r\n",
      "\r\n",
      "\r\n",
      "FRED Warning (file SEIZ_updated_out.fred) No wait rule found for state ADOPT.InBetween\r\n",
      "\r\n",
      "\r\n",
      "SEIZ_updated_99dced4c-613e-4976-a21d-0a0037fdb4ab_run 25\r\n",
      "(export OMP_NUM_THREADS=16 ; FRED -p /home/nyoma/FRED/RESULTS/JOB/25/WORK/SEIZ_updated_out.fred -r 1 -d /home/nyoma/FRED/RESULTS/JOB/25/OUT 2>&1 > /home/nyoma/FRED/RESULTS/JOB/25/OUT/RUN1/LOG)\r\n"
     ]
    },
    {
     "name": "stderr",
     "output_type": "stream",
     "text": [
      " /home/nyoma/.local/lib/python3.9/site-packages/GPy/kern/src/stationary.py:168: RuntimeWarning:overflow encountered in divide\n",
      " /home/nyoma/.local/lib/python3.9/site-packages/GPy/kern/src/rbf.py:52: RuntimeWarning:overflow encountered in square\n",
      " /home/nyoma/.local/lib/python3.9/site-packages/GPy/kern/src/rbf.py:76: RuntimeWarning:invalid value encountered in multiply\n",
      " /home/nyoma/.local/lib/python3.9/site-packages/paramz/transformations.py:111: RuntimeWarning:overflow encountered in expm1\n"
     ]
    },
    {
     "name": "stdout",
     "output_type": "stream",
     "text": [
      "fred_compile SEIZ_updated_out.fred ...\r\n",
      "No errors found.\r\n",
      "\r\n",
      "FRED Warning (file SEIZ_updated_out.fred) No wait rule found for state SKEPTIC.InBetween\r\n",
      "\r\n",
      "\r\n",
      "FRED Warning (file SEIZ_updated_out.fred) No wait rule found for state ADOPT.InBetween\r\n",
      "\r\n",
      "\r\n",
      "SEIZ_updated_cf3c9aab-f99e-483e-a2c1-e899f3b31c7f_run 26\r\n",
      "(export OMP_NUM_THREADS=16 ; FRED -p /home/nyoma/FRED/RESULTS/JOB/26/WORK/SEIZ_updated_out.fred -r 1 -d /home/nyoma/FRED/RESULTS/JOB/26/OUT 2>&1 > /home/nyoma/FRED/RESULTS/JOB/26/OUT/RUN1/LOG)\r\n"
     ]
    },
    {
     "name": "stderr",
     "output_type": "stream",
     "text": [
      " /home/nyoma/.local/lib/python3.9/site-packages/GPy/kern/src/stationary.py:168: RuntimeWarning:overflow encountered in divide\n",
      " /home/nyoma/.local/lib/python3.9/site-packages/GPy/kern/src/rbf.py:52: RuntimeWarning:overflow encountered in square\n",
      " /home/nyoma/.local/lib/python3.9/site-packages/GPy/kern/src/rbf.py:76: RuntimeWarning:invalid value encountered in multiply\n",
      " /home/nyoma/.local/lib/python3.9/site-packages/paramz/transformations.py:111: RuntimeWarning:overflow encountered in expm1\n"
     ]
    },
    {
     "name": "stdout",
     "output_type": "stream",
     "text": [
      "fred_compile SEIZ_updated_out.fred ...\r\n",
      "No errors found.\r\n",
      "\r\n",
      "FRED Warning (file SEIZ_updated_out.fred) No wait rule found for state SKEPTIC.InBetween\r\n",
      "\r\n",
      "\r\n",
      "FRED Warning (file SEIZ_updated_out.fred) No wait rule found for state ADOPT.InBetween\r\n",
      "\r\n",
      "\r\n",
      "SEIZ_updated_216b0f68-a978-402d-916b-a1baeb6064ce_run 27\r\n",
      "(export OMP_NUM_THREADS=16 ; FRED -p /home/nyoma/FRED/RESULTS/JOB/27/WORK/SEIZ_updated_out.fred -r 1 -d /home/nyoma/FRED/RESULTS/JOB/27/OUT 2>&1 > /home/nyoma/FRED/RESULTS/JOB/27/OUT/RUN1/LOG)\r\n"
     ]
    },
    {
     "name": "stderr",
     "output_type": "stream",
     "text": [
      " /home/nyoma/.local/lib/python3.9/site-packages/GPy/kern/src/stationary.py:168: RuntimeWarning:overflow encountered in divide\n",
      " /home/nyoma/.local/lib/python3.9/site-packages/GPy/kern/src/rbf.py:52: RuntimeWarning:overflow encountered in square\n",
      " /home/nyoma/.local/lib/python3.9/site-packages/GPy/kern/src/rbf.py:76: RuntimeWarning:invalid value encountered in multiply\n",
      " /home/nyoma/.local/lib/python3.9/site-packages/paramz/transformations.py:111: RuntimeWarning:overflow encountered in expm1\n"
     ]
    },
    {
     "name": "stdout",
     "output_type": "stream",
     "text": [
      "fred_compile SEIZ_updated_out.fred ...\r\n",
      "No errors found.\r\n",
      "\r\n",
      "FRED Warning (file SEIZ_updated_out.fred) No wait rule found for state SKEPTIC.InBetween\r\n",
      "\r\n",
      "\r\n",
      "FRED Warning (file SEIZ_updated_out.fred) No wait rule found for state ADOPT.InBetween\r\n",
      "\r\n",
      "\r\n",
      "SEIZ_updated_b6c21fc6-e96f-4de8-95cb-0cecbacdbe5f_run 28\r\n",
      "(export OMP_NUM_THREADS=16 ; FRED -p /home/nyoma/FRED/RESULTS/JOB/28/WORK/SEIZ_updated_out.fred -r 1 -d /home/nyoma/FRED/RESULTS/JOB/28/OUT 2>&1 > /home/nyoma/FRED/RESULTS/JOB/28/OUT/RUN1/LOG)\r\n"
     ]
    },
    {
     "name": "stderr",
     "output_type": "stream",
     "text": [
      " /home/nyoma/.local/lib/python3.9/site-packages/GPy/kern/src/stationary.py:168: RuntimeWarning:overflow encountered in divide\n",
      " /home/nyoma/.local/lib/python3.9/site-packages/GPy/kern/src/rbf.py:52: RuntimeWarning:overflow encountered in square\n",
      " /home/nyoma/.local/lib/python3.9/site-packages/GPy/kern/src/rbf.py:76: RuntimeWarning:invalid value encountered in multiply\n",
      " /home/nyoma/.local/lib/python3.9/site-packages/paramz/transformations.py:111: RuntimeWarning:overflow encountered in expm1\n"
     ]
    },
    {
     "name": "stdout",
     "output_type": "stream",
     "text": [
      "fred_compile SEIZ_updated_out.fred ...\r\n",
      "No errors found.\r\n",
      "\r\n",
      "FRED Warning (file SEIZ_updated_out.fred) No wait rule found for state SKEPTIC.InBetween\r\n",
      "\r\n",
      "\r\n",
      "FRED Warning (file SEIZ_updated_out.fred) No wait rule found for state ADOPT.InBetween\r\n",
      "\r\n",
      "\r\n",
      "SEIZ_updated_1eb5a3f6-cff4-4c00-9957-cc7953f5cd7f_run 29\r\n",
      "(export OMP_NUM_THREADS=16 ; FRED -p /home/nyoma/FRED/RESULTS/JOB/29/WORK/SEIZ_updated_out.fred -r 1 -d /home/nyoma/FRED/RESULTS/JOB/29/OUT 2>&1 > /home/nyoma/FRED/RESULTS/JOB/29/OUT/RUN1/LOG)\r\n"
     ]
    },
    {
     "name": "stderr",
     "output_type": "stream",
     "text": [
      " /home/nyoma/.local/lib/python3.9/site-packages/GPy/kern/src/stationary.py:168: RuntimeWarning:overflow encountered in divide\n",
      " /home/nyoma/.local/lib/python3.9/site-packages/GPy/kern/src/rbf.py:52: RuntimeWarning:overflow encountered in square\n",
      " /home/nyoma/.local/lib/python3.9/site-packages/GPy/kern/src/rbf.py:76: RuntimeWarning:invalid value encountered in multiply\n",
      " /home/nyoma/.local/lib/python3.9/site-packages/paramz/transformations.py:111: RuntimeWarning:overflow encountered in expm1\n"
     ]
    },
    {
     "name": "stdout",
     "output_type": "stream",
     "text": [
      "fred_compile SEIZ_updated_out.fred ...\r\n",
      "No errors found.\r\n",
      "\r\n",
      "FRED Warning (file SEIZ_updated_out.fred) No wait rule found for state SKEPTIC.InBetween\r\n",
      "\r\n",
      "\r\n",
      "FRED Warning (file SEIZ_updated_out.fred) No wait rule found for state ADOPT.InBetween\r\n",
      "\r\n",
      "\r\n",
      "SEIZ_updated_b869d948-160a-4307-9d4d-8f1e19b79b51_run 30\r\n",
      "(export OMP_NUM_THREADS=16 ; FRED -p /home/nyoma/FRED/RESULTS/JOB/30/WORK/SEIZ_updated_out.fred -r 1 -d /home/nyoma/FRED/RESULTS/JOB/30/OUT 2>&1 > /home/nyoma/FRED/RESULTS/JOB/30/OUT/RUN1/LOG)\r\n"
     ]
    },
    {
     "name": "stderr",
     "output_type": "stream",
     "text": [
      " /home/nyoma/.local/lib/python3.9/site-packages/GPy/kern/src/stationary.py:168: RuntimeWarning:overflow encountered in divide\n",
      " /home/nyoma/.local/lib/python3.9/site-packages/GPy/kern/src/rbf.py:52: RuntimeWarning:overflow encountered in square\n",
      " /home/nyoma/.local/lib/python3.9/site-packages/GPy/kern/src/rbf.py:76: RuntimeWarning:invalid value encountered in multiply\n",
      " /home/nyoma/.local/lib/python3.9/site-packages/paramz/transformations.py:111: RuntimeWarning:overflow encountered in expm1\n"
     ]
    },
    {
     "name": "stdout",
     "output_type": "stream",
     "text": [
      "fred_compile SEIZ_updated_out.fred ...\r\n",
      "No errors found.\r\n",
      "\r\n",
      "FRED Warning (file SEIZ_updated_out.fred) No wait rule found for state SKEPTIC.InBetween\r\n",
      "\r\n",
      "\r\n",
      "FRED Warning (file SEIZ_updated_out.fred) No wait rule found for state ADOPT.InBetween\r\n",
      "\r\n",
      "\r\n",
      "SEIZ_updated_501c1f8c-b376-48e6-a5b0-df4fb4b4fb3f_run 31\r\n",
      "(export OMP_NUM_THREADS=16 ; FRED -p /home/nyoma/FRED/RESULTS/JOB/31/WORK/SEIZ_updated_out.fred -r 1 -d /home/nyoma/FRED/RESULTS/JOB/31/OUT 2>&1 > /home/nyoma/FRED/RESULTS/JOB/31/OUT/RUN1/LOG)\r\n"
     ]
    },
    {
     "name": "stderr",
     "output_type": "stream",
     "text": [
      " /home/nyoma/.local/lib/python3.9/site-packages/GPy/kern/src/stationary.py:168: RuntimeWarning:overflow encountered in divide\n",
      " /home/nyoma/.local/lib/python3.9/site-packages/GPy/kern/src/rbf.py:52: RuntimeWarning:overflow encountered in square\n",
      " /home/nyoma/.local/lib/python3.9/site-packages/GPy/kern/src/rbf.py:76: RuntimeWarning:invalid value encountered in multiply\n",
      " /home/nyoma/.local/lib/python3.9/site-packages/paramz/transformations.py:111: RuntimeWarning:overflow encountered in expm1\n"
     ]
    }
   ],
   "source": [
    "max_iterations = 30\n",
    "bayesopt_loop.run_loop(sample, max_iterations)"
   ],
   "metadata": {
    "collapsed": false,
    "ExecuteTime": {
     "end_time": "2024-01-14T00:38:54.929203400Z",
     "start_time": "2024-01-14T00:13:18.266273700Z"
    }
   },
   "id": "ca46d13fe1a4d1ea"
  },
  {
   "cell_type": "code",
   "execution_count": 105,
   "outputs": [],
   "source": [
    "results = bayesopt_loop.get_results()"
   ],
   "metadata": {
    "collapsed": false,
    "ExecuteTime": {
     "end_time": "2024-01-14T00:38:54.955072500Z",
     "start_time": "2024-01-14T00:38:54.928195200Z"
    }
   },
   "id": "74f597b1fdc2aa36"
  },
  {
   "cell_type": "code",
   "execution_count": 106,
   "outputs": [
    {
     "name": "stdout",
     "output_type": "stream",
     "text": [
      "[ 0.72109157  0.9696176   2.         66.        ] 8595.0\n",
      "[32391. 32391. 32391. 32391.  8595.  8595.  8595.  8595.  8595.  8595.\n",
      "  8595.  8595.  8595.  8595.  8595.  8595.  8595.  8595.  8595.  8595.\n",
      "  8595.  8595.  8595.  8595.  8595.  8595.  8595.  8595.  8595.  8595.\n",
      "  8595.  8595.  8595.  8595.  8595.]\n"
     ]
    }
   ],
   "source": [
    "print(results.minimum_location, results.minimum_value)\n",
    "print(results.best_found_value_per_iteration)"
   ],
   "metadata": {
    "collapsed": false,
    "ExecuteTime": {
     "end_time": "2024-01-14T00:38:55.035510100Z",
     "start_time": "2024-01-14T00:38:54.954079500Z"
    }
   },
   "id": "5b1682cc7f6297d6"
  }
 ],
 "metadata": {
  "kernelspec": {
   "display_name": "Python 3",
   "language": "python",
   "name": "python3"
  },
  "language_info": {
   "codemirror_mode": {
    "name": "ipython",
    "version": 2
   },
   "file_extension": ".py",
   "mimetype": "text/x-python",
   "name": "python",
   "nbconvert_exporter": "python",
   "pygments_lexer": "ipython2",
   "version": "2.7.6"
  }
 },
 "nbformat": 4,
 "nbformat_minor": 5
}
