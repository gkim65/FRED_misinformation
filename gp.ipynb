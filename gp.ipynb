{
 "cells": [
  {
   "cell_type": "code",
   "execution_count": null,
   "outputs": [],
   "source": [
    "import multiprocessing\n",
    "import uuid\n",
    "import os\n",
    "\n",
    "if not os.path.exists('out'):\n",
    "    os.makedirs('out')\n",
    "if not os.path.exists('results'):\n",
    "    os.makedirs('results')\n",
    "\n",
    "import pandas as pd\n",
    "import numpy as np\n",
    "import matplotlib.pyplot as plt\n",
    "from matplotlib.cm import ScalarMappable\n",
    "from matplotlib.ticker import ScalarFormatter\n",
    "\n",
    "from emukit.core import ParameterSpace, ContinuousParameter, DiscreteParameter\n",
    "from emukit.core.initial_designs.latin_design import LatinDesign\n",
    "from GPy.models import GPRegression\n",
    "from emukit.model_wrappers import GPyModelWrapper\n",
    "from emukit.experimental_design.experimental_design_loop import ExperimentalDesignLoop\n",
    "from emukit.experimental_design.acquisitions import ModelVariance, IntegratedVarianceReduction"
   ],
   "metadata": {
    "collapsed": false
   },
   "id": "a7f8a58e6997adfb"
  },
  {
   "cell_type": "code",
   "execution_count": null,
   "outputs": [],
   "source": [
    "target_name = 'SEIZ_updated'\n",
    "threads_per_run = multiprocessing.cpu_count()\n",
    "init_exposures = 100\n",
    "epsilon = 2\n",
    "batch_size = 10\n",
    "\n",
    "parameter_space = ParameterSpace([ContinuousParameter('p', 0, 1),\n",
    "                                  ContinuousParameter('l', 0, 1),\n",
    "                                  DiscreteParameter('prop_init_skeptics', np.arange(1, init_exposures, 1, dtype=np.int_))])"
   ],
   "metadata": {
    "collapsed": false
   },
   "id": "fb1ca09136c55a1e"
  },
  {
   "cell_type": "code",
   "execution_count": null,
   "outputs": [],
   "source": [
    "def run_job(p, l, init_skeptics, init_adopters):\n",
    "    with open(f'{target_name}_editable.fred', 'r') as file:\n",
    "        filedata = file.read()\n",
    "\n",
    "    vars = {\n",
    "        'p': p, \n",
    "        'l': l, \n",
    "        'epsilon': epsilon, \n",
    "        'init_skeptic': int(init_skeptics), \n",
    "        'init_adopt': int(init_adopters)\n",
    "    }\n",
    "\n",
    "    run_uuid = uuid.uuid4()\n",
    "    var_str = ', '.join(map(lambda item: f'{item[0]}={item[1]}', vars.items()))\n",
    "    print(run_uuid, var_str)\n",
    "\n",
    "    with open(f'out/{target_name}_{run_uuid}_out.fred', 'w') as file:\n",
    "        file.write(filedata.format(**vars))\n",
    "        \n",
    "    !fred_job -p out/{target_name}_{run_uuid}_out.fred -k {target_name}_{run_uuid}_run -t {threads_per_run}\n",
    "    !fred_csv -k {target_name}_{run_uuid}_run > results/{target_name}_{run_uuid}_run.csv\n",
    "\n",
    "    with open(f'results/{target_name}_{run_uuid}_run.csv', 'r') as file:\n",
    "        lines = file.readlines()\n",
    "\n",
    "    with open(f'results/{target_name}_{run_uuid}_run.csv', 'w') as file:\n",
    "        lines[0] = var_str+'\\n'\n",
    "        file.writelines(lines)\n",
    "\n",
    "    return pd.read_csv(f'results/{target_name}_{run_uuid}_run.csv', header=2)"
   ],
   "metadata": {
    "collapsed": false
   },
   "id": "e924571bf2e2530e"
  },
  {
   "cell_type": "code",
   "execution_count": null,
   "outputs": [],
   "source": [
    "def sample(X, clear_results=False):\n",
    "    X = np.array(X)\n",
    "    \n",
    "    if X.ndim < 2:\n",
    "        X = np.expand_dims(X, 0)\n",
    "    elif X.ndim > 2:\n",
    "        raise Exception(f'X has too many dimensions (ndim={X.ndim}, must be 1 or 2)')\n",
    "    if X.shape[-1] != parameter_space.dimensionality:\n",
    "        raise Exception(f'X has the wrong number of variables (variables={X.shape[-1]}, must be {parameter_space.dimensionality})')\n",
    "\n",
    "    X = np.append(X, np.expand_dims(init_exposures-X[:,-1], axis=1), axis=1)  # create and add init_adopters variable\n",
    "\n",
    "    if clear_results:\n",
    "        !yes | fred_clear_all_results\n",
    "    \n",
    "    Y = []\n",
    "\n",
    "    with multiprocessing.Pool() as pool:\n",
    "        for data in pool.starmap(run_job, X):\n",
    "            S_count = data['ADOPT.totS'].iat[0]\n",
    "            Y.append([(-data['ADOPT.S'].diff()).max() / S_count])\n",
    "        \n",
    "    return np.vstack(Y)"
   ],
   "metadata": {
    "collapsed": false
   },
   "id": "cb1c34ba9ad24f90"
  },
  {
   "cell_type": "code",
   "execution_count": null,
   "outputs": [],
   "source": [
    "design = LatinDesign(parameter_space)\n",
    "num_data_points = batch_size\n",
    "X = design.get_samples(num_data_points)"
   ],
   "metadata": {
    "collapsed": false
   },
   "id": "a5ced94ccd5c878b"
  },
  {
   "cell_type": "code",
   "execution_count": null,
   "outputs": [],
   "source": [
    "X"
   ],
   "metadata": {
    "collapsed": false
   },
   "id": "278c49f1065bef65"
  },
  {
   "cell_type": "code",
   "execution_count": null,
   "outputs": [],
   "source": [
    "Y = sample(X, clear_results=True)"
   ],
   "metadata": {
    "collapsed": false
   },
   "id": "d51326a96257ae1a"
  },
  {
   "cell_type": "code",
   "execution_count": null,
   "outputs": [],
   "source": [
    "Y"
   ],
   "metadata": {
    "collapsed": false
   },
   "id": "4ca0dacfef62042c"
  },
  {
   "cell_type": "code",
   "execution_count": null,
   "outputs": [],
   "source": [
    "model_gpy = GPRegression(X,Y)\n",
    "model_emukit = GPyModelWrapper(model_gpy)"
   ],
   "metadata": {
    "collapsed": false
   },
   "id": "fe0f204fc438c030"
  },
  {
   "cell_type": "code",
   "execution_count": null,
   "outputs": [],
   "source": [
    "model_variance = ModelVariance(model=model_emukit)\n",
    "expdesign_loop = ExperimentalDesignLoop(model=model_emukit,\n",
    "                                        space=parameter_space,\n",
    "                                        acquisition=model_variance,\n",
    "                                        batch_size=batch_size)\n",
    "\n",
    "max_iterations = 25\n",
    "expdesign_loop.run_loop(sample, max_iterations)"
   ],
   "metadata": {
    "collapsed": false
   },
   "id": "f826fb9b5e6a8239"
  },
  {
   "cell_type": "code",
   "execution_count": null,
   "outputs": [],
   "source": [
    "domain = []\n",
    "\n",
    "for parameter in parameter_space.parameters:\n",
    "    if isinstance(parameter, ContinuousParameter):\n",
    "        domain.append(np.linspace(*parameter.bounds[0], 100))\n",
    "    elif isinstance(parameter, DiscreteParameter):\n",
    "        domain.append(parameter.domain)\n",
    "    else:\n",
    "        raise NotImplementedError(f'Domain computation not implemented for parameter type {type(parameter)}')\n",
    "\n",
    "xx_p, yy_l, zz_init_skeptics = np.meshgrid(*domain)"
   ],
   "metadata": {
    "collapsed": false
   },
   "id": "a7babdb63fbe50fe"
  },
  {
   "cell_type": "code",
   "execution_count": null,
   "outputs": [],
   "source": [
    "predictions = model_emukit.predict(np.stack((xx_p, yy_l, zz_init_skeptics), axis=-1).reshape(-1, parameter_space.dimensionality))[0].reshape(xx_p.shape)"
   ],
   "metadata": {
    "collapsed": false
   },
   "id": "5bad93a9f663643f"
  },
  {
   "cell_type": "code",
   "execution_count": null,
   "outputs": [],
   "source": [
    "fig = plt.figure()\n",
    "ax = fig.add_subplot(111, projection='3d')\n",
    "ax.set_proj_type('ortho')\n",
    "\n",
    "# init_slice = np.arange(0, zz_init_skeptics.shape[-1], zz_init_skeptics.shape[-1]/4, dtype=np.int_)\n",
    "init_slice = 50\n",
    "\n",
    "color_dim = predictions[:,:,init_slice]\n",
    "\n",
    "ax.scatter(xx_p[:,:,init_slice], yy_l[:,:,init_slice], color_dim, c=color_dim, alpha=0.1)\n",
    "\n",
    "ax.zaxis.set_major_formatter(ScalarFormatter(useOffset=False))\n",
    "\n",
    "cmap = plt.get_cmap('viridis')\n",
    "norm = plt.Normalize(color_dim.min(), color_dim.max())\n",
    "sm = ScalarMappable(norm=norm, cmap=cmap)\n",
    "cbar = fig.colorbar(sm, ax=ax)\n",
    "\n",
    "ax.view_init(30, 30, 0)\n",
    "plt.show()"
   ],
   "metadata": {
    "collapsed": false
   },
   "id": "2ae79dd83f559925"
  }
 ],
 "metadata": {
  "kernelspec": {
   "display_name": "Python 3",
   "language": "python",
   "name": "python3"
  },
  "language_info": {
   "codemirror_mode": {
    "name": "ipython",
    "version": 2
   },
   "file_extension": ".py",
   "mimetype": "text/x-python",
   "name": "python",
   "nbconvert_exporter": "python",
   "pygments_lexer": "ipython2",
   "version": "2.7.6"
  }
 },
 "nbformat": 4,
 "nbformat_minor": 5
}
