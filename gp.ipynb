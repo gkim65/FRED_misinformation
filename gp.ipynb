{
 "cells": [
  {
   "cell_type": "code",
   "execution_count": 17,
   "outputs": [],
   "source": [
    "import multiprocessing\n",
    "import re\n",
    "from io import StringIO\n",
    "\n",
    "import pandas as pd\n",
    "import numpy as np\n",
    "\n",
    "from emukit.core import ParameterSpace, ContinuousParameter\n",
    "from emukit.core.initial_designs import RandomDesign\n",
    "from GPy.models import GPRegression\n",
    "from emukit.model_wrappers import GPyModelWrapper\n",
    "from emukit.bayesian_optimization.acquisitions import ExpectedImprovement\n",
    "from emukit.bayesian_optimization.loops import BayesianOptimizationLoop"
   ],
   "metadata": {
    "collapsed": false,
    "ExecuteTime": {
     "end_time": "2024-01-13T22:40:46.158238Z",
     "start_time": "2024-01-13T22:40:46.143753500Z"
    }
   },
   "id": "a7f8a58e6997adfb"
  },
  {
   "cell_type": "code",
   "execution_count": 18,
   "outputs": [],
   "source": [
    "target_name = 'SEIZ_updated'\n",
    "# n_runs = 5\n",
    "# max_parallel_runs = 8\n",
    "# threads_per_run = multiprocessing.cpu_count()//min(n_runs,max_parallel_runs)\n",
    "threads_per_run = multiprocessing.cpu_count()\n",
    "\n",
    "parameter_space = ParameterSpace([ContinuousParameter('p', 0, 1),\n",
    "                                  ContinuousParameter('l', 0, 1),\n",
    "                                  ContinuousParameter('epsilon', 2, 2)])"
   ],
   "metadata": {
    "collapsed": false,
    "ExecuteTime": {
     "end_time": "2024-01-13T22:40:46.233197800Z",
     "start_time": "2024-01-13T22:40:46.149879300Z"
    }
   },
   "id": "fb1ca09136c55a1e"
  },
  {
   "cell_type": "code",
   "execution_count": 19,
   "outputs": [],
   "source": [
    "def run_job(p, l, epsilon, clear_results=False):\n",
    "    with open(f'{target_name}_editable.fred', 'r') as file:\n",
    "        filedata = file.read()\n",
    "\n",
    "    for target, value in {'{p}': p, '{l}': l, '{epsilon}': epsilon}.items():\n",
    "        filedata = filedata.replace(target, str(value))\n",
    "\n",
    "    with open(f'{target_name}_out.fred', 'w') as file:\n",
    "        file.write(filedata)\n",
    "        \n",
    "    if clear_results:\n",
    "        !yes | fred_clear_all_results\n",
    "        \n",
    "    # !fred_job -p {target_name}_out.fred -k {target_name}_{p}_{l}_{epsilon}_run -n {n_runs} -m {max_parallel_runs} -t {threads_per_run}\n",
    "    !fred_job -p {target_name}_out.fred -k {target_name}_{p}_{l}_{epsilon}_run -t {threads_per_run}\n",
    "    !fred_csv -k {target_name}_{p}_{l}_{epsilon}_run > results/{target_name}_{p}_{l}_{epsilon}_run.csv\n",
    "\n",
    "    # with open(f'results/{target_name}_{p}_{l}_{epsilon}_run.csv', 'r') as csv:\n",
    "    #     results = csv.read()\n",
    "    # \n",
    "    # results = re.split(' \\nRun,\\d\\n', results)[1:]\n",
    "    # return [pd.read_csv(StringIO(data)) for data in results]\n",
    "    return pd.read_csv(f'results/{target_name}_{p}_{l}_{epsilon}_run.csv', header=1)"
   ],
   "metadata": {
    "collapsed": false,
    "ExecuteTime": {
     "end_time": "2024-01-13T22:40:46.233197800Z",
     "start_time": "2024-01-13T22:40:46.168471100Z"
    }
   },
   "id": "e924571bf2e2530e"
  },
  {
   "cell_type": "code",
   "execution_count": 20,
   "outputs": [],
   "source": [
    "def sample(X, **kwargs):\n",
    "    X = np.array(X)\n",
    "    \n",
    "    if X.ndim < 2:\n",
    "        X = np.expand_dims(X, 0)\n",
    "    elif X.ndim > 2:\n",
    "        raise Exception(f'X has too many dimensions (ndim={X.ndim}, must be 1 or 2)')\n",
    "    if X.shape[-1] != 3:\n",
    "        raise Exception(f'X has the wrong number of variables (variables={X.shape[-1]}, must be 3)')\n",
    "    \n",
    "    Y = []\n",
    "\n",
    "    for (p, l, epsilon) in X: # TODO: parallelize this?\n",
    "        data = run_job(p, l, epsilon, **kwargs)\n",
    "        # Y.append([run['ADOPT.I'].iat[-1] for run in data])\n",
    "        Y.append([data['ADOPT.I'].iat[-1]])\n",
    "        \n",
    "    return np.vstack(Y)"
   ],
   "metadata": {
    "collapsed": false,
    "ExecuteTime": {
     "end_time": "2024-01-13T22:40:46.233197800Z",
     "start_time": "2024-01-13T22:40:46.174987700Z"
    }
   },
   "id": "cb1c34ba9ad24f90"
  },
  {
   "cell_type": "code",
   "execution_count": 21,
   "outputs": [],
   "source": [
    "design = RandomDesign(parameter_space)\n",
    "num_data_points = 5\n",
    "X = design.get_samples(num_data_points)"
   ],
   "metadata": {
    "collapsed": false,
    "ExecuteTime": {
     "end_time": "2024-01-13T22:40:46.233197800Z",
     "start_time": "2024-01-13T22:40:46.183685100Z"
    }
   },
   "id": "a5ced94ccd5c878b"
  },
  {
   "cell_type": "code",
   "execution_count": 22,
   "outputs": [
    {
     "data": {
      "text/plain": "array([[0.78163638, 0.31046252, 2.        ],\n       [0.09325979, 0.62248035, 2.        ],\n       [0.17222669, 0.33790588, 2.        ],\n       [0.41210966, 0.60329941, 2.        ],\n       [0.03328561, 0.55815782, 2.        ]])"
     },
     "execution_count": 22,
     "metadata": {},
     "output_type": "execute_result"
    }
   ],
   "source": [
    "X"
   ],
   "metadata": {
    "collapsed": false,
    "ExecuteTime": {
     "end_time": "2024-01-13T22:40:46.233197800Z",
     "start_time": "2024-01-13T22:40:46.190229100Z"
    }
   },
   "id": "278c49f1065bef65"
  },
  {
   "cell_type": "code",
   "execution_count": 23,
   "outputs": [
    {
     "name": "stdout",
     "output_type": "stream",
     "text": [
      "You are about to delete /home/nyoma/FRED/RESULTS. This cannot be undone.\r\n",
      "Proceed? yes/no [no]\r\n",
      "/home/nyoma/FRED/RESULTS deleted\r\n",
      "yes: standard output: Broken pipe\r\n",
      "fred_compile SEIZ_updated_out.fred ...\r\n",
      "No errors found.\r\n",
      "\r\n",
      "FRED Warning (file SEIZ_updated_out.fred) No wait rule found for state SKEPTIC.InBetween\r\n",
      "\r\n",
      "\r\n",
      "FRED Warning (file SEIZ_updated_out.fred) No wait rule found for state ADOPT.InBetween\r\n",
      "\r\n",
      "\r\n",
      "SEIZ_updated_0.7816363781058014_0.3104625228956649_2.0_run 1\r\n",
      "(export OMP_NUM_THREADS=16 ; FRED -p /home/nyoma/FRED/RESULTS/JOB/1/WORK/SEIZ_updated_out.fred -r 1 -d /home/nyoma/FRED/RESULTS/JOB/1/OUT 2>&1 > /home/nyoma/FRED/RESULTS/JOB/1/OUT/RUN1/LOG)\r\n",
      "You are about to delete /home/nyoma/FRED/RESULTS. This cannot be undone.\r\n",
      "Proceed? yes/no [no]\r\n",
      "/home/nyoma/FRED/RESULTS deleted\r\n",
      "yes: standard output: Broken pipe\r\n",
      "fred_compile SEIZ_updated_out.fred ...\r\n",
      "No errors found.\r\n",
      "\r\n",
      "FRED Warning (file SEIZ_updated_out.fred) No wait rule found for state SKEPTIC.InBetween\r\n",
      "\r\n",
      "\r\n",
      "FRED Warning (file SEIZ_updated_out.fred) No wait rule found for state ADOPT.InBetween\r\n",
      "\r\n",
      "\r\n",
      "SEIZ_updated_0.09325979013799957_0.6224803471220164_2.0_run 1\r\n",
      "(export OMP_NUM_THREADS=16 ; FRED -p /home/nyoma/FRED/RESULTS/JOB/1/WORK/SEIZ_updated_out.fred -r 1 -d /home/nyoma/FRED/RESULTS/JOB/1/OUT 2>&1 > /home/nyoma/FRED/RESULTS/JOB/1/OUT/RUN1/LOG)\r\n",
      "You are about to delete /home/nyoma/FRED/RESULTS. This cannot be undone.\r\n",
      "Proceed? yes/no [no]\r\n",
      "/home/nyoma/FRED/RESULTS deleted\r\n",
      "yes: standard output: Broken pipe\r\n",
      "fred_compile SEIZ_updated_out.fred ...\r\n",
      "No errors found.\r\n",
      "\r\n",
      "FRED Warning (file SEIZ_updated_out.fred) No wait rule found for state SKEPTIC.InBetween\r\n",
      "\r\n",
      "\r\n",
      "FRED Warning (file SEIZ_updated_out.fred) No wait rule found for state ADOPT.InBetween\r\n",
      "\r\n",
      "\r\n",
      "SEIZ_updated_0.17222668981170985_0.3379058808550369_2.0_run 1\r\n",
      "(export OMP_NUM_THREADS=16 ; FRED -p /home/nyoma/FRED/RESULTS/JOB/1/WORK/SEIZ_updated_out.fred -r 1 -d /home/nyoma/FRED/RESULTS/JOB/1/OUT 2>&1 > /home/nyoma/FRED/RESULTS/JOB/1/OUT/RUN1/LOG)\r\n",
      "You are about to delete /home/nyoma/FRED/RESULTS. This cannot be undone.\r\n",
      "Proceed? yes/no [no]\r\n",
      "/home/nyoma/FRED/RESULTS deleted\r\n",
      "yes: standard output: Broken pipe\r\n",
      "fred_compile SEIZ_updated_out.fred ...\r\n",
      "No errors found.\r\n",
      "\r\n",
      "FRED Warning (file SEIZ_updated_out.fred) No wait rule found for state SKEPTIC.InBetween\r\n",
      "\r\n",
      "\r\n",
      "FRED Warning (file SEIZ_updated_out.fred) No wait rule found for state ADOPT.InBetween\r\n",
      "\r\n",
      "\r\n",
      "SEIZ_updated_0.41210965884088546_0.6032994074757831_2.0_run 1\r\n",
      "(export OMP_NUM_THREADS=16 ; FRED -p /home/nyoma/FRED/RESULTS/JOB/1/WORK/SEIZ_updated_out.fred -r 1 -d /home/nyoma/FRED/RESULTS/JOB/1/OUT 2>&1 > /home/nyoma/FRED/RESULTS/JOB/1/OUT/RUN1/LOG)\r\n",
      "You are about to delete /home/nyoma/FRED/RESULTS. This cannot be undone.\r\n",
      "Proceed? yes/no [no]\r\n",
      "/home/nyoma/FRED/RESULTS deleted\r\n",
      "yes: standard output: Broken pipe\r\n",
      "fred_compile SEIZ_updated_out.fred ...\r\n",
      "No errors found.\r\n",
      "\r\n",
      "FRED Warning (file SEIZ_updated_out.fred) No wait rule found for state SKEPTIC.InBetween\r\n",
      "\r\n",
      "\r\n",
      "FRED Warning (file SEIZ_updated_out.fred) No wait rule found for state ADOPT.InBetween\r\n",
      "\r\n",
      "\r\n",
      "SEIZ_updated_0.03328560860706775_0.5581578245574015_2.0_run 1\r\n",
      "(export OMP_NUM_THREADS=16 ; FRED -p /home/nyoma/FRED/RESULTS/JOB/1/WORK/SEIZ_updated_out.fred -r 1 -d /home/nyoma/FRED/RESULTS/JOB/1/OUT 2>&1 > /home/nyoma/FRED/RESULTS/JOB/1/OUT/RUN1/LOG)\r\n"
     ]
    }
   ],
   "source": [
    "Y = sample(X, clear_results=True)"
   ],
   "metadata": {
    "collapsed": false,
    "ExecuteTime": {
     "end_time": "2024-01-13T22:43:24.593089100Z",
     "start_time": "2024-01-13T22:40:46.199852900Z"
    }
   },
   "id": "d51326a96257ae1a"
  },
  {
   "cell_type": "code",
   "execution_count": 24,
   "outputs": [
    {
     "data": {
      "text/plain": "array([[44633],\n       [30563],\n       [43536],\n       [33831],\n       [34532]])"
     },
     "execution_count": 24,
     "metadata": {},
     "output_type": "execute_result"
    }
   ],
   "source": [
    "Y"
   ],
   "metadata": {
    "collapsed": false,
    "ExecuteTime": {
     "end_time": "2024-01-13T22:43:24.602509100Z",
     "start_time": "2024-01-13T22:43:24.598996400Z"
    }
   },
   "id": "4ca0dacfef62042c"
  },
  {
   "cell_type": "code",
   "execution_count": 25,
   "outputs": [],
   "source": [
    "model_gpy = GPRegression(X,Y)\n",
    "model_emukit = GPyModelWrapper(model_gpy)"
   ],
   "metadata": {
    "collapsed": false,
    "ExecuteTime": {
     "end_time": "2024-01-13T22:43:24.671991800Z",
     "start_time": "2024-01-13T22:43:24.605526Z"
    }
   },
   "id": "fe0f204fc438c030"
  },
  {
   "cell_type": "code",
   "execution_count": 26,
   "outputs": [],
   "source": [
    "expected_improvement = ExpectedImprovement(model=model_emukit)"
   ],
   "metadata": {
    "collapsed": false,
    "ExecuteTime": {
     "end_time": "2024-01-13T22:43:24.682428100Z",
     "start_time": "2024-01-13T22:43:24.674864600Z"
    }
   },
   "id": "aac4e404d087b8cc"
  },
  {
   "cell_type": "code",
   "execution_count": 27,
   "outputs": [],
   "source": [
    "bayesopt_loop = BayesianOptimizationLoop(model=model_emukit,\n",
    "                                         space=parameter_space,\n",
    "                                         acquisition=expected_improvement,\n",
    "                                         batch_size=1)"
   ],
   "metadata": {
    "collapsed": false,
    "ExecuteTime": {
     "end_time": "2024-01-13T22:43:24.687994900Z",
     "start_time": "2024-01-13T22:43:24.682428100Z"
    }
   },
   "id": "1661103750b6c98"
  },
  {
   "cell_type": "code",
   "execution_count": 28,
   "outputs": [
    {
     "name": "stdout",
     "output_type": "stream",
     "text": [
      "fred_compile SEIZ_updated_out.fred ...\r\n",
      "No errors found.\r\n",
      "\r\n",
      "FRED Warning (file SEIZ_updated_out.fred) No wait rule found for state SKEPTIC.InBetween\r\n",
      "\r\n",
      "\r\n",
      "FRED Warning (file SEIZ_updated_out.fred) No wait rule found for state ADOPT.InBetween\r\n",
      "\r\n",
      "\r\n",
      "SEIZ_updated_0.9774898542528399_0.9761446820634082_2.0_run 2\r\n",
      "(export OMP_NUM_THREADS=16 ; FRED -p /home/nyoma/FRED/RESULTS/JOB/2/WORK/SEIZ_updated_out.fred -r 1 -d /home/nyoma/FRED/RESULTS/JOB/2/OUT 2>&1 > /home/nyoma/FRED/RESULTS/JOB/2/OUT/RUN1/LOG)\r\n"
     ]
    },
    {
     "name": "stderr",
     "output_type": "stream",
     "text": [
      " /home/nyoma/.local/lib/python3.9/site-packages/paramz/transformations.py:111: RuntimeWarning:overflow encountered in expm1\n"
     ]
    },
    {
     "name": "stdout",
     "output_type": "stream",
     "text": [
      "fred_compile SEIZ_updated_out.fred ...\r\n",
      "No errors found.\r\n",
      "\r\n",
      "FRED Warning (file SEIZ_updated_out.fred) No wait rule found for state SKEPTIC.InBetween\r\n",
      "\r\n",
      "\r\n",
      "FRED Warning (file SEIZ_updated_out.fred) No wait rule found for state ADOPT.InBetween\r\n",
      "\r\n",
      "\r\n",
      "SEIZ_updated_0.9749203925289539_0.9926093282313667_2.0_run 3\r\n",
      "(export OMP_NUM_THREADS=16 ; FRED -p /home/nyoma/FRED/RESULTS/JOB/3/WORK/SEIZ_updated_out.fred -r 1 -d /home/nyoma/FRED/RESULTS/JOB/3/OUT 2>&1 > /home/nyoma/FRED/RESULTS/JOB/3/OUT/RUN1/LOG)\r\n"
     ]
    },
    {
     "name": "stderr",
     "output_type": "stream",
     "text": [
      " /home/nyoma/.local/lib/python3.9/site-packages/paramz/transformations.py:111: RuntimeWarning:overflow encountered in expm1\n"
     ]
    },
    {
     "name": "stdout",
     "output_type": "stream",
     "text": [
      "fred_compile SEIZ_updated_out.fred ...\r\n",
      "No errors found.\r\n",
      "\r\n",
      "FRED Warning (file SEIZ_updated_out.fred) No wait rule found for state SKEPTIC.InBetween\r\n",
      "\r\n",
      "\r\n",
      "FRED Warning (file SEIZ_updated_out.fred) No wait rule found for state ADOPT.InBetween\r\n",
      "\r\n",
      "\r\n",
      "SEIZ_updated_0.97096798709076_0.976086638261783_2.0_run 4\r\n",
      "(export OMP_NUM_THREADS=16 ; FRED -p /home/nyoma/FRED/RESULTS/JOB/4/WORK/SEIZ_updated_out.fred -r 1 -d /home/nyoma/FRED/RESULTS/JOB/4/OUT 2>&1 > /home/nyoma/FRED/RESULTS/JOB/4/OUT/RUN1/LOG)\r\n",
      "fred_compile SEIZ_updated_out.fred ...\r\n"
     ]
    },
    {
     "name": "stderr",
     "output_type": "stream",
     "text": [
      " /home/nyoma/.local/lib/python3.9/site-packages/paramz/transformations.py:111: RuntimeWarning:overflow encountered in expm1\n"
     ]
    },
    {
     "name": "stdout",
     "output_type": "stream",
     "text": [
      "No errors found.\r\n",
      "\r\n",
      "FRED Warning (file SEIZ_updated_out.fred) No wait rule found for state SKEPTIC.InBetween\r\n",
      "\r\n",
      "\r\n",
      "FRED Warning (file SEIZ_updated_out.fred) No wait rule found for state ADOPT.InBetween\r\n",
      "\r\n",
      "\r\n",
      "SEIZ_updated_0.9934509250459198_0.9973008969184861_2.0_run 5\r\n",
      "(export OMP_NUM_THREADS=16 ; FRED -p /home/nyoma/FRED/RESULTS/JOB/5/WORK/SEIZ_updated_out.fred -r 1 -d /home/nyoma/FRED/RESULTS/JOB/5/OUT 2>&1 > /home/nyoma/FRED/RESULTS/JOB/5/OUT/RUN1/LOG)\r\n"
     ]
    },
    {
     "name": "stderr",
     "output_type": "stream",
     "text": [
      " /home/nyoma/.local/lib/python3.9/site-packages/paramz/transformations.py:111: RuntimeWarning:overflow encountered in expm1\n"
     ]
    },
    {
     "name": "stdout",
     "output_type": "stream",
     "text": [
      "fred_compile SEIZ_updated_out.fred ...\r\n",
      "No errors found.\r\n",
      "\r\n",
      "FRED Warning (file SEIZ_updated_out.fred) No wait rule found for state SKEPTIC.InBetween\r\n",
      "\r\n",
      "\r\n",
      "FRED Warning (file SEIZ_updated_out.fred) No wait rule found for state ADOPT.InBetween\r\n",
      "\r\n",
      "\r\n",
      "SEIZ_updated_0.9690221999800133_0.9851629441773505_2.0_run 6\r\n",
      "(export OMP_NUM_THREADS=16 ; FRED -p /home/nyoma/FRED/RESULTS/JOB/6/WORK/SEIZ_updated_out.fred -r 1 -d /home/nyoma/FRED/RESULTS/JOB/6/OUT 2>&1 > /home/nyoma/FRED/RESULTS/JOB/6/OUT/RUN1/LOG)\r\n"
     ]
    },
    {
     "name": "stderr",
     "output_type": "stream",
     "text": [
      " /home/nyoma/.local/lib/python3.9/site-packages/paramz/transformations.py:111: RuntimeWarning:overflow encountered in expm1\n"
     ]
    },
    {
     "name": "stdout",
     "output_type": "stream",
     "text": [
      "fred_compile SEIZ_updated_out.fred ...\r\n",
      "No errors found.\r\n",
      "\r\n",
      "FRED Warning (file SEIZ_updated_out.fred) No wait rule found for state SKEPTIC.InBetween\r\n",
      "\r\n",
      "\r\n",
      "FRED Warning (file SEIZ_updated_out.fred) No wait rule found for state ADOPT.InBetween\r\n",
      "\r\n",
      "\r\n",
      "SEIZ_updated_0.9997528337521726_0.9859986335074493_2.0_run 7\r\n",
      "(export OMP_NUM_THREADS=16 ; FRED -p /home/nyoma/FRED/RESULTS/JOB/7/WORK/SEIZ_updated_out.fred -r 1 -d /home/nyoma/FRED/RESULTS/JOB/7/OUT 2>&1 > /home/nyoma/FRED/RESULTS/JOB/7/OUT/RUN1/LOG)\r\n"
     ]
    },
    {
     "name": "stderr",
     "output_type": "stream",
     "text": [
      " /home/nyoma/.local/lib/python3.9/site-packages/paramz/transformations.py:111: RuntimeWarning:overflow encountered in expm1\n"
     ]
    },
    {
     "name": "stdout",
     "output_type": "stream",
     "text": [
      "fred_compile SEIZ_updated_out.fred ...\r\n",
      "No errors found.\r\n",
      "\r\n",
      "FRED Warning (file SEIZ_updated_out.fred) No wait rule found for state SKEPTIC.InBetween\r\n",
      "\r\n",
      "\r\n",
      "FRED Warning (file SEIZ_updated_out.fred) No wait rule found for state ADOPT.InBetween\r\n",
      "\r\n",
      "\r\n",
      "SEIZ_updated_0.9800771450984022_0.9939794154340456_2.0_run 8\r\n",
      "(export OMP_NUM_THREADS=16 ; FRED -p /home/nyoma/FRED/RESULTS/JOB/8/WORK/SEIZ_updated_out.fred -r 1 -d /home/nyoma/FRED/RESULTS/JOB/8/OUT 2>&1 > /home/nyoma/FRED/RESULTS/JOB/8/OUT/RUN1/LOG)\r\n"
     ]
    },
    {
     "name": "stderr",
     "output_type": "stream",
     "text": [
      " /home/nyoma/.local/lib/python3.9/site-packages/paramz/transformations.py:111: RuntimeWarning:overflow encountered in expm1\n"
     ]
    },
    {
     "name": "stdout",
     "output_type": "stream",
     "text": [
      "fred_compile SEIZ_updated_out.fred ...\r\n",
      "No errors found.\r\n",
      "\r\n",
      "FRED Warning (file SEIZ_updated_out.fred) No wait rule found for state SKEPTIC.InBetween\r\n",
      "\r\n",
      "\r\n",
      "FRED Warning (file SEIZ_updated_out.fred) No wait rule found for state ADOPT.InBetween\r\n",
      "\r\n",
      "\r\n",
      "SEIZ_updated_0.9619885915130036_0.9677591978729045_2.0_run 9\r\n",
      "(export OMP_NUM_THREADS=16 ; FRED -p /home/nyoma/FRED/RESULTS/JOB/9/WORK/SEIZ_updated_out.fred -r 1 -d /home/nyoma/FRED/RESULTS/JOB/9/OUT 2>&1 > /home/nyoma/FRED/RESULTS/JOB/9/OUT/RUN1/LOG)\r\n"
     ]
    },
    {
     "name": "stderr",
     "output_type": "stream",
     "text": [
      " /home/nyoma/.local/lib/python3.9/site-packages/paramz/transformations.py:111: RuntimeWarning:overflow encountered in expm1\n"
     ]
    },
    {
     "name": "stdout",
     "output_type": "stream",
     "text": [
      "fred_compile SEIZ_updated_out.fred ...\r\n",
      "No errors found.\r\n",
      "\r\n",
      "FRED Warning (file SEIZ_updated_out.fred) No wait rule found for state SKEPTIC.InBetween\r\n",
      "\r\n",
      "\r\n",
      "FRED Warning (file SEIZ_updated_out.fred) No wait rule found for state ADOPT.InBetween\r\n",
      "\r\n",
      "\r\n",
      "SEIZ_updated_0.9951234065853217_0.9464431607579208_2.0_run 10\r\n",
      "(export OMP_NUM_THREADS=16 ; FRED -p /home/nyoma/FRED/RESULTS/JOB/10/WORK/SEIZ_updated_out.fred -r 1 -d /home/nyoma/FRED/RESULTS/JOB/10/OUT 2>&1 > /home/nyoma/FRED/RESULTS/JOB/10/OUT/RUN1/LOG)\r\n"
     ]
    },
    {
     "name": "stderr",
     "output_type": "stream",
     "text": [
      " /home/nyoma/.local/lib/python3.9/site-packages/paramz/transformations.py:111: RuntimeWarning:overflow encountered in expm1\n"
     ]
    },
    {
     "name": "stdout",
     "output_type": "stream",
     "text": [
      "fred_compile SEIZ_updated_out.fred ...\r\n",
      "No errors found.\r\n",
      "\r\n",
      "FRED Warning (file SEIZ_updated_out.fred) No wait rule found for state SKEPTIC.InBetween\r\n",
      "\r\n",
      "\r\n",
      "FRED Warning (file SEIZ_updated_out.fred) No wait rule found for state ADOPT.InBetween\r\n",
      "\r\n",
      "\r\n",
      "SEIZ_updated_0.9988543441824856_0.9844248893893958_2.0_run 11\r\n",
      "(export OMP_NUM_THREADS=16 ; FRED -p /home/nyoma/FRED/RESULTS/JOB/11/WORK/SEIZ_updated_out.fred -r 1 -d /home/nyoma/FRED/RESULTS/JOB/11/OUT 2>&1 > /home/nyoma/FRED/RESULTS/JOB/11/OUT/RUN1/LOG)\r\n"
     ]
    },
    {
     "name": "stderr",
     "output_type": "stream",
     "text": [
      " /home/nyoma/.local/lib/python3.9/site-packages/paramz/transformations.py:111: RuntimeWarning:overflow encountered in expm1\n"
     ]
    },
    {
     "name": "stdout",
     "output_type": "stream",
     "text": [
      "fred_compile SEIZ_updated_out.fred ...\r\n",
      "No errors found.\r\n",
      "\r\n",
      "FRED Warning (file SEIZ_updated_out.fred) No wait rule found for state SKEPTIC.InBetween\r\n",
      "\r\n",
      "\r\n",
      "FRED Warning (file SEIZ_updated_out.fred) No wait rule found for state ADOPT.InBetween\r\n",
      "\r\n",
      "\r\n",
      "SEIZ_updated_0.9841549514571627_0.9976406394187378_2.0_run 12\r\n",
      "(export OMP_NUM_THREADS=16 ; FRED -p /home/nyoma/FRED/RESULTS/JOB/12/WORK/SEIZ_updated_out.fred -r 1 -d /home/nyoma/FRED/RESULTS/JOB/12/OUT 2>&1 > /home/nyoma/FRED/RESULTS/JOB/12/OUT/RUN1/LOG)\r\n"
     ]
    },
    {
     "name": "stderr",
     "output_type": "stream",
     "text": [
      " /home/nyoma/.local/lib/python3.9/site-packages/paramz/transformations.py:111: RuntimeWarning:overflow encountered in expm1\n"
     ]
    },
    {
     "name": "stdout",
     "output_type": "stream",
     "text": [
      "fred_compile SEIZ_updated_out.fred ...\r\n",
      "No errors found.\r\n",
      "\r\n",
      "FRED Warning (file SEIZ_updated_out.fred) No wait rule found for state SKEPTIC.InBetween\r\n",
      "\r\n",
      "\r\n",
      "FRED Warning (file SEIZ_updated_out.fred) No wait rule found for state ADOPT.InBetween\r\n",
      "\r\n",
      "\r\n",
      "SEIZ_updated_0.9872869659685841_0.9530655405854677_2.0_run 13\r\n",
      "(export OMP_NUM_THREADS=16 ; FRED -p /home/nyoma/FRED/RESULTS/JOB/13/WORK/SEIZ_updated_out.fred -r 1 -d /home/nyoma/FRED/RESULTS/JOB/13/OUT 2>&1 > /home/nyoma/FRED/RESULTS/JOB/13/OUT/RUN1/LOG)\r\n"
     ]
    },
    {
     "name": "stderr",
     "output_type": "stream",
     "text": [
      " /home/nyoma/.local/lib/python3.9/site-packages/paramz/transformations.py:111: RuntimeWarning:overflow encountered in expm1\n"
     ]
    },
    {
     "name": "stdout",
     "output_type": "stream",
     "text": [
      "fred_compile SEIZ_updated_out.fred ...\r\n",
      "No errors found.\r\n",
      "\r\n",
      "FRED Warning (file SEIZ_updated_out.fred) No wait rule found for state SKEPTIC.InBetween\r\n",
      "\r\n",
      "\r\n",
      "FRED Warning (file SEIZ_updated_out.fred) No wait rule found for state ADOPT.InBetween\r\n",
      "\r\n",
      "\r\n",
      "SEIZ_updated_0.975993032298921_0.9993265853549997_2.0_run 14\r\n",
      "(export OMP_NUM_THREADS=16 ; FRED -p /home/nyoma/FRED/RESULTS/JOB/14/WORK/SEIZ_updated_out.fred -r 1 -d /home/nyoma/FRED/RESULTS/JOB/14/OUT 2>&1 > /home/nyoma/FRED/RESULTS/JOB/14/OUT/RUN1/LOG)\r\n"
     ]
    },
    {
     "name": "stderr",
     "output_type": "stream",
     "text": [
      " /home/nyoma/.local/lib/python3.9/site-packages/paramz/transformations.py:111: RuntimeWarning:overflow encountered in expm1\n"
     ]
    },
    {
     "name": "stdout",
     "output_type": "stream",
     "text": [
      "fred_compile SEIZ_updated_out.fred ...\r\n",
      "No errors found.\r\n",
      "\r\n",
      "FRED Warning (file SEIZ_updated_out.fred) No wait rule found for state SKEPTIC.InBetween\r\n",
      "\r\n",
      "\r\n",
      "FRED Warning (file SEIZ_updated_out.fred) No wait rule found for state ADOPT.InBetween\r\n",
      "\r\n",
      "\r\n",
      "SEIZ_updated_0.9684118214838524_0.9977164174775142_2.0_run 15\r\n",
      "(export OMP_NUM_THREADS=16 ; FRED -p /home/nyoma/FRED/RESULTS/JOB/15/WORK/SEIZ_updated_out.fred -r 1 -d /home/nyoma/FRED/RESULTS/JOB/15/OUT 2>&1 > /home/nyoma/FRED/RESULTS/JOB/15/OUT/RUN1/LOG)\r\n"
     ]
    },
    {
     "name": "stderr",
     "output_type": "stream",
     "text": [
      " /home/nyoma/.local/lib/python3.9/site-packages/paramz/transformations.py:111: RuntimeWarning:overflow encountered in expm1\n"
     ]
    },
    {
     "name": "stdout",
     "output_type": "stream",
     "text": [
      "fred_compile SEIZ_updated_out.fred ...\r\n",
      "No errors found.\r\n",
      "\r\n",
      "FRED Warning (file SEIZ_updated_out.fred) No wait rule found for state SKEPTIC.InBetween\r\n",
      "\r\n",
      "\r\n",
      "FRED Warning (file SEIZ_updated_out.fred) No wait rule found for state ADOPT.InBetween\r\n",
      "\r\n",
      "\r\n",
      "SEIZ_updated_0.9692997109859909_0.9847071053083387_2.0_run 16\r\n",
      "(export OMP_NUM_THREADS=16 ; FRED -p /home/nyoma/FRED/RESULTS/JOB/16/WORK/SEIZ_updated_out.fred -r 1 -d /home/nyoma/FRED/RESULTS/JOB/16/OUT 2>&1 > /home/nyoma/FRED/RESULTS/JOB/16/OUT/RUN1/LOG)\r\n"
     ]
    },
    {
     "name": "stderr",
     "output_type": "stream",
     "text": [
      " /home/nyoma/.local/lib/python3.9/site-packages/paramz/transformations.py:111: RuntimeWarning:overflow encountered in expm1\n"
     ]
    },
    {
     "name": "stdout",
     "output_type": "stream",
     "text": [
      "fred_compile SEIZ_updated_out.fred ...\r\n",
      "No errors found.\r\n",
      "\r\n",
      "FRED Warning (file SEIZ_updated_out.fred) No wait rule found for state SKEPTIC.InBetween\r\n",
      "\r\n",
      "\r\n",
      "FRED Warning (file SEIZ_updated_out.fred) No wait rule found for state ADOPT.InBetween\r\n",
      "\r\n",
      "\r\n",
      "SEIZ_updated_0.9893333639588157_0.9822923142076992_2.0_run 17\r\n",
      "(export OMP_NUM_THREADS=16 ; FRED -p /home/nyoma/FRED/RESULTS/JOB/17/WORK/SEIZ_updated_out.fred -r 1 -d /home/nyoma/FRED/RESULTS/JOB/17/OUT 2>&1 > /home/nyoma/FRED/RESULTS/JOB/17/OUT/RUN1/LOG)\r\n"
     ]
    },
    {
     "name": "stderr",
     "output_type": "stream",
     "text": [
      " /home/nyoma/.local/lib/python3.9/site-packages/paramz/transformations.py:111: RuntimeWarning:overflow encountered in expm1\n"
     ]
    },
    {
     "name": "stdout",
     "output_type": "stream",
     "text": [
      "fred_compile SEIZ_updated_out.fred ...\r\n",
      "No errors found.\r\n",
      "\r\n",
      "FRED Warning (file SEIZ_updated_out.fred) No wait rule found for state SKEPTIC.InBetween\r\n",
      "\r\n",
      "\r\n",
      "FRED Warning (file SEIZ_updated_out.fred) No wait rule found for state ADOPT.InBetween\r\n",
      "\r\n",
      "\r\n",
      "SEIZ_updated_0.9796963128894917_0.9843278582262267_2.0_run 18\r\n",
      "(export OMP_NUM_THREADS=16 ; FRED -p /home/nyoma/FRED/RESULTS/JOB/18/WORK/SEIZ_updated_out.fred -r 1 -d /home/nyoma/FRED/RESULTS/JOB/18/OUT 2>&1 > /home/nyoma/FRED/RESULTS/JOB/18/OUT/RUN1/LOG)\r\n"
     ]
    },
    {
     "name": "stderr",
     "output_type": "stream",
     "text": [
      " /home/nyoma/.local/lib/python3.9/site-packages/paramz/transformations.py:111: RuntimeWarning:overflow encountered in expm1\n"
     ]
    },
    {
     "name": "stdout",
     "output_type": "stream",
     "text": [
      "fred_compile SEIZ_updated_out.fred ...\r\n",
      "No errors found.\r\n",
      "\r\n",
      "FRED Warning (file SEIZ_updated_out.fred) No wait rule found for state SKEPTIC.InBetween\r\n",
      "\r\n",
      "\r\n",
      "FRED Warning (file SEIZ_updated_out.fred) No wait rule found for state ADOPT.InBetween\r\n",
      "\r\n",
      "\r\n",
      "SEIZ_updated_0.9934026962690652_0.9541029403287266_2.0_run 19\r\n",
      "(export OMP_NUM_THREADS=16 ; FRED -p /home/nyoma/FRED/RESULTS/JOB/19/WORK/SEIZ_updated_out.fred -r 1 -d /home/nyoma/FRED/RESULTS/JOB/19/OUT 2>&1 > /home/nyoma/FRED/RESULTS/JOB/19/OUT/RUN1/LOG)\r\n"
     ]
    },
    {
     "name": "stderr",
     "output_type": "stream",
     "text": [
      " /home/nyoma/.local/lib/python3.9/site-packages/paramz/transformations.py:111: RuntimeWarning:overflow encountered in expm1\n"
     ]
    },
    {
     "name": "stdout",
     "output_type": "stream",
     "text": [
      "fred_compile SEIZ_updated_out.fred ...\r\n",
      "No errors found.\r\n",
      "\r\n",
      "FRED Warning (file SEIZ_updated_out.fred) No wait rule found for state SKEPTIC.InBetween\r\n",
      "\r\n",
      "\r\n",
      "FRED Warning (file SEIZ_updated_out.fred) No wait rule found for state ADOPT.InBetween\r\n",
      "\r\n",
      "\r\n",
      "SEIZ_updated_0.9939883538091349_0.9890773378030856_2.0_run 20\r\n",
      "(export OMP_NUM_THREADS=16 ; FRED -p /home/nyoma/FRED/RESULTS/JOB/20/WORK/SEIZ_updated_out.fred -r 1 -d /home/nyoma/FRED/RESULTS/JOB/20/OUT 2>&1 > /home/nyoma/FRED/RESULTS/JOB/20/OUT/RUN1/LOG)\r\n"
     ]
    },
    {
     "name": "stderr",
     "output_type": "stream",
     "text": [
      " /home/nyoma/.local/lib/python3.9/site-packages/paramz/transformations.py:111: RuntimeWarning:overflow encountered in expm1\n"
     ]
    },
    {
     "name": "stdout",
     "output_type": "stream",
     "text": [
      "fred_compile SEIZ_updated_out.fred ...\r\n",
      "No errors found.\r\n",
      "\r\n",
      "FRED Warning (file SEIZ_updated_out.fred) No wait rule found for state SKEPTIC.InBetween\r\n",
      "\r\n",
      "\r\n",
      "FRED Warning (file SEIZ_updated_out.fred) No wait rule found for state ADOPT.InBetween\r\n",
      "\r\n",
      "\r\n",
      "SEIZ_updated_0.9708998281281351_0.9984115501143532_2.0_run 21\r\n",
      "(export OMP_NUM_THREADS=16 ; FRED -p /home/nyoma/FRED/RESULTS/JOB/21/WORK/SEIZ_updated_out.fred -r 1 -d /home/nyoma/FRED/RESULTS/JOB/21/OUT 2>&1 > /home/nyoma/FRED/RESULTS/JOB/21/OUT/RUN1/LOG)\r\n"
     ]
    },
    {
     "name": "stderr",
     "output_type": "stream",
     "text": [
      " /home/nyoma/.local/lib/python3.9/site-packages/paramz/transformations.py:111: RuntimeWarning:overflow encountered in expm1\n"
     ]
    },
    {
     "name": "stdout",
     "output_type": "stream",
     "text": [
      "fred_compile SEIZ_updated_out.fred ...\r\n",
      "No errors found.\r\n",
      "\r\n",
      "FRED Warning (file SEIZ_updated_out.fred) No wait rule found for state SKEPTIC.InBetween\r\n",
      "\r\n",
      "\r\n",
      "FRED Warning (file SEIZ_updated_out.fred) No wait rule found for state ADOPT.InBetween\r\n",
      "\r\n",
      "\r\n",
      "SEIZ_updated_0.9754797081902794_0.9732021859461076_2.0_run 22\r\n",
      "(export OMP_NUM_THREADS=16 ; FRED -p /home/nyoma/FRED/RESULTS/JOB/22/WORK/SEIZ_updated_out.fred -r 1 -d /home/nyoma/FRED/RESULTS/JOB/22/OUT 2>&1 > /home/nyoma/FRED/RESULTS/JOB/22/OUT/RUN1/LOG)\r\n"
     ]
    },
    {
     "name": "stderr",
     "output_type": "stream",
     "text": [
      " /home/nyoma/.local/lib/python3.9/site-packages/paramz/transformations.py:111: RuntimeWarning:overflow encountered in expm1\n"
     ]
    },
    {
     "name": "stdout",
     "output_type": "stream",
     "text": [
      "fred_compile SEIZ_updated_out.fred ...\r\n",
      "No errors found.\r\n",
      "\r\n",
      "FRED Warning (file SEIZ_updated_out.fred) No wait rule found for state SKEPTIC.InBetween\r\n",
      "\r\n",
      "\r\n",
      "FRED Warning (file SEIZ_updated_out.fred) No wait rule found for state ADOPT.InBetween\r\n",
      "\r\n",
      "\r\n",
      "SEIZ_updated_0.9410878438335615_0.9988023184936846_2.0_run 23\r\n",
      "(export OMP_NUM_THREADS=16 ; FRED -p /home/nyoma/FRED/RESULTS/JOB/23/WORK/SEIZ_updated_out.fred -r 1 -d /home/nyoma/FRED/RESULTS/JOB/23/OUT 2>&1 > /home/nyoma/FRED/RESULTS/JOB/23/OUT/RUN1/LOG)\r\n"
     ]
    },
    {
     "name": "stderr",
     "output_type": "stream",
     "text": [
      " /home/nyoma/.local/lib/python3.9/site-packages/paramz/transformations.py:111: RuntimeWarning:overflow encountered in expm1\n"
     ]
    },
    {
     "name": "stdout",
     "output_type": "stream",
     "text": [
      "fred_compile SEIZ_updated_out.fred ...\r\n",
      "No errors found.\r\n",
      "\r\n",
      "FRED Warning (file SEIZ_updated_out.fred) No wait rule found for state SKEPTIC.InBetween\r\n",
      "\r\n",
      "\r\n",
      "FRED Warning (file SEIZ_updated_out.fred) No wait rule found for state ADOPT.InBetween\r\n",
      "\r\n",
      "\r\n",
      "SEIZ_updated_0.966698866898229_0.9994939310613506_2.0_run 24\r\n",
      "(export OMP_NUM_THREADS=16 ; FRED -p /home/nyoma/FRED/RESULTS/JOB/24/WORK/SEIZ_updated_out.fred -r 1 -d /home/nyoma/FRED/RESULTS/JOB/24/OUT 2>&1 > /home/nyoma/FRED/RESULTS/JOB/24/OUT/RUN1/LOG)\r\n"
     ]
    },
    {
     "name": "stderr",
     "output_type": "stream",
     "text": [
      " /home/nyoma/.local/lib/python3.9/site-packages/paramz/transformations.py:111: RuntimeWarning:overflow encountered in expm1\n"
     ]
    },
    {
     "name": "stdout",
     "output_type": "stream",
     "text": [
      "fred_compile SEIZ_updated_out.fred ...\r\n",
      "No errors found.\r\n",
      "\r\n",
      "FRED Warning (file SEIZ_updated_out.fred) No wait rule found for state SKEPTIC.InBetween\r\n",
      "\r\n",
      "\r\n",
      "FRED Warning (file SEIZ_updated_out.fred) No wait rule found for state ADOPT.InBetween\r\n",
      "\r\n",
      "\r\n",
      "SEIZ_updated_0.999378935647753_0.968441244677702_2.0_run 25\r\n",
      "(export OMP_NUM_THREADS=16 ; FRED -p /home/nyoma/FRED/RESULTS/JOB/25/WORK/SEIZ_updated_out.fred -r 1 -d /home/nyoma/FRED/RESULTS/JOB/25/OUT 2>&1 > /home/nyoma/FRED/RESULTS/JOB/25/OUT/RUN1/LOG)\r\n"
     ]
    },
    {
     "name": "stderr",
     "output_type": "stream",
     "text": [
      " /home/nyoma/.local/lib/python3.9/site-packages/paramz/transformations.py:111: RuntimeWarning:overflow encountered in expm1\n"
     ]
    },
    {
     "name": "stdout",
     "output_type": "stream",
     "text": [
      "fred_compile SEIZ_updated_out.fred ...\r\n",
      "No errors found.\r\n",
      "\r\n",
      "FRED Warning (file SEIZ_updated_out.fred) No wait rule found for state SKEPTIC.InBetween\r\n",
      "\r\n",
      "\r\n",
      "FRED Warning (file SEIZ_updated_out.fred) No wait rule found for state ADOPT.InBetween\r\n",
      "\r\n",
      "\r\n",
      "SEIZ_updated_0.9629744120673469_0.9976663791896494_2.0_run 26\r\n",
      "(export OMP_NUM_THREADS=16 ; FRED -p /home/nyoma/FRED/RESULTS/JOB/26/WORK/SEIZ_updated_out.fred -r 1 -d /home/nyoma/FRED/RESULTS/JOB/26/OUT 2>&1 > /home/nyoma/FRED/RESULTS/JOB/26/OUT/RUN1/LOG)\r\n"
     ]
    },
    {
     "name": "stderr",
     "output_type": "stream",
     "text": [
      " /home/nyoma/.local/lib/python3.9/site-packages/paramz/transformations.py:111: RuntimeWarning:overflow encountered in expm1\n"
     ]
    },
    {
     "name": "stdout",
     "output_type": "stream",
     "text": [
      "fred_compile SEIZ_updated_out.fred ...\r\n",
      "No errors found.\r\n",
      "\r\n",
      "FRED Warning (file SEIZ_updated_out.fred) No wait rule found for state SKEPTIC.InBetween\r\n",
      "\r\n",
      "\r\n",
      "FRED Warning (file SEIZ_updated_out.fred) No wait rule found for state ADOPT.InBetween\r\n",
      "\r\n",
      "\r\n",
      "SEIZ_updated_0.9845377782189052_0.9834019824900927_2.0_run 27\r\n",
      "(export OMP_NUM_THREADS=16 ; FRED -p /home/nyoma/FRED/RESULTS/JOB/27/WORK/SEIZ_updated_out.fred -r 1 -d /home/nyoma/FRED/RESULTS/JOB/27/OUT 2>&1 > /home/nyoma/FRED/RESULTS/JOB/27/OUT/RUN1/LOG)\r\n"
     ]
    },
    {
     "name": "stderr",
     "output_type": "stream",
     "text": [
      " /home/nyoma/.local/lib/python3.9/site-packages/paramz/transformations.py:111: RuntimeWarning:overflow encountered in expm1\n"
     ]
    },
    {
     "name": "stdout",
     "output_type": "stream",
     "text": [
      "fred_compile SEIZ_updated_out.fred ...\r\n",
      "No errors found.\r\n",
      "\r\n",
      "FRED Warning (file SEIZ_updated_out.fred) No wait rule found for state SKEPTIC.InBetween\r\n",
      "\r\n",
      "\r\n",
      "FRED Warning (file SEIZ_updated_out.fred) No wait rule found for state ADOPT.InBetween\r\n",
      "\r\n",
      "\r\n",
      "SEIZ_updated_0.9741481260045195_0.9962364078854646_2.0_run 28\r\n",
      "(export OMP_NUM_THREADS=16 ; FRED -p /home/nyoma/FRED/RESULTS/JOB/28/WORK/SEIZ_updated_out.fred -r 1 -d /home/nyoma/FRED/RESULTS/JOB/28/OUT 2>&1 > /home/nyoma/FRED/RESULTS/JOB/28/OUT/RUN1/LOG)\r\n"
     ]
    },
    {
     "name": "stderr",
     "output_type": "stream",
     "text": [
      " /home/nyoma/.local/lib/python3.9/site-packages/paramz/transformations.py:111: RuntimeWarning:overflow encountered in expm1\n"
     ]
    },
    {
     "name": "stdout",
     "output_type": "stream",
     "text": [
      "fred_compile SEIZ_updated_out.fred ...\r\n",
      "No errors found.\r\n",
      "\r\n",
      "FRED Warning (file SEIZ_updated_out.fred) No wait rule found for state SKEPTIC.InBetween\r\n",
      "\r\n",
      "\r\n",
      "FRED Warning (file SEIZ_updated_out.fred) No wait rule found for state ADOPT.InBetween\r\n",
      "\r\n",
      "\r\n",
      "SEIZ_updated_0.9733002601671485_0.9960273142602916_2.0_run 29\r\n",
      "(export OMP_NUM_THREADS=16 ; FRED -p /home/nyoma/FRED/RESULTS/JOB/29/WORK/SEIZ_updated_out.fred -r 1 -d /home/nyoma/FRED/RESULTS/JOB/29/OUT 2>&1 > /home/nyoma/FRED/RESULTS/JOB/29/OUT/RUN1/LOG)\r\n"
     ]
    },
    {
     "name": "stderr",
     "output_type": "stream",
     "text": [
      " /home/nyoma/.local/lib/python3.9/site-packages/paramz/transformations.py:111: RuntimeWarning:overflow encountered in expm1\n"
     ]
    },
    {
     "name": "stdout",
     "output_type": "stream",
     "text": [
      "fred_compile SEIZ_updated_out.fred ...\r\n",
      "No errors found.\r\n",
      "\r\n",
      "FRED Warning (file SEIZ_updated_out.fred) No wait rule found for state SKEPTIC.InBetween\r\n",
      "\r\n",
      "\r\n",
      "FRED Warning (file SEIZ_updated_out.fred) No wait rule found for state ADOPT.InBetween\r\n",
      "\r\n",
      "\r\n",
      "SEIZ_updated_0.9562060536682474_0.983021626491473_2.0_run 30\r\n",
      "(export OMP_NUM_THREADS=16 ; FRED -p /home/nyoma/FRED/RESULTS/JOB/30/WORK/SEIZ_updated_out.fred -r 1 -d /home/nyoma/FRED/RESULTS/JOB/30/OUT 2>&1 > /home/nyoma/FRED/RESULTS/JOB/30/OUT/RUN1/LOG)\r\n"
     ]
    },
    {
     "name": "stderr",
     "output_type": "stream",
     "text": [
      " /home/nyoma/.local/lib/python3.9/site-packages/paramz/transformations.py:111: RuntimeWarning:overflow encountered in expm1\n"
     ]
    },
    {
     "name": "stdout",
     "output_type": "stream",
     "text": [
      "fred_compile SEIZ_updated_out.fred ...\r\n",
      "No errors found.\r\n",
      "\r\n",
      "FRED Warning (file SEIZ_updated_out.fred) No wait rule found for state SKEPTIC.InBetween\r\n",
      "\r\n",
      "\r\n",
      "FRED Warning (file SEIZ_updated_out.fred) No wait rule found for state ADOPT.InBetween\r\n",
      "\r\n",
      "\r\n",
      "SEIZ_updated_0.9865867589672788_0.9859985310129568_2.0_run 31\r\n",
      "(export OMP_NUM_THREADS=16 ; FRED -p /home/nyoma/FRED/RESULTS/JOB/31/WORK/SEIZ_updated_out.fred -r 1 -d /home/nyoma/FRED/RESULTS/JOB/31/OUT 2>&1 > /home/nyoma/FRED/RESULTS/JOB/31/OUT/RUN1/LOG)\r\n"
     ]
    },
    {
     "name": "stderr",
     "output_type": "stream",
     "text": [
      " /home/nyoma/.local/lib/python3.9/site-packages/paramz/transformations.py:111: RuntimeWarning:overflow encountered in expm1\n"
     ]
    }
   ],
   "source": [
    "max_iterations = 30\n",
    "bayesopt_loop.run_loop(sample, max_iterations)"
   ],
   "metadata": {
    "collapsed": false,
    "ExecuteTime": {
     "end_time": "2024-01-13T22:57:55.327705Z",
     "start_time": "2024-01-13T22:43:24.692013500Z"
    }
   },
   "id": "ca46d13fe1a4d1ea"
  },
  {
   "cell_type": "code",
   "execution_count": 29,
   "outputs": [],
   "source": [
    "results = bayesopt_loop.get_results()"
   ],
   "metadata": {
    "collapsed": false,
    "ExecuteTime": {
     "end_time": "2024-01-13T22:57:55.382501200Z",
     "start_time": "2024-01-13T22:57:55.321113200Z"
    }
   },
   "id": "74f597b1fdc2aa36"
  },
  {
   "cell_type": "code",
   "execution_count": 30,
   "outputs": [
    {
     "name": "stdout",
     "output_type": "stream",
     "text": [
      "[0.96669887 0.99949393 2.        ] 104.0\n",
      "[44633. 30563. 30563. 30563. 30563.  2824.   952.   952.   554.   554.\n",
      "   554.   554.   554.   554.   554.   379.   379.   106.   106.   106.\n",
      "   106.   106.   106.   106.   106.   106.   106.   104.   104.   104.\n",
      "   104.   104.   104.   104.   104.]\n"
     ]
    }
   ],
   "source": [
    "print(results.minimum_location, results.minimum_value)\n",
    "print(results.best_found_value_per_iteration)"
   ],
   "metadata": {
    "collapsed": false,
    "ExecuteTime": {
     "end_time": "2024-01-13T22:57:55.396088800Z",
     "start_time": "2024-01-13T22:57:55.384503500Z"
    }
   },
   "id": "5b1682cc7f6297d6"
  }
 ],
 "metadata": {
  "kernelspec": {
   "display_name": "Python 3",
   "language": "python",
   "name": "python3"
  },
  "language_info": {
   "codemirror_mode": {
    "name": "ipython",
    "version": 2
   },
   "file_extension": ".py",
   "mimetype": "text/x-python",
   "name": "python",
   "nbconvert_exporter": "python",
   "pygments_lexer": "ipython2",
   "version": "2.7.6"
  }
 },
 "nbformat": 4,
 "nbformat_minor": 5
}
