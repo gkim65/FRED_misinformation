{
 "cells": [
  {
   "cell_type": "code",
   "execution_count": 1,
   "outputs": [],
   "source": [
    "import multiprocessing\n",
    "import re\n",
    "from io import StringIO\n",
    "\n",
    "import pandas as pd\n",
    "import numpy as np\n",
    "\n",
    "from emukit.core import ParameterSpace, ContinuousParameter\n",
    "from emukit.core.initial_designs import RandomDesign\n",
    "from GPy.models import GPRegression\n",
    "from emukit.model_wrappers import GPyModelWrapper\n",
    "from emukit.bayesian_optimization.acquisitions import ExpectedImprovement\n",
    "from emukit.bayesian_optimization.loops import BayesianOptimizationLoop"
   ],
   "metadata": {
    "collapsed": false,
    "ExecuteTime": {
     "end_time": "2024-01-13T02:21:20.276728200Z",
     "start_time": "2024-01-13T02:21:18.671464Z"
    }
   },
   "id": "a7f8a58e6997adfb"
  },
  {
   "cell_type": "code",
   "execution_count": 2,
   "outputs": [],
   "source": [
    "target_name = 'SEIZ'\n",
    "# n_runs = 5\n",
    "# max_parallel_runs = 8\n",
    "# threads_per_run = multiprocessing.cpu_count()//min(n_runs,max_parallel_runs)\n",
    "threads_per_run = multiprocessing.cpu_count()\n",
    "\n",
    "parameter_space = ParameterSpace([ContinuousParameter('p', 0, 1),\n",
    "                                  ContinuousParameter('l', 0, 1),\n",
    "                                  ContinuousParameter('epsilon', 2, 2)])"
   ],
   "metadata": {
    "collapsed": false,
    "ExecuteTime": {
     "end_time": "2024-01-13T02:21:20.299410900Z",
     "start_time": "2024-01-13T02:21:20.281730200Z"
    }
   },
   "id": "fb1ca09136c55a1e"
  },
  {
   "cell_type": "code",
   "execution_count": 3,
   "outputs": [],
   "source": [
    "def run_job(p, l, epsilon, clear_results=False):\n",
    "    with open(f'{target_name}_editable.fred', 'r') as file:\n",
    "        filedata = file.read()\n",
    "\n",
    "    for target, value in {'{p}': p, '{l}': l, '{epsilon}': epsilon}.items():\n",
    "        filedata = filedata.replace(target, str(value))\n",
    "\n",
    "    with open(f'{target_name}_out.fred', 'w') as file:\n",
    "        file.write(filedata)\n",
    "        \n",
    "    if clear_results:\n",
    "        !yes | fred_clear_all_results\n",
    "        \n",
    "    # !fred_job -p {target_name}_out.fred -k {target_name}_{p}_{l}_{epsilon}_run -n {n_runs} -m {max_parallel_runs} -t {threads_per_run}\n",
    "    !fred_job -p {target_name}_out.fred -k {target_name}_{p}_{l}_{epsilon}_run -t {threads_per_run}\n",
    "    !fred_csv -k {target_name}_{p}_{l}_{epsilon}_run > results/{target_name}_{p}_{l}_{epsilon}_run.csv\n",
    "\n",
    "    # with open(f'results/{target_name}_{p}_{l}_{epsilon}_run.csv', 'r') as csv:\n",
    "    #     results = csv.read()\n",
    "    # \n",
    "    # results = re.split(' \\nRun,\\d\\n', results)[1:]\n",
    "    # return [pd.read_csv(StringIO(data)) for data in results]\n",
    "    return pd.read_csv(f'results/{target_name}_{p}_{l}_{epsilon}_run.csv', header=1)"
   ],
   "metadata": {
    "collapsed": false,
    "ExecuteTime": {
     "end_time": "2024-01-13T02:21:20.315998700Z",
     "start_time": "2024-01-13T02:21:20.294838500Z"
    }
   },
   "id": "e924571bf2e2530e"
  },
  {
   "cell_type": "code",
   "execution_count": 4,
   "outputs": [],
   "source": [
    "def sample(X, **kwargs):\n",
    "    X = np.array(X)\n",
    "    \n",
    "    if X.ndim < 2:\n",
    "        X = np.expand_dims(X, 0)\n",
    "    elif X.ndim > 2:\n",
    "        raise Exception(f'X has too many dimensions (ndim={X.ndim}, must be 1 or 2)')\n",
    "    if X.shape[-1] != 3:\n",
    "        raise Exception(f'X has the wrong number of variables (variables={X.shape[-1]}, must be 3)')\n",
    "    \n",
    "    Y = []\n",
    "\n",
    "    for (p, l, epsilon) in X: # TODO: parallelize this?\n",
    "        data = run_job(p, l, epsilon, **kwargs)\n",
    "        # Y.append([run['ADOPT.I'].iat[-1] for run in data])\n",
    "        Y.append([data['ADOPT.I'].iat[-1]])\n",
    "        \n",
    "    return np.vstack(Y)"
   ],
   "metadata": {
    "collapsed": false,
    "ExecuteTime": {
     "end_time": "2024-01-13T02:21:20.315998700Z",
     "start_time": "2024-01-13T02:21:20.301409700Z"
    }
   },
   "id": "cb1c34ba9ad24f90"
  },
  {
   "cell_type": "code",
   "execution_count": 5,
   "outputs": [],
   "source": [
    "design = RandomDesign(parameter_space)\n",
    "num_data_points = 5\n",
    "X = design.get_samples(num_data_points)"
   ],
   "metadata": {
    "collapsed": false,
    "ExecuteTime": {
     "end_time": "2024-01-13T02:21:20.346808400Z",
     "start_time": "2024-01-13T02:21:20.309936100Z"
    }
   },
   "id": "a5ced94ccd5c878b"
  },
  {
   "cell_type": "code",
   "execution_count": 6,
   "outputs": [
    {
     "data": {
      "text/plain": "array([[0.14427996, 0.90493815, 2.        ],\n       [0.97120135, 0.18209631, 2.        ],\n       [0.36464294, 0.44585025, 2.        ],\n       [0.78886984, 0.95171786, 2.        ],\n       [0.44597143, 0.01819409, 2.        ]])"
     },
     "execution_count": 6,
     "metadata": {},
     "output_type": "execute_result"
    }
   ],
   "source": [
    "X"
   ],
   "metadata": {
    "collapsed": false,
    "ExecuteTime": {
     "end_time": "2024-01-13T02:21:20.346808400Z",
     "start_time": "2024-01-13T02:21:20.316990500Z"
    }
   },
   "id": "278c49f1065bef65"
  },
  {
   "cell_type": "code",
   "execution_count": 7,
   "outputs": [
    {
     "name": "stdout",
     "output_type": "stream",
     "text": [
      "You are about to delete /home/nyoma/FRED/RESULTS. This cannot be undone.\r\n",
      "Proceed? yes/no [no]\r\n",
      "/home/nyoma/FRED/RESULTS deleted\r\n",
      "yes: standard output: Broken pipe\r\n",
      "fred_compile SEIZ_out.fred ...\r\n",
      "No errors found.\r\n",
      "\r\n",
      "FRED Warning (file SEIZ_out.fred) Ignoring duplicate rule:\r\n",
      "  if state(SKEPTIC,E) then wait(24*normal(epsilon,epsilon/2))\r\n",
      "     is hidden by:\r\n",
      "  if state(SKEPTIC,E) then wait()\r\n",
      "\r\n",
      "FRED Warning (file SEIZ_out.fred) No wait rule found for state SKEPTIC.InBetween\r\n",
      "\r\n",
      "\r\n",
      "FRED Warning (file SEIZ_out.fred) No wait rule found for state ADOPT.InBetween\r\n",
      "\r\n",
      "\r\n",
      "SEIZ_0.1442799638563732_0.9049381543842384_2.0_run 1\r\n",
      "(export OMP_NUM_THREADS=16 ; FRED -p /home/nyoma/FRED/RESULTS/JOB/1/WORK/SEIZ_out.fred -r 1 -d /home/nyoma/FRED/RESULTS/JOB/1/OUT 2>&1 > /home/nyoma/FRED/RESULTS/JOB/1/OUT/RUN1/LOG)\r\n",
      "You are about to delete /home/nyoma/FRED/RESULTS. This cannot be undone.\r\n",
      "Proceed? yes/no [no]\r\n",
      "/home/nyoma/FRED/RESULTS deleted\r\n",
      "yes: standard output: Broken pipe\r\n",
      "fred_compile SEIZ_out.fred ...\r\n",
      "No errors found.\r\n",
      "\r\n",
      "FRED Warning (file SEIZ_out.fred) Ignoring duplicate rule:\r\n",
      "  if state(SKEPTIC,E) then wait(24*normal(epsilon,epsilon/2))\r\n",
      "     is hidden by:\r\n",
      "  if state(SKEPTIC,E) then wait()\r\n",
      "\r\n",
      "FRED Warning (file SEIZ_out.fred) No wait rule found for state SKEPTIC.InBetween\r\n",
      "\r\n",
      "\r\n",
      "FRED Warning (file SEIZ_out.fred) No wait rule found for state ADOPT.InBetween\r\n",
      "\r\n",
      "\r\n",
      "SEIZ_0.9712013513321537_0.18209630796336407_2.0_run 1\r\n",
      "(export OMP_NUM_THREADS=16 ; FRED -p /home/nyoma/FRED/RESULTS/JOB/1/WORK/SEIZ_out.fred -r 1 -d /home/nyoma/FRED/RESULTS/JOB/1/OUT 2>&1 > /home/nyoma/FRED/RESULTS/JOB/1/OUT/RUN1/LOG)\r\n",
      "You are about to delete /home/nyoma/FRED/RESULTS. This cannot be undone.\r\n",
      "Proceed? yes/no [no]\r\n",
      "/home/nyoma/FRED/RESULTS deleted\r\n",
      "yes: standard output: Broken pipe\r\n",
      "fred_compile SEIZ_out.fred ...\r\n",
      "No errors found.\r\n",
      "\r\n",
      "FRED Warning (file SEIZ_out.fred) Ignoring duplicate rule:\r\n",
      "  if state(SKEPTIC,E) then wait(24*normal(epsilon,epsilon/2))\r\n",
      "     is hidden by:\r\n",
      "  if state(SKEPTIC,E) then wait()\r\n",
      "\r\n",
      "FRED Warning (file SEIZ_out.fred) No wait rule found for state SKEPTIC.InBetween\r\n",
      "\r\n",
      "\r\n",
      "FRED Warning (file SEIZ_out.fred) No wait rule found for state ADOPT.InBetween\r\n",
      "\r\n",
      "\r\n",
      "SEIZ_0.36464293639699197_0.4458502535996094_2.0_run 1\r\n",
      "(export OMP_NUM_THREADS=16 ; FRED -p /home/nyoma/FRED/RESULTS/JOB/1/WORK/SEIZ_out.fred -r 1 -d /home/nyoma/FRED/RESULTS/JOB/1/OUT 2>&1 > /home/nyoma/FRED/RESULTS/JOB/1/OUT/RUN1/LOG)\r\n",
      "You are about to delete /home/nyoma/FRED/RESULTS. This cannot be undone.\r\n",
      "Proceed? yes/no [no]\r\n",
      "/home/nyoma/FRED/RESULTS deleted\r\n",
      "yes: standard output: Broken pipe\r\n",
      "fred_compile SEIZ_out.fred ...\r\n",
      "No errors found.\r\n",
      "\r\n",
      "FRED Warning (file SEIZ_out.fred) Ignoring duplicate rule:\r\n",
      "  if state(SKEPTIC,E) then wait(24*normal(epsilon,epsilon/2))\r\n",
      "     is hidden by:\r\n",
      "  if state(SKEPTIC,E) then wait()\r\n",
      "\r\n",
      "FRED Warning (file SEIZ_out.fred) No wait rule found for state SKEPTIC.InBetween\r\n",
      "\r\n",
      "\r\n",
      "FRED Warning (file SEIZ_out.fred) No wait rule found for state ADOPT.InBetween\r\n",
      "\r\n",
      "\r\n",
      "SEIZ_0.7888698394492691_0.951717861635893_2.0_run 1\r\n",
      "(export OMP_NUM_THREADS=16 ; FRED -p /home/nyoma/FRED/RESULTS/JOB/1/WORK/SEIZ_out.fred -r 1 -d /home/nyoma/FRED/RESULTS/JOB/1/OUT 2>&1 > /home/nyoma/FRED/RESULTS/JOB/1/OUT/RUN1/LOG)\r\n",
      "You are about to delete /home/nyoma/FRED/RESULTS. This cannot be undone.\r\n",
      "Proceed? yes/no [no]\r\n",
      "/home/nyoma/FRED/RESULTS deleted\r\n",
      "yes: standard output: Broken pipe\r\n",
      "fred_compile SEIZ_out.fred ...\r\n",
      "No errors found.\r\n",
      "\r\n",
      "FRED Warning (file SEIZ_out.fred) Ignoring duplicate rule:\r\n",
      "  if state(SKEPTIC,E) then wait(24*normal(epsilon,epsilon/2))\r\n",
      "     is hidden by:\r\n",
      "  if state(SKEPTIC,E) then wait()\r\n",
      "\r\n",
      "FRED Warning (file SEIZ_out.fred) No wait rule found for state SKEPTIC.InBetween\r\n",
      "\r\n",
      "\r\n",
      "FRED Warning (file SEIZ_out.fred) No wait rule found for state ADOPT.InBetween\r\n",
      "\r\n",
      "\r\n",
      "SEIZ_0.4459714284732632_0.018194091732247286_2.0_run 1\r\n",
      "(export OMP_NUM_THREADS=16 ; FRED -p /home/nyoma/FRED/RESULTS/JOB/1/WORK/SEIZ_out.fred -r 1 -d /home/nyoma/FRED/RESULTS/JOB/1/OUT 2>&1 > /home/nyoma/FRED/RESULTS/JOB/1/OUT/RUN1/LOG)\r\n"
     ]
    }
   ],
   "source": [
    "Y = sample(X, clear_results=True)"
   ],
   "metadata": {
    "collapsed": false,
    "ExecuteTime": {
     "end_time": "2024-01-13T02:23:50.888218Z",
     "start_time": "2024-01-13T02:21:20.327606200Z"
    }
   },
   "id": "d51326a96257ae1a"
  },
  {
   "cell_type": "code",
   "execution_count": 8,
   "outputs": [
    {
     "data": {
      "text/plain": "array([[13820],\n       [45219],\n       [44146],\n       [10469],\n       [45250]])"
     },
     "execution_count": 8,
     "metadata": {},
     "output_type": "execute_result"
    }
   ],
   "source": [
    "Y"
   ],
   "metadata": {
    "collapsed": false,
    "ExecuteTime": {
     "end_time": "2024-01-13T02:23:50.901887300Z",
     "start_time": "2024-01-13T02:23:50.893220200Z"
    }
   },
   "id": "4ca0dacfef62042c"
  },
  {
   "cell_type": "code",
   "execution_count": 9,
   "outputs": [],
   "source": [
    "model_gpy = GPRegression(X,Y)\n",
    "model_emukit = GPyModelWrapper(model_gpy)"
   ],
   "metadata": {
    "collapsed": false,
    "ExecuteTime": {
     "end_time": "2024-01-13T02:23:51.011599200Z",
     "start_time": "2024-01-13T02:23:50.900383400Z"
    }
   },
   "id": "fe0f204fc438c030"
  },
  {
   "cell_type": "code",
   "execution_count": 10,
   "outputs": [],
   "source": [
    "expected_improvement = ExpectedImprovement(model=model_emukit)"
   ],
   "metadata": {
    "collapsed": false,
    "ExecuteTime": {
     "end_time": "2024-01-13T02:23:51.026342800Z",
     "start_time": "2024-01-13T02:23:51.015593900Z"
    }
   },
   "id": "aac4e404d087b8cc"
  },
  {
   "cell_type": "code",
   "execution_count": 11,
   "outputs": [],
   "source": [
    "bayesopt_loop = BayesianOptimizationLoop(model=model_emukit,\n",
    "                                         space=parameter_space,\n",
    "                                         acquisition=expected_improvement,\n",
    "                                         batch_size=1)"
   ],
   "metadata": {
    "collapsed": false,
    "ExecuteTime": {
     "end_time": "2024-01-13T02:23:51.043080Z",
     "start_time": "2024-01-13T02:23:51.021339Z"
    }
   },
   "id": "1661103750b6c98"
  },
  {
   "cell_type": "code",
   "execution_count": 12,
   "outputs": [
    {
     "name": "stderr",
     "output_type": "stream",
     "text": [
      " /home/nyoma/.local/lib/python3.9/site-packages/GPy/kern/src/rbf.py:52: RuntimeWarning:overflow encountered in square\n",
      " /home/nyoma/.local/lib/python3.9/site-packages/GPy/kern/src/stationary.py:168: RuntimeWarning:overflow encountered in divide\n",
      " /home/nyoma/.local/lib/python3.9/site-packages/GPy/kern/src/rbf.py:76: RuntimeWarning:invalid value encountered in multiply\n",
      " /home/nyoma/.local/lib/python3.9/site-packages/GPy/kern/src/stationary.py:353: RuntimeWarning:invalid value encountered in divide\n"
     ]
    },
    {
     "name": "stdout",
     "output_type": "stream",
     "text": [
      "fred_compile SEIZ_out.fred ...\r\n",
      "No errors found.\r\n",
      "\r\n",
      "FRED Warning (file SEIZ_out.fred) Ignoring duplicate rule:\r\n",
      "  if state(SKEPTIC,E) then wait(24*normal(epsilon,epsilon/2))\r\n",
      "     is hidden by:\r\n",
      "  if state(SKEPTIC,E) then wait()\r\n",
      "\r\n",
      "FRED Warning (file SEIZ_out.fred) No wait rule found for state SKEPTIC.InBetween\r\n",
      "\r\n",
      "\r\n",
      "FRED Warning (file SEIZ_out.fred) No wait rule found for state ADOPT.InBetween\r\n",
      "\r\n",
      "\r\n",
      "SEIZ_0.6064693101466353_0.9158589292284339_2.0_run 2\r\n",
      "(export OMP_NUM_THREADS=16 ; FRED -p /home/nyoma/FRED/RESULTS/JOB/2/WORK/SEIZ_out.fred -r 1 -d /home/nyoma/FRED/RESULTS/JOB/2/OUT 2>&1 > /home/nyoma/FRED/RESULTS/JOB/2/OUT/RUN1/LOG)\r\n"
     ]
    },
    {
     "name": "stderr",
     "output_type": "stream",
     "text": [
      " /home/nyoma/.local/lib/python3.9/site-packages/GPy/kern/src/stationary.py:168: RuntimeWarning:overflow encountered in divide\n",
      " /home/nyoma/.local/lib/python3.9/site-packages/GPy/kern/src/rbf.py:52: RuntimeWarning:overflow encountered in square\n",
      " /home/nyoma/.local/lib/python3.9/site-packages/GPy/kern/src/rbf.py:76: RuntimeWarning:invalid value encountered in multiply\n",
      " /home/nyoma/.local/lib/python3.9/site-packages/paramz/transformations.py:111: RuntimeWarning:overflow encountered in expm1\n",
      " /home/nyoma/.local/lib/python3.9/site-packages/GPy/kern/src/stationary.py:353: RuntimeWarning:invalid value encountered in divide\n"
     ]
    },
    {
     "name": "stdout",
     "output_type": "stream",
     "text": [
      "fred_compile SEIZ_out.fred ...\r\n",
      "No errors found.\r\n",
      "\r\n",
      "FRED Warning (file SEIZ_out.fred) Ignoring duplicate rule:\r\n",
      "  if state(SKEPTIC,E) then wait(24*normal(epsilon,epsilon/2))\r\n",
      "     is hidden by:\r\n",
      "  if state(SKEPTIC,E) then wait()\r\n",
      "\r\n",
      "FRED Warning (file SEIZ_out.fred) No wait rule found for state SKEPTIC.InBetween\r\n",
      "\r\n",
      "\r\n",
      "FRED Warning (file SEIZ_out.fred) No wait rule found for state ADOPT.InBetween\r\n",
      "\r\n",
      "\r\n",
      "SEIZ_0.6832483766671609_0.4324424125634164_2.0_run 3\r\n",
      "(export OMP_NUM_THREADS=16 ; FRED -p /home/nyoma/FRED/RESULTS/JOB/3/WORK/SEIZ_out.fred -r 1 -d /home/nyoma/FRED/RESULTS/JOB/3/OUT 2>&1 > /home/nyoma/FRED/RESULTS/JOB/3/OUT/RUN1/LOG)\r\n"
     ]
    },
    {
     "name": "stderr",
     "output_type": "stream",
     "text": [
      " /home/nyoma/.local/lib/python3.9/site-packages/GPy/kern/src/stationary.py:168: RuntimeWarning:overflow encountered in divide\n",
      " /home/nyoma/.local/lib/python3.9/site-packages/GPy/kern/src/rbf.py:52: RuntimeWarning:overflow encountered in square\n",
      " /home/nyoma/.local/lib/python3.9/site-packages/GPy/kern/src/rbf.py:76: RuntimeWarning:invalid value encountered in multiply\n",
      " /home/nyoma/.local/lib/python3.9/site-packages/paramz/transformations.py:111: RuntimeWarning:overflow encountered in expm1\n",
      " /home/nyoma/.local/lib/python3.9/site-packages/GPy/kern/src/stationary.py:353: RuntimeWarning:invalid value encountered in divide\n"
     ]
    },
    {
     "name": "stdout",
     "output_type": "stream",
     "text": [
      "fred_compile SEIZ_out.fred ...\r\n",
      "No errors found.\r\n",
      "\r\n",
      "FRED Warning (file SEIZ_out.fred) Ignoring duplicate rule:\r\n",
      "  if state(SKEPTIC,E) then wait(24*normal(epsilon,epsilon/2))\r\n",
      "     is hidden by:\r\n",
      "  if state(SKEPTIC,E) then wait()\r\n",
      "\r\n",
      "FRED Warning (file SEIZ_out.fred) No wait rule found for state SKEPTIC.InBetween\r\n",
      "\r\n",
      "\r\n",
      "FRED Warning (file SEIZ_out.fred) No wait rule found for state ADOPT.InBetween\r\n",
      "\r\n",
      "\r\n",
      "SEIZ_0.10739097754714877_0.5060897500215467_2.0_run 4\r\n",
      "(export OMP_NUM_THREADS=16 ; FRED -p /home/nyoma/FRED/RESULTS/JOB/4/WORK/SEIZ_out.fred -r 1 -d /home/nyoma/FRED/RESULTS/JOB/4/OUT 2>&1 > /home/nyoma/FRED/RESULTS/JOB/4/OUT/RUN1/LOG)\r\n"
     ]
    },
    {
     "name": "stderr",
     "output_type": "stream",
     "text": [
      " /home/nyoma/.local/lib/python3.9/site-packages/GPy/kern/src/stationary.py:168: RuntimeWarning:overflow encountered in divide\n",
      " /home/nyoma/.local/lib/python3.9/site-packages/GPy/kern/src/rbf.py:52: RuntimeWarning:overflow encountered in square\n",
      " /home/nyoma/.local/lib/python3.9/site-packages/GPy/kern/src/rbf.py:76: RuntimeWarning:invalid value encountered in multiply\n",
      " /home/nyoma/.local/lib/python3.9/site-packages/paramz/transformations.py:111: RuntimeWarning:overflow encountered in expm1\n",
      " /home/nyoma/.local/lib/python3.9/site-packages/GPy/kern/src/stationary.py:353: RuntimeWarning:invalid value encountered in divide\n"
     ]
    },
    {
     "name": "stdout",
     "output_type": "stream",
     "text": [
      "fred_compile SEIZ_out.fred ...\r\n",
      "No errors found.\r\n",
      "\r\n",
      "FRED Warning (file SEIZ_out.fred) Ignoring duplicate rule:\r\n",
      "  if state(SKEPTIC,E) then wait(24*normal(epsilon,epsilon/2))\r\n",
      "     is hidden by:\r\n",
      "  if state(SKEPTIC,E) then wait()\r\n",
      "\r\n",
      "FRED Warning (file SEIZ_out.fred) No wait rule found for state SKEPTIC.InBetween\r\n",
      "\r\n",
      "\r\n",
      "FRED Warning (file SEIZ_out.fred) No wait rule found for state ADOPT.InBetween\r\n",
      "\r\n",
      "\r\n",
      "SEIZ_0.9354020995702456_0.4198012293876259_2.0_run 5\r\n",
      "(export OMP_NUM_THREADS=16 ; FRED -p /home/nyoma/FRED/RESULTS/JOB/5/WORK/SEIZ_out.fred -r 1 -d /home/nyoma/FRED/RESULTS/JOB/5/OUT 2>&1 > /home/nyoma/FRED/RESULTS/JOB/5/OUT/RUN1/LOG)\r\n"
     ]
    },
    {
     "name": "stderr",
     "output_type": "stream",
     "text": [
      " /home/nyoma/.local/lib/python3.9/site-packages/GPy/kern/src/stationary.py:168: RuntimeWarning:overflow encountered in divide\n",
      " /home/nyoma/.local/lib/python3.9/site-packages/GPy/kern/src/rbf.py:52: RuntimeWarning:overflow encountered in square\n",
      " /home/nyoma/.local/lib/python3.9/site-packages/GPy/kern/src/rbf.py:76: RuntimeWarning:invalid value encountered in multiply\n",
      " /home/nyoma/.local/lib/python3.9/site-packages/paramz/transformations.py:111: RuntimeWarning:overflow encountered in expm1\n",
      " /home/nyoma/.local/lib/python3.9/site-packages/GPy/kern/src/stationary.py:353: RuntimeWarning:invalid value encountered in divide\n"
     ]
    },
    {
     "name": "stdout",
     "output_type": "stream",
     "text": [
      "fred_compile SEIZ_out.fred ...\r\n",
      "No errors found.\r\n",
      "\r\n",
      "FRED Warning (file SEIZ_out.fred) Ignoring duplicate rule:\r\n",
      "  if state(SKEPTIC,E) then wait(24*normal(epsilon,epsilon/2))\r\n",
      "     is hidden by:\r\n",
      "  if state(SKEPTIC,E) then wait()\r\n",
      "\r\n",
      "FRED Warning (file SEIZ_out.fred) No wait rule found for state SKEPTIC.InBetween\r\n",
      "\r\n",
      "\r\n",
      "FRED Warning (file SEIZ_out.fred) No wait rule found for state ADOPT.InBetween\r\n",
      "\r\n",
      "\r\n",
      "SEIZ_0.16465569946446434_0.7497837382163814_2.0_run 6\r\n",
      "(export OMP_NUM_THREADS=16 ; FRED -p /home/nyoma/FRED/RESULTS/JOB/6/WORK/SEIZ_out.fred -r 1 -d /home/nyoma/FRED/RESULTS/JOB/6/OUT 2>&1 > /home/nyoma/FRED/RESULTS/JOB/6/OUT/RUN1/LOG)\r\n"
     ]
    },
    {
     "name": "stderr",
     "output_type": "stream",
     "text": [
      " /home/nyoma/.local/lib/python3.9/site-packages/GPy/kern/src/stationary.py:168: RuntimeWarning:overflow encountered in divide\n",
      " /home/nyoma/.local/lib/python3.9/site-packages/GPy/kern/src/rbf.py:52: RuntimeWarning:overflow encountered in square\n",
      " /home/nyoma/.local/lib/python3.9/site-packages/GPy/kern/src/rbf.py:76: RuntimeWarning:invalid value encountered in multiply\n",
      " /home/nyoma/.local/lib/python3.9/site-packages/paramz/transformations.py:111: RuntimeWarning:overflow encountered in expm1\n"
     ]
    },
    {
     "name": "stdout",
     "output_type": "stream",
     "text": [
      "fred_compile SEIZ_out.fred ...\r\n",
      "No errors found.\r\n",
      "\r\n",
      "FRED Warning (file SEIZ_out.fred) Ignoring duplicate rule:\r\n",
      "  if state(SKEPTIC,E) then wait(24*normal(epsilon,epsilon/2))\r\n",
      "     is hidden by:\r\n",
      "  if state(SKEPTIC,E) then wait()\r\n",
      "\r\n",
      "FRED Warning (file SEIZ_out.fred) No wait rule found for state SKEPTIC.InBetween\r\n",
      "\r\n",
      "\r\n",
      "FRED Warning (file SEIZ_out.fred) No wait rule found for state ADOPT.InBetween\r\n",
      "\r\n",
      "\r\n",
      "SEIZ_0.15863864865464294_0.11508669356448309_2.0_run 7\r\n",
      "(export OMP_NUM_THREADS=16 ; FRED -p /home/nyoma/FRED/RESULTS/JOB/7/WORK/SEIZ_out.fred -r 1 -d /home/nyoma/FRED/RESULTS/JOB/7/OUT 2>&1 > /home/nyoma/FRED/RESULTS/JOB/7/OUT/RUN1/LOG)\r\n"
     ]
    },
    {
     "name": "stderr",
     "output_type": "stream",
     "text": [
      " /home/nyoma/.local/lib/python3.9/site-packages/GPy/kern/src/stationary.py:168: RuntimeWarning:overflow encountered in divide\n",
      " /home/nyoma/.local/lib/python3.9/site-packages/GPy/kern/src/rbf.py:52: RuntimeWarning:overflow encountered in square\n",
      " /home/nyoma/.local/lib/python3.9/site-packages/GPy/kern/src/rbf.py:76: RuntimeWarning:invalid value encountered in multiply\n",
      " /home/nyoma/.local/lib/python3.9/site-packages/paramz/transformations.py:111: RuntimeWarning:overflow encountered in expm1\n",
      " /home/nyoma/.local/lib/python3.9/site-packages/GPy/kern/src/stationary.py:353: RuntimeWarning:invalid value encountered in divide\n"
     ]
    },
    {
     "name": "stdout",
     "output_type": "stream",
     "text": [
      "fred_compile SEIZ_out.fred ...\r\n",
      "No errors found.\r\n",
      "\r\n",
      "FRED Warning (file SEIZ_out.fred) Ignoring duplicate rule:\r\n",
      "  if state(SKEPTIC,E) then wait(24*normal(epsilon,epsilon/2))\r\n",
      "     is hidden by:\r\n",
      "  if state(SKEPTIC,E) then wait()\r\n",
      "\r\n",
      "FRED Warning (file SEIZ_out.fred) No wait rule found for state SKEPTIC.InBetween\r\n",
      "\r\n",
      "\r\n",
      "FRED Warning (file SEIZ_out.fred) No wait rule found for state ADOPT.InBetween\r\n",
      "\r\n",
      "\r\n",
      "SEIZ_0.8835836597857728_0.7264514061752473_2.0_run 8\r\n",
      "(export OMP_NUM_THREADS=16 ; FRED -p /home/nyoma/FRED/RESULTS/JOB/8/WORK/SEIZ_out.fred -r 1 -d /home/nyoma/FRED/RESULTS/JOB/8/OUT 2>&1 > /home/nyoma/FRED/RESULTS/JOB/8/OUT/RUN1/LOG)\r\n"
     ]
    },
    {
     "name": "stderr",
     "output_type": "stream",
     "text": [
      " /home/nyoma/.local/lib/python3.9/site-packages/GPy/kern/src/stationary.py:168: RuntimeWarning:overflow encountered in divide\n",
      " /home/nyoma/.local/lib/python3.9/site-packages/GPy/kern/src/rbf.py:52: RuntimeWarning:overflow encountered in square\n",
      " /home/nyoma/.local/lib/python3.9/site-packages/GPy/kern/src/rbf.py:76: RuntimeWarning:invalid value encountered in multiply\n",
      " /home/nyoma/.local/lib/python3.9/site-packages/paramz/transformations.py:111: RuntimeWarning:overflow encountered in expm1\n",
      " /home/nyoma/.local/lib/python3.9/site-packages/GPy/kern/src/stationary.py:353: RuntimeWarning:invalid value encountered in divide\n"
     ]
    },
    {
     "name": "stdout",
     "output_type": "stream",
     "text": [
      "fred_compile SEIZ_out.fred ...\r\n",
      "No errors found.\r\n",
      "\r\n",
      "FRED Warning (file SEIZ_out.fred) Ignoring duplicate rule:\r\n",
      "  if state(SKEPTIC,E) then wait(24*normal(epsilon,epsilon/2))\r\n",
      "     is hidden by:\r\n",
      "  if state(SKEPTIC,E) then wait()\r\n",
      "\r\n",
      "FRED Warning (file SEIZ_out.fred) No wait rule found for state SKEPTIC.InBetween\r\n",
      "\r\n",
      "\r\n",
      "FRED Warning (file SEIZ_out.fred) No wait rule found for state ADOPT.InBetween\r\n",
      "\r\n",
      "\r\n",
      "SEIZ_0.5597528332826035_0.3263179502631569_2.0_run 9\r\n",
      "(export OMP_NUM_THREADS=16 ; FRED -p /home/nyoma/FRED/RESULTS/JOB/9/WORK/SEIZ_out.fred -r 1 -d /home/nyoma/FRED/RESULTS/JOB/9/OUT 2>&1 > /home/nyoma/FRED/RESULTS/JOB/9/OUT/RUN1/LOG)\r\n"
     ]
    },
    {
     "name": "stderr",
     "output_type": "stream",
     "text": [
      " /home/nyoma/.local/lib/python3.9/site-packages/GPy/kern/src/stationary.py:168: RuntimeWarning:overflow encountered in divide\n",
      " /home/nyoma/.local/lib/python3.9/site-packages/GPy/kern/src/rbf.py:52: RuntimeWarning:overflow encountered in square\n",
      " /home/nyoma/.local/lib/python3.9/site-packages/GPy/kern/src/rbf.py:76: RuntimeWarning:invalid value encountered in multiply\n",
      " /home/nyoma/.local/lib/python3.9/site-packages/paramz/transformations.py:111: RuntimeWarning:overflow encountered in expm1\n"
     ]
    },
    {
     "name": "stdout",
     "output_type": "stream",
     "text": [
      "fred_compile SEIZ_out.fred ...\r\n",
      "No errors found.\r\n",
      "\r\n",
      "FRED Warning (file SEIZ_out.fred) Ignoring duplicate rule:\r\n",
      "  if state(SKEPTIC,E) then wait(24*normal(epsilon,epsilon/2))\r\n",
      "     is hidden by:\r\n",
      "  if state(SKEPTIC,E) then wait()\r\n",
      "\r\n",
      "FRED Warning (file SEIZ_out.fred) No wait rule found for state SKEPTIC.InBetween\r\n",
      "\r\n",
      "\r\n",
      "FRED Warning (file SEIZ_out.fred) No wait rule found for state ADOPT.InBetween\r\n",
      "\r\n",
      "\r\n",
      "SEIZ_0.8277056047789438_0.13715459151078935_2.0_run 10\r\n",
      "(export OMP_NUM_THREADS=16 ; FRED -p /home/nyoma/FRED/RESULTS/JOB/10/WORK/SEIZ_out.fred -r 1 -d /home/nyoma/FRED/RESULTS/JOB/10/OUT 2>&1 > /home/nyoma/FRED/RESULTS/JOB/10/OUT/RUN1/LOG)\r\n"
     ]
    },
    {
     "name": "stderr",
     "output_type": "stream",
     "text": [
      " /home/nyoma/.local/lib/python3.9/site-packages/GPy/kern/src/stationary.py:168: RuntimeWarning:overflow encountered in divide\n",
      " /home/nyoma/.local/lib/python3.9/site-packages/GPy/kern/src/rbf.py:52: RuntimeWarning:overflow encountered in square\n",
      " /home/nyoma/.local/lib/python3.9/site-packages/GPy/kern/src/rbf.py:76: RuntimeWarning:invalid value encountered in multiply\n",
      " /home/nyoma/.local/lib/python3.9/site-packages/paramz/transformations.py:111: RuntimeWarning:overflow encountered in expm1\n"
     ]
    },
    {
     "name": "stdout",
     "output_type": "stream",
     "text": [
      "fred_compile SEIZ_out.fred ...\r\n",
      "No errors found.\r\n",
      "\r\n",
      "FRED Warning (file SEIZ_out.fred) Ignoring duplicate rule:\r\n",
      "  if state(SKEPTIC,E) then wait(24*normal(epsilon,epsilon/2))\r\n",
      "     is hidden by:\r\n",
      "  if state(SKEPTIC,E) then wait()\r\n",
      "\r\n",
      "FRED Warning (file SEIZ_out.fred) No wait rule found for state SKEPTIC.InBetween\r\n",
      "\r\n",
      "\r\n",
      "FRED Warning (file SEIZ_out.fred) No wait rule found for state ADOPT.InBetween\r\n",
      "\r\n",
      "\r\n",
      "SEIZ_0.8590383454130956_0.877624654908093_2.0_run 11\r\n",
      "(export OMP_NUM_THREADS=16 ; FRED -p /home/nyoma/FRED/RESULTS/JOB/11/WORK/SEIZ_out.fred -r 1 -d /home/nyoma/FRED/RESULTS/JOB/11/OUT 2>&1 > /home/nyoma/FRED/RESULTS/JOB/11/OUT/RUN1/LOG)\r\n"
     ]
    },
    {
     "name": "stderr",
     "output_type": "stream",
     "text": [
      " /home/nyoma/.local/lib/python3.9/site-packages/GPy/kern/src/stationary.py:168: RuntimeWarning:overflow encountered in divide\n",
      " /home/nyoma/.local/lib/python3.9/site-packages/GPy/kern/src/rbf.py:52: RuntimeWarning:overflow encountered in square\n",
      " /home/nyoma/.local/lib/python3.9/site-packages/GPy/kern/src/rbf.py:76: RuntimeWarning:invalid value encountered in multiply\n",
      " /home/nyoma/.local/lib/python3.9/site-packages/paramz/transformations.py:111: RuntimeWarning:overflow encountered in expm1\n",
      " /home/nyoma/.local/lib/python3.9/site-packages/GPy/kern/src/stationary.py:353: RuntimeWarning:invalid value encountered in divide\n"
     ]
    },
    {
     "name": "stdout",
     "output_type": "stream",
     "text": [
      "fred_compile SEIZ_out.fred ...\r\n",
      "No errors found.\r\n",
      "\r\n",
      "FRED Warning (file SEIZ_out.fred) Ignoring duplicate rule:\r\n",
      "  if state(SKEPTIC,E) then wait(24*normal(epsilon,epsilon/2))\r\n",
      "     is hidden by:\r\n",
      "  if state(SKEPTIC,E) then wait()\r\n",
      "\r\n",
      "FRED Warning (file SEIZ_out.fred) No wait rule found for state SKEPTIC.InBetween\r\n",
      "\r\n",
      "\r\n",
      "FRED Warning (file SEIZ_out.fred) No wait rule found for state ADOPT.InBetween\r\n",
      "\r\n",
      "\r\n",
      "SEIZ_0.5190134972920277_0.2563719583510764_2.0_run 12\r\n",
      "(export OMP_NUM_THREADS=16 ; FRED -p /home/nyoma/FRED/RESULTS/JOB/12/WORK/SEIZ_out.fred -r 1 -d /home/nyoma/FRED/RESULTS/JOB/12/OUT 2>&1 > /home/nyoma/FRED/RESULTS/JOB/12/OUT/RUN1/LOG)\r\n"
     ]
    },
    {
     "name": "stderr",
     "output_type": "stream",
     "text": [
      " /home/nyoma/.local/lib/python3.9/site-packages/GPy/kern/src/stationary.py:168: RuntimeWarning:overflow encountered in divide\n",
      " /home/nyoma/.local/lib/python3.9/site-packages/GPy/kern/src/rbf.py:52: RuntimeWarning:overflow encountered in square\n",
      " /home/nyoma/.local/lib/python3.9/site-packages/GPy/kern/src/rbf.py:76: RuntimeWarning:invalid value encountered in multiply\n",
      " /home/nyoma/.local/lib/python3.9/site-packages/paramz/transformations.py:111: RuntimeWarning:overflow encountered in expm1\n",
      " /home/nyoma/.local/lib/python3.9/site-packages/GPy/kern/src/stationary.py:353: RuntimeWarning:invalid value encountered in divide\n"
     ]
    },
    {
     "name": "stdout",
     "output_type": "stream",
     "text": [
      "fred_compile SEIZ_out.fred ...\r\n",
      "No errors found.\r\n",
      "\r\n",
      "FRED Warning (file SEIZ_out.fred) Ignoring duplicate rule:\r\n",
      "  if state(SKEPTIC,E) then wait(24*normal(epsilon,epsilon/2))\r\n",
      "     is hidden by:\r\n",
      "  if state(SKEPTIC,E) then wait()\r\n",
      "\r\n",
      "FRED Warning (file SEIZ_out.fred) No wait rule found for state SKEPTIC.InBetween\r\n",
      "\r\n",
      "\r\n",
      "FRED Warning (file SEIZ_out.fred) No wait rule found for state ADOPT.InBetween\r\n",
      "\r\n",
      "\r\n",
      "SEIZ_0.4687947448851235_0.2639545464319256_2.0_run 13\r\n",
      "(export OMP_NUM_THREADS=16 ; FRED -p /home/nyoma/FRED/RESULTS/JOB/13/WORK/SEIZ_out.fred -r 1 -d /home/nyoma/FRED/RESULTS/JOB/13/OUT 2>&1 > /home/nyoma/FRED/RESULTS/JOB/13/OUT/RUN1/LOG)\r\n"
     ]
    },
    {
     "name": "stderr",
     "output_type": "stream",
     "text": [
      " /home/nyoma/.local/lib/python3.9/site-packages/GPy/kern/src/stationary.py:168: RuntimeWarning:overflow encountered in divide\n",
      " /home/nyoma/.local/lib/python3.9/site-packages/GPy/kern/src/rbf.py:52: RuntimeWarning:overflow encountered in square\n",
      " /home/nyoma/.local/lib/python3.9/site-packages/GPy/kern/src/rbf.py:76: RuntimeWarning:invalid value encountered in multiply\n",
      " /home/nyoma/.local/lib/python3.9/site-packages/paramz/transformations.py:111: RuntimeWarning:overflow encountered in expm1\n",
      " /home/nyoma/.local/lib/python3.9/site-packages/GPy/kern/src/stationary.py:353: RuntimeWarning:invalid value encountered in divide\n"
     ]
    },
    {
     "name": "stdout",
     "output_type": "stream",
     "text": [
      "fred_compile SEIZ_out.fred ...\r\n",
      "No errors found.\r\n",
      "\r\n",
      "FRED Warning (file SEIZ_out.fred) Ignoring duplicate rule:\r\n",
      "  if state(SKEPTIC,E) then wait(24*normal(epsilon,epsilon/2))\r\n",
      "     is hidden by:\r\n",
      "  if state(SKEPTIC,E) then wait()\r\n",
      "\r\n",
      "FRED Warning (file SEIZ_out.fred) No wait rule found for state SKEPTIC.InBetween\r\n",
      "\r\n",
      "\r\n",
      "FRED Warning (file SEIZ_out.fred) No wait rule found for state ADOPT.InBetween\r\n",
      "\r\n",
      "\r\n",
      "SEIZ_0.6950268067968283_0.5633431978781407_2.0_run 14\r\n",
      "(export OMP_NUM_THREADS=16 ; FRED -p /home/nyoma/FRED/RESULTS/JOB/14/WORK/SEIZ_out.fred -r 1 -d /home/nyoma/FRED/RESULTS/JOB/14/OUT 2>&1 > /home/nyoma/FRED/RESULTS/JOB/14/OUT/RUN1/LOG)\r\n"
     ]
    },
    {
     "name": "stderr",
     "output_type": "stream",
     "text": [
      " /home/nyoma/.local/lib/python3.9/site-packages/GPy/kern/src/stationary.py:168: RuntimeWarning:overflow encountered in divide\n",
      " /home/nyoma/.local/lib/python3.9/site-packages/GPy/kern/src/rbf.py:52: RuntimeWarning:overflow encountered in square\n",
      " /home/nyoma/.local/lib/python3.9/site-packages/GPy/kern/src/rbf.py:76: RuntimeWarning:invalid value encountered in multiply\n",
      " /home/nyoma/.local/lib/python3.9/site-packages/paramz/transformations.py:111: RuntimeWarning:overflow encountered in expm1\n"
     ]
    },
    {
     "name": "stdout",
     "output_type": "stream",
     "text": [
      "fred_compile SEIZ_out.fred ...\r\n",
      "No errors found.\r\n",
      "\r\n",
      "FRED Warning (file SEIZ_out.fred) Ignoring duplicate rule:\r\n",
      "  if state(SKEPTIC,E) then wait(24*normal(epsilon,epsilon/2))\r\n",
      "     is hidden by:\r\n",
      "  if state(SKEPTIC,E) then wait()\r\n",
      "\r\n",
      "FRED Warning (file SEIZ_out.fred) No wait rule found for state SKEPTIC.InBetween\r\n",
      "\r\n",
      "\r\n",
      "FRED Warning (file SEIZ_out.fred) No wait rule found for state ADOPT.InBetween\r\n",
      "\r\n",
      "\r\n",
      "SEIZ_0.945477091846381_0.020241453357905725_2.0_run 15\r\n",
      "(export OMP_NUM_THREADS=16 ; FRED -p /home/nyoma/FRED/RESULTS/JOB/15/WORK/SEIZ_out.fred -r 1 -d /home/nyoma/FRED/RESULTS/JOB/15/OUT 2>&1 > /home/nyoma/FRED/RESULTS/JOB/15/OUT/RUN1/LOG)\r\n"
     ]
    },
    {
     "name": "stderr",
     "output_type": "stream",
     "text": [
      " /home/nyoma/.local/lib/python3.9/site-packages/GPy/kern/src/stationary.py:168: RuntimeWarning:overflow encountered in divide\n",
      " /home/nyoma/.local/lib/python3.9/site-packages/GPy/kern/src/rbf.py:52: RuntimeWarning:overflow encountered in square\n",
      " /home/nyoma/.local/lib/python3.9/site-packages/GPy/kern/src/rbf.py:76: RuntimeWarning:invalid value encountered in multiply\n",
      " /home/nyoma/.local/lib/python3.9/site-packages/paramz/transformations.py:111: RuntimeWarning:overflow encountered in expm1\n"
     ]
    },
    {
     "name": "stdout",
     "output_type": "stream",
     "text": [
      "fred_compile SEIZ_out.fred ...\r\n",
      "No errors found.\r\n",
      "\r\n",
      "FRED Warning (file SEIZ_out.fred) Ignoring duplicate rule:\r\n",
      "  if state(SKEPTIC,E) then wait(24*normal(epsilon,epsilon/2))\r\n",
      "     is hidden by:\r\n",
      "  if state(SKEPTIC,E) then wait()\r\n",
      "\r\n",
      "FRED Warning (file SEIZ_out.fred) No wait rule found for state SKEPTIC.InBetween\r\n",
      "\r\n",
      "\r\n",
      "FRED Warning (file SEIZ_out.fred) No wait rule found for state ADOPT.InBetween\r\n",
      "\r\n",
      "\r\n",
      "SEIZ_0.3222905385395778_0.9455457886418293_2.0_run 16\r\n",
      "(export OMP_NUM_THREADS=16 ; FRED -p /home/nyoma/FRED/RESULTS/JOB/16/WORK/SEIZ_out.fred -r 1 -d /home/nyoma/FRED/RESULTS/JOB/16/OUT 2>&1 > /home/nyoma/FRED/RESULTS/JOB/16/OUT/RUN1/LOG)\r\n"
     ]
    },
    {
     "name": "stderr",
     "output_type": "stream",
     "text": [
      " /home/nyoma/.local/lib/python3.9/site-packages/GPy/kern/src/stationary.py:168: RuntimeWarning:overflow encountered in divide\n",
      " /home/nyoma/.local/lib/python3.9/site-packages/GPy/kern/src/rbf.py:52: RuntimeWarning:overflow encountered in square\n",
      " /home/nyoma/.local/lib/python3.9/site-packages/GPy/kern/src/rbf.py:76: RuntimeWarning:invalid value encountered in multiply\n",
      " /home/nyoma/.local/lib/python3.9/site-packages/paramz/transformations.py:111: RuntimeWarning:overflow encountered in expm1\n",
      " /home/nyoma/.local/lib/python3.9/site-packages/GPy/kern/src/stationary.py:353: RuntimeWarning:invalid value encountered in divide\n"
     ]
    },
    {
     "name": "stdout",
     "output_type": "stream",
     "text": [
      "fred_compile SEIZ_out.fred ...\r\n",
      "No errors found.\r\n",
      "\r\n",
      "FRED Warning (file SEIZ_out.fred) Ignoring duplicate rule:\r\n",
      "  if state(SKEPTIC,E) then wait(24*normal(epsilon,epsilon/2))\r\n",
      "     is hidden by:\r\n",
      "  if state(SKEPTIC,E) then wait()\r\n",
      "\r\n",
      "FRED Warning (file SEIZ_out.fred) No wait rule found for state SKEPTIC.InBetween\r\n",
      "\r\n",
      "\r\n",
      "FRED Warning (file SEIZ_out.fred) No wait rule found for state ADOPT.InBetween\r\n",
      "\r\n",
      "\r\n",
      "SEIZ_0.5742796109856542_0.8996457767153804_2.0_run 17\r\n",
      "(export OMP_NUM_THREADS=16 ; FRED -p /home/nyoma/FRED/RESULTS/JOB/17/WORK/SEIZ_out.fred -r 1 -d /home/nyoma/FRED/RESULTS/JOB/17/OUT 2>&1 > /home/nyoma/FRED/RESULTS/JOB/17/OUT/RUN1/LOG)\r\n"
     ]
    },
    {
     "name": "stderr",
     "output_type": "stream",
     "text": [
      " /home/nyoma/.local/lib/python3.9/site-packages/GPy/kern/src/stationary.py:168: RuntimeWarning:overflow encountered in divide\n",
      " /home/nyoma/.local/lib/python3.9/site-packages/GPy/kern/src/rbf.py:52: RuntimeWarning:overflow encountered in square\n",
      " /home/nyoma/.local/lib/python3.9/site-packages/GPy/kern/src/rbf.py:76: RuntimeWarning:invalid value encountered in multiply\n",
      " /home/nyoma/.local/lib/python3.9/site-packages/paramz/transformations.py:111: RuntimeWarning:overflow encountered in expm1\n",
      " /home/nyoma/.local/lib/python3.9/site-packages/GPy/kern/src/stationary.py:353: RuntimeWarning:invalid value encountered in divide\n"
     ]
    },
    {
     "name": "stdout",
     "output_type": "stream",
     "text": [
      "fred_compile SEIZ_out.fred ...\r\n",
      "No errors found.\r\n",
      "\r\n",
      "FRED Warning (file SEIZ_out.fred) Ignoring duplicate rule:\r\n",
      "  if state(SKEPTIC,E) then wait(24*normal(epsilon,epsilon/2))\r\n",
      "     is hidden by:\r\n",
      "  if state(SKEPTIC,E) then wait()\r\n",
      "\r\n",
      "FRED Warning (file SEIZ_out.fred) No wait rule found for state SKEPTIC.InBetween\r\n",
      "\r\n",
      "\r\n",
      "FRED Warning (file SEIZ_out.fred) No wait rule found for state ADOPT.InBetween\r\n",
      "\r\n",
      "\r\n",
      "SEIZ_0.1404884474580108_0.4098737752000444_2.0_run 18\r\n",
      "(export OMP_NUM_THREADS=16 ; FRED -p /home/nyoma/FRED/RESULTS/JOB/18/WORK/SEIZ_out.fred -r 1 -d /home/nyoma/FRED/RESULTS/JOB/18/OUT 2>&1 > /home/nyoma/FRED/RESULTS/JOB/18/OUT/RUN1/LOG)\r\n"
     ]
    },
    {
     "name": "stderr",
     "output_type": "stream",
     "text": [
      " /home/nyoma/.local/lib/python3.9/site-packages/GPy/kern/src/stationary.py:168: RuntimeWarning:overflow encountered in divide\n",
      " /home/nyoma/.local/lib/python3.9/site-packages/GPy/kern/src/rbf.py:52: RuntimeWarning:overflow encountered in square\n",
      " /home/nyoma/.local/lib/python3.9/site-packages/GPy/kern/src/rbf.py:76: RuntimeWarning:invalid value encountered in multiply\n",
      " /home/nyoma/.local/lib/python3.9/site-packages/paramz/transformations.py:111: RuntimeWarning:overflow encountered in expm1\n"
     ]
    },
    {
     "name": "stdout",
     "output_type": "stream",
     "text": [
      "fred_compile SEIZ_out.fred ...\r\n",
      "No errors found.\r\n",
      "\r\n",
      "FRED Warning (file SEIZ_out.fred) Ignoring duplicate rule:\r\n",
      "  if state(SKEPTIC,E) then wait(24*normal(epsilon,epsilon/2))\r\n",
      "     is hidden by:\r\n",
      "  if state(SKEPTIC,E) then wait()\r\n",
      "\r\n",
      "FRED Warning (file SEIZ_out.fred) No wait rule found for state SKEPTIC.InBetween\r\n",
      "\r\n",
      "\r\n",
      "FRED Warning (file SEIZ_out.fred) No wait rule found for state ADOPT.InBetween\r\n",
      "\r\n",
      "\r\n",
      "SEIZ_0.39976569545896445_0.9013093665731103_2.0_run 19\r\n",
      "(export OMP_NUM_THREADS=16 ; FRED -p /home/nyoma/FRED/RESULTS/JOB/19/WORK/SEIZ_out.fred -r 1 -d /home/nyoma/FRED/RESULTS/JOB/19/OUT 2>&1 > /home/nyoma/FRED/RESULTS/JOB/19/OUT/RUN1/LOG)\r\n"
     ]
    },
    {
     "name": "stderr",
     "output_type": "stream",
     "text": [
      " /home/nyoma/.local/lib/python3.9/site-packages/GPy/kern/src/stationary.py:168: RuntimeWarning:overflow encountered in divide\n",
      " /home/nyoma/.local/lib/python3.9/site-packages/GPy/kern/src/rbf.py:52: RuntimeWarning:overflow encountered in square\n",
      " /home/nyoma/.local/lib/python3.9/site-packages/GPy/kern/src/rbf.py:76: RuntimeWarning:invalid value encountered in multiply\n",
      " /home/nyoma/.local/lib/python3.9/site-packages/paramz/transformations.py:111: RuntimeWarning:overflow encountered in expm1\n",
      " /home/nyoma/.local/lib/python3.9/site-packages/GPy/kern/src/stationary.py:353: RuntimeWarning:invalid value encountered in divide\n"
     ]
    },
    {
     "name": "stdout",
     "output_type": "stream",
     "text": [
      "fred_compile SEIZ_out.fred ...\r\n",
      "No errors found.\r\n",
      "\r\n",
      "FRED Warning (file SEIZ_out.fred) Ignoring duplicate rule:\r\n",
      "  if state(SKEPTIC,E) then wait(24*normal(epsilon,epsilon/2))\r\n",
      "     is hidden by:\r\n",
      "  if state(SKEPTIC,E) then wait()\r\n",
      "\r\n",
      "FRED Warning (file SEIZ_out.fred) No wait rule found for state SKEPTIC.InBetween\r\n",
      "\r\n",
      "\r\n",
      "FRED Warning (file SEIZ_out.fred) No wait rule found for state ADOPT.InBetween\r\n",
      "\r\n",
      "\r\n",
      "SEIZ_0.4607648920296491_0.2033675718244652_2.0_run 20\r\n",
      "(export OMP_NUM_THREADS=16 ; FRED -p /home/nyoma/FRED/RESULTS/JOB/20/WORK/SEIZ_out.fred -r 1 -d /home/nyoma/FRED/RESULTS/JOB/20/OUT 2>&1 > /home/nyoma/FRED/RESULTS/JOB/20/OUT/RUN1/LOG)\r\n"
     ]
    },
    {
     "name": "stderr",
     "output_type": "stream",
     "text": [
      " /home/nyoma/.local/lib/python3.9/site-packages/GPy/kern/src/stationary.py:168: RuntimeWarning:overflow encountered in divide\n",
      " /home/nyoma/.local/lib/python3.9/site-packages/GPy/kern/src/rbf.py:52: RuntimeWarning:overflow encountered in square\n",
      " /home/nyoma/.local/lib/python3.9/site-packages/GPy/kern/src/rbf.py:76: RuntimeWarning:invalid value encountered in multiply\n",
      " /home/nyoma/.local/lib/python3.9/site-packages/paramz/transformations.py:111: RuntimeWarning:overflow encountered in expm1\n",
      " /home/nyoma/.local/lib/python3.9/site-packages/GPy/kern/src/stationary.py:353: RuntimeWarning:invalid value encountered in divide\n"
     ]
    },
    {
     "name": "stdout",
     "output_type": "stream",
     "text": [
      "fred_compile SEIZ_out.fred ...\r\n",
      "No errors found.\r\n",
      "\r\n",
      "FRED Warning (file SEIZ_out.fred) Ignoring duplicate rule:\r\n",
      "  if state(SKEPTIC,E) then wait(24*normal(epsilon,epsilon/2))\r\n",
      "     is hidden by:\r\n",
      "  if state(SKEPTIC,E) then wait()\r\n",
      "\r\n",
      "FRED Warning (file SEIZ_out.fred) No wait rule found for state SKEPTIC.InBetween\r\n",
      "\r\n",
      "\r\n",
      "FRED Warning (file SEIZ_out.fred) No wait rule found for state ADOPT.InBetween\r\n",
      "\r\n",
      "\r\n",
      "SEIZ_0.22133877301376093_0.16088458876800948_2.0_run 21\r\n",
      "(export OMP_NUM_THREADS=16 ; FRED -p /home/nyoma/FRED/RESULTS/JOB/21/WORK/SEIZ_out.fred -r 1 -d /home/nyoma/FRED/RESULTS/JOB/21/OUT 2>&1 > /home/nyoma/FRED/RESULTS/JOB/21/OUT/RUN1/LOG)\r\n"
     ]
    },
    {
     "name": "stderr",
     "output_type": "stream",
     "text": [
      " /home/nyoma/.local/lib/python3.9/site-packages/GPy/kern/src/stationary.py:168: RuntimeWarning:overflow encountered in divide\n",
      " /home/nyoma/.local/lib/python3.9/site-packages/GPy/kern/src/rbf.py:52: RuntimeWarning:overflow encountered in square\n",
      " /home/nyoma/.local/lib/python3.9/site-packages/GPy/kern/src/rbf.py:76: RuntimeWarning:invalid value encountered in multiply\n",
      " /home/nyoma/.local/lib/python3.9/site-packages/paramz/transformations.py:111: RuntimeWarning:overflow encountered in expm1\n"
     ]
    },
    {
     "name": "stdout",
     "output_type": "stream",
     "text": [
      "fred_compile SEIZ_out.fred ...\r\n",
      "No errors found.\r\n",
      "\r\n",
      "FRED Warning (file SEIZ_out.fred) Ignoring duplicate rule:\r\n",
      "  if state(SKEPTIC,E) then wait(24*normal(epsilon,epsilon/2))\r\n",
      "     is hidden by:\r\n",
      "  if state(SKEPTIC,E) then wait()\r\n",
      "\r\n",
      "FRED Warning (file SEIZ_out.fred) No wait rule found for state SKEPTIC.InBetween\r\n",
      "\r\n",
      "\r\n",
      "FRED Warning (file SEIZ_out.fred) No wait rule found for state ADOPT.InBetween\r\n",
      "\r\n",
      "\r\n",
      "SEIZ_0.8636536323344756_0.14131975591251655_2.0_run 22\r\n",
      "(export OMP_NUM_THREADS=16 ; FRED -p /home/nyoma/FRED/RESULTS/JOB/22/WORK/SEIZ_out.fred -r 1 -d /home/nyoma/FRED/RESULTS/JOB/22/OUT 2>&1 > /home/nyoma/FRED/RESULTS/JOB/22/OUT/RUN1/LOG)\r\n"
     ]
    },
    {
     "name": "stderr",
     "output_type": "stream",
     "text": [
      " /home/nyoma/.local/lib/python3.9/site-packages/GPy/kern/src/stationary.py:168: RuntimeWarning:overflow encountered in divide\n",
      " /home/nyoma/.local/lib/python3.9/site-packages/GPy/kern/src/rbf.py:52: RuntimeWarning:overflow encountered in square\n",
      " /home/nyoma/.local/lib/python3.9/site-packages/GPy/kern/src/rbf.py:76: RuntimeWarning:invalid value encountered in multiply\n",
      " /home/nyoma/.local/lib/python3.9/site-packages/paramz/transformations.py:111: RuntimeWarning:overflow encountered in expm1\n",
      " /home/nyoma/.local/lib/python3.9/site-packages/GPy/kern/src/stationary.py:353: RuntimeWarning:invalid value encountered in divide\n"
     ]
    },
    {
     "name": "stdout",
     "output_type": "stream",
     "text": [
      "fred_compile SEIZ_out.fred ...\r\n",
      "No errors found.\r\n",
      "\r\n",
      "FRED Warning (file SEIZ_out.fred) Ignoring duplicate rule:\r\n",
      "  if state(SKEPTIC,E) then wait(24*normal(epsilon,epsilon/2))\r\n",
      "     is hidden by:\r\n",
      "  if state(SKEPTIC,E) then wait()\r\n",
      "\r\n",
      "FRED Warning (file SEIZ_out.fred) No wait rule found for state SKEPTIC.InBetween\r\n",
      "\r\n",
      "\r\n",
      "FRED Warning (file SEIZ_out.fred) No wait rule found for state ADOPT.InBetween\r\n",
      "\r\n",
      "\r\n",
      "SEIZ_0.7439272765136963_0.3212924914531059_2.0_run 23\r\n",
      "(export OMP_NUM_THREADS=16 ; FRED -p /home/nyoma/FRED/RESULTS/JOB/23/WORK/SEIZ_out.fred -r 1 -d /home/nyoma/FRED/RESULTS/JOB/23/OUT 2>&1 > /home/nyoma/FRED/RESULTS/JOB/23/OUT/RUN1/LOG)\r\n"
     ]
    },
    {
     "name": "stderr",
     "output_type": "stream",
     "text": [
      " /home/nyoma/.local/lib/python3.9/site-packages/GPy/kern/src/stationary.py:168: RuntimeWarning:overflow encountered in divide\n",
      " /home/nyoma/.local/lib/python3.9/site-packages/GPy/kern/src/rbf.py:52: RuntimeWarning:overflow encountered in square\n",
      " /home/nyoma/.local/lib/python3.9/site-packages/GPy/kern/src/rbf.py:76: RuntimeWarning:invalid value encountered in multiply\n",
      " /home/nyoma/.local/lib/python3.9/site-packages/paramz/transformations.py:111: RuntimeWarning:overflow encountered in expm1\n",
      " /home/nyoma/.local/lib/python3.9/site-packages/GPy/kern/src/stationary.py:353: RuntimeWarning:invalid value encountered in divide\n"
     ]
    },
    {
     "name": "stdout",
     "output_type": "stream",
     "text": [
      "fred_compile SEIZ_out.fred ...\r\n",
      "No errors found.\r\n",
      "\r\n",
      "FRED Warning (file SEIZ_out.fred) Ignoring duplicate rule:\r\n",
      "  if state(SKEPTIC,E) then wait(24*normal(epsilon,epsilon/2))\r\n",
      "     is hidden by:\r\n",
      "  if state(SKEPTIC,E) then wait()\r\n",
      "\r\n",
      "FRED Warning (file SEIZ_out.fred) No wait rule found for state SKEPTIC.InBetween\r\n",
      "\r\n",
      "\r\n",
      "FRED Warning (file SEIZ_out.fred) No wait rule found for state ADOPT.InBetween\r\n",
      "\r\n",
      "\r\n",
      "SEIZ_0.631583247110606_0.28295887152512245_2.0_run 24\r\n",
      "(export OMP_NUM_THREADS=16 ; FRED -p /home/nyoma/FRED/RESULTS/JOB/24/WORK/SEIZ_out.fred -r 1 -d /home/nyoma/FRED/RESULTS/JOB/24/OUT 2>&1 > /home/nyoma/FRED/RESULTS/JOB/24/OUT/RUN1/LOG)\r\n"
     ]
    },
    {
     "name": "stderr",
     "output_type": "stream",
     "text": [
      " /home/nyoma/.local/lib/python3.9/site-packages/GPy/kern/src/stationary.py:168: RuntimeWarning:overflow encountered in divide\n",
      " /home/nyoma/.local/lib/python3.9/site-packages/GPy/kern/src/rbf.py:52: RuntimeWarning:overflow encountered in square\n",
      " /home/nyoma/.local/lib/python3.9/site-packages/GPy/kern/src/rbf.py:76: RuntimeWarning:invalid value encountered in multiply\n",
      " /home/nyoma/.local/lib/python3.9/site-packages/paramz/transformations.py:111: RuntimeWarning:overflow encountered in expm1\n",
      " /home/nyoma/.local/lib/python3.9/site-packages/GPy/kern/src/stationary.py:353: RuntimeWarning:invalid value encountered in divide\n"
     ]
    },
    {
     "name": "stdout",
     "output_type": "stream",
     "text": [
      "fred_compile SEIZ_out.fred ...\r\n",
      "No errors found.\r\n",
      "\r\n",
      "FRED Warning (file SEIZ_out.fred) Ignoring duplicate rule:\r\n",
      "  if state(SKEPTIC,E) then wait(24*normal(epsilon,epsilon/2))\r\n",
      "     is hidden by:\r\n",
      "  if state(SKEPTIC,E) then wait()\r\n",
      "\r\n",
      "FRED Warning (file SEIZ_out.fred) No wait rule found for state SKEPTIC.InBetween\r\n",
      "\r\n",
      "\r\n",
      "FRED Warning (file SEIZ_out.fred) No wait rule found for state ADOPT.InBetween\r\n",
      "\r\n",
      "\r\n",
      "SEIZ_0.743446424537483_0.4914641687372867_2.0_run 25\r\n",
      "(export OMP_NUM_THREADS=16 ; FRED -p /home/nyoma/FRED/RESULTS/JOB/25/WORK/SEIZ_out.fred -r 1 -d /home/nyoma/FRED/RESULTS/JOB/25/OUT 2>&1 > /home/nyoma/FRED/RESULTS/JOB/25/OUT/RUN1/LOG)\r\n"
     ]
    },
    {
     "name": "stderr",
     "output_type": "stream",
     "text": [
      " /home/nyoma/.local/lib/python3.9/site-packages/GPy/kern/src/stationary.py:168: RuntimeWarning:overflow encountered in divide\n",
      " /home/nyoma/.local/lib/python3.9/site-packages/GPy/kern/src/rbf.py:52: RuntimeWarning:overflow encountered in square\n",
      " /home/nyoma/.local/lib/python3.9/site-packages/GPy/kern/src/rbf.py:76: RuntimeWarning:invalid value encountered in multiply\n",
      " /home/nyoma/.local/lib/python3.9/site-packages/paramz/transformations.py:111: RuntimeWarning:overflow encountered in expm1\n",
      " /home/nyoma/.local/lib/python3.9/site-packages/GPy/kern/src/stationary.py:353: RuntimeWarning:invalid value encountered in divide\n"
     ]
    },
    {
     "name": "stdout",
     "output_type": "stream",
     "text": [
      "fred_compile SEIZ_out.fred ...\r\n",
      "No errors found.\r\n",
      "\r\n",
      "FRED Warning (file SEIZ_out.fred) Ignoring duplicate rule:\r\n",
      "  if state(SKEPTIC,E) then wait(24*normal(epsilon,epsilon/2))\r\n",
      "     is hidden by:\r\n",
      "  if state(SKEPTIC,E) then wait()\r\n",
      "\r\n",
      "FRED Warning (file SEIZ_out.fred) No wait rule found for state SKEPTIC.InBetween\r\n",
      "\r\n",
      "\r\n",
      "FRED Warning (file SEIZ_out.fred) No wait rule found for state ADOPT.InBetween\r\n",
      "\r\n",
      "\r\n",
      "SEIZ_0.8155032821696144_0.6804257812330433_2.0_run 26\r\n",
      "(export OMP_NUM_THREADS=16 ; FRED -p /home/nyoma/FRED/RESULTS/JOB/26/WORK/SEIZ_out.fred -r 1 -d /home/nyoma/FRED/RESULTS/JOB/26/OUT 2>&1 > /home/nyoma/FRED/RESULTS/JOB/26/OUT/RUN1/LOG)\r\n"
     ]
    },
    {
     "name": "stderr",
     "output_type": "stream",
     "text": [
      " /home/nyoma/.local/lib/python3.9/site-packages/GPy/kern/src/stationary.py:168: RuntimeWarning:overflow encountered in divide\n",
      " /home/nyoma/.local/lib/python3.9/site-packages/GPy/kern/src/rbf.py:52: RuntimeWarning:overflow encountered in square\n",
      " /home/nyoma/.local/lib/python3.9/site-packages/GPy/kern/src/rbf.py:76: RuntimeWarning:invalid value encountered in multiply\n",
      " /home/nyoma/.local/lib/python3.9/site-packages/paramz/transformations.py:111: RuntimeWarning:overflow encountered in expm1\n",
      " /home/nyoma/.local/lib/python3.9/site-packages/GPy/kern/src/stationary.py:353: RuntimeWarning:invalid value encountered in divide\n"
     ]
    },
    {
     "name": "stdout",
     "output_type": "stream",
     "text": [
      "fred_compile SEIZ_out.fred ...\r\n",
      "No errors found.\r\n",
      "\r\n",
      "FRED Warning (file SEIZ_out.fred) Ignoring duplicate rule:\r\n",
      "  if state(SKEPTIC,E) then wait(24*normal(epsilon,epsilon/2))\r\n",
      "     is hidden by:\r\n",
      "  if state(SKEPTIC,E) then wait()\r\n",
      "\r\n",
      "FRED Warning (file SEIZ_out.fred) No wait rule found for state SKEPTIC.InBetween\r\n",
      "\r\n",
      "\r\n",
      "FRED Warning (file SEIZ_out.fred) No wait rule found for state ADOPT.InBetween\r\n",
      "\r\n",
      "\r\n",
      "SEIZ_0.22613889875287563_0.38382639505077387_2.0_run 27\r\n",
      "(export OMP_NUM_THREADS=16 ; FRED -p /home/nyoma/FRED/RESULTS/JOB/27/WORK/SEIZ_out.fred -r 1 -d /home/nyoma/FRED/RESULTS/JOB/27/OUT 2>&1 > /home/nyoma/FRED/RESULTS/JOB/27/OUT/RUN1/LOG)\r\n"
     ]
    },
    {
     "name": "stderr",
     "output_type": "stream",
     "text": [
      " /home/nyoma/.local/lib/python3.9/site-packages/GPy/kern/src/stationary.py:168: RuntimeWarning:overflow encountered in divide\n",
      " /home/nyoma/.local/lib/python3.9/site-packages/GPy/kern/src/rbf.py:52: RuntimeWarning:overflow encountered in square\n",
      " /home/nyoma/.local/lib/python3.9/site-packages/GPy/kern/src/rbf.py:76: RuntimeWarning:invalid value encountered in multiply\n",
      " /home/nyoma/.local/lib/python3.9/site-packages/paramz/transformations.py:111: RuntimeWarning:overflow encountered in expm1\n",
      " /home/nyoma/.local/lib/python3.9/site-packages/GPy/kern/src/stationary.py:353: RuntimeWarning:invalid value encountered in divide\n"
     ]
    },
    {
     "name": "stdout",
     "output_type": "stream",
     "text": [
      "fred_compile SEIZ_out.fred ...\r\n",
      "No errors found.\r\n",
      "\r\n",
      "FRED Warning (file SEIZ_out.fred) Ignoring duplicate rule:\r\n",
      "  if state(SKEPTIC,E) then wait(24*normal(epsilon,epsilon/2))\r\n",
      "     is hidden by:\r\n",
      "  if state(SKEPTIC,E) then wait()\r\n",
      "\r\n",
      "FRED Warning (file SEIZ_out.fred) No wait rule found for state SKEPTIC.InBetween\r\n",
      "\r\n",
      "\r\n",
      "FRED Warning (file SEIZ_out.fred) No wait rule found for state ADOPT.InBetween\r\n",
      "\r\n",
      "\r\n",
      "SEIZ_0.8713308962255677_0.6578805804946408_2.0_run 28\r\n",
      "(export OMP_NUM_THREADS=16 ; FRED -p /home/nyoma/FRED/RESULTS/JOB/28/WORK/SEIZ_out.fred -r 1 -d /home/nyoma/FRED/RESULTS/JOB/28/OUT 2>&1 > /home/nyoma/FRED/RESULTS/JOB/28/OUT/RUN1/LOG)\r\n"
     ]
    },
    {
     "name": "stderr",
     "output_type": "stream",
     "text": [
      " /home/nyoma/.local/lib/python3.9/site-packages/GPy/kern/src/stationary.py:168: RuntimeWarning:overflow encountered in divide\n",
      " /home/nyoma/.local/lib/python3.9/site-packages/GPy/kern/src/rbf.py:52: RuntimeWarning:overflow encountered in square\n",
      " /home/nyoma/.local/lib/python3.9/site-packages/GPy/kern/src/rbf.py:76: RuntimeWarning:invalid value encountered in multiply\n",
      " /home/nyoma/.local/lib/python3.9/site-packages/paramz/transformations.py:111: RuntimeWarning:overflow encountered in expm1\n",
      " /home/nyoma/.local/lib/python3.9/site-packages/GPy/kern/src/stationary.py:353: RuntimeWarning:invalid value encountered in divide\n"
     ]
    },
    {
     "name": "stdout",
     "output_type": "stream",
     "text": [
      "fred_compile SEIZ_out.fred ...\r\n",
      "No errors found.\r\n",
      "\r\n",
      "FRED Warning (file SEIZ_out.fred) Ignoring duplicate rule:\r\n",
      "  if state(SKEPTIC,E) then wait(24*normal(epsilon,epsilon/2))\r\n",
      "     is hidden by:\r\n",
      "  if state(SKEPTIC,E) then wait()\r\n",
      "\r\n",
      "FRED Warning (file SEIZ_out.fred) No wait rule found for state SKEPTIC.InBetween\r\n",
      "\r\n",
      "\r\n",
      "FRED Warning (file SEIZ_out.fred) No wait rule found for state ADOPT.InBetween\r\n",
      "\r\n",
      "\r\n",
      "SEIZ_0.2339509307157812_0.2707343469965975_2.0_run 29\r\n",
      "(export OMP_NUM_THREADS=16 ; FRED -p /home/nyoma/FRED/RESULTS/JOB/29/WORK/SEIZ_out.fred -r 1 -d /home/nyoma/FRED/RESULTS/JOB/29/OUT 2>&1 > /home/nyoma/FRED/RESULTS/JOB/29/OUT/RUN1/LOG)\r\n"
     ]
    },
    {
     "name": "stderr",
     "output_type": "stream",
     "text": [
      " /home/nyoma/.local/lib/python3.9/site-packages/GPy/kern/src/stationary.py:168: RuntimeWarning:overflow encountered in divide\n",
      " /home/nyoma/.local/lib/python3.9/site-packages/GPy/kern/src/rbf.py:52: RuntimeWarning:overflow encountered in square\n",
      " /home/nyoma/.local/lib/python3.9/site-packages/GPy/kern/src/rbf.py:76: RuntimeWarning:invalid value encountered in multiply\n",
      " /home/nyoma/.local/lib/python3.9/site-packages/paramz/transformations.py:111: RuntimeWarning:overflow encountered in expm1\n",
      " /home/nyoma/.local/lib/python3.9/site-packages/GPy/kern/src/stationary.py:353: RuntimeWarning:invalid value encountered in divide\n"
     ]
    },
    {
     "name": "stdout",
     "output_type": "stream",
     "text": [
      "fred_compile SEIZ_out.fred ...\r\n",
      "No errors found.\r\n",
      "\r\n",
      "FRED Warning (file SEIZ_out.fred) Ignoring duplicate rule:\r\n",
      "  if state(SKEPTIC,E) then wait(24*normal(epsilon,epsilon/2))\r\n",
      "     is hidden by:\r\n",
      "  if state(SKEPTIC,E) then wait()\r\n",
      "\r\n",
      "FRED Warning (file SEIZ_out.fred) No wait rule found for state SKEPTIC.InBetween\r\n",
      "\r\n",
      "\r\n",
      "FRED Warning (file SEIZ_out.fred) No wait rule found for state ADOPT.InBetween\r\n",
      "\r\n",
      "\r\n",
      "SEIZ_0.6688325879969773_0.5021654534999829_2.0_run 30\r\n",
      "(export OMP_NUM_THREADS=16 ; FRED -p /home/nyoma/FRED/RESULTS/JOB/30/WORK/SEIZ_out.fred -r 1 -d /home/nyoma/FRED/RESULTS/JOB/30/OUT 2>&1 > /home/nyoma/FRED/RESULTS/JOB/30/OUT/RUN1/LOG)\r\n"
     ]
    },
    {
     "name": "stderr",
     "output_type": "stream",
     "text": [
      " /home/nyoma/.local/lib/python3.9/site-packages/GPy/kern/src/stationary.py:168: RuntimeWarning:overflow encountered in divide\n",
      " /home/nyoma/.local/lib/python3.9/site-packages/GPy/kern/src/rbf.py:52: RuntimeWarning:overflow encountered in square\n",
      " /home/nyoma/.local/lib/python3.9/site-packages/GPy/kern/src/rbf.py:76: RuntimeWarning:invalid value encountered in multiply\n",
      " /home/nyoma/.local/lib/python3.9/site-packages/paramz/transformations.py:111: RuntimeWarning:overflow encountered in expm1\n",
      " /home/nyoma/.local/lib/python3.9/site-packages/GPy/kern/src/stationary.py:353: RuntimeWarning:invalid value encountered in divide\n"
     ]
    },
    {
     "name": "stdout",
     "output_type": "stream",
     "text": [
      "fred_compile SEIZ_out.fred ...\r\n",
      "No errors found.\r\n",
      "\r\n",
      "FRED Warning (file SEIZ_out.fred) Ignoring duplicate rule:\r\n",
      "  if state(SKEPTIC,E) then wait(24*normal(epsilon,epsilon/2))\r\n",
      "     is hidden by:\r\n",
      "  if state(SKEPTIC,E) then wait()\r\n",
      "\r\n",
      "FRED Warning (file SEIZ_out.fred) No wait rule found for state SKEPTIC.InBetween\r\n",
      "\r\n",
      "\r\n",
      "FRED Warning (file SEIZ_out.fred) No wait rule found for state ADOPT.InBetween\r\n",
      "\r\n",
      "\r\n",
      "SEIZ_0.10940609768543186_0.34285769306198643_2.0_run 31\r\n",
      "(export OMP_NUM_THREADS=16 ; FRED -p /home/nyoma/FRED/RESULTS/JOB/31/WORK/SEIZ_out.fred -r 1 -d /home/nyoma/FRED/RESULTS/JOB/31/OUT 2>&1 > /home/nyoma/FRED/RESULTS/JOB/31/OUT/RUN1/LOG)\r\n"
     ]
    },
    {
     "name": "stderr",
     "output_type": "stream",
     "text": [
      " /home/nyoma/.local/lib/python3.9/site-packages/GPy/kern/src/stationary.py:168: RuntimeWarning:overflow encountered in divide\n",
      " /home/nyoma/.local/lib/python3.9/site-packages/GPy/kern/src/rbf.py:52: RuntimeWarning:overflow encountered in square\n",
      " /home/nyoma/.local/lib/python3.9/site-packages/GPy/kern/src/rbf.py:76: RuntimeWarning:invalid value encountered in multiply\n",
      " /home/nyoma/.local/lib/python3.9/site-packages/paramz/transformations.py:111: RuntimeWarning:overflow encountered in expm1\n"
     ]
    }
   ],
   "source": [
    "max_iterations = 30\n",
    "bayesopt_loop.run_loop(sample, max_iterations)"
   ],
   "metadata": {
    "collapsed": false,
    "ExecuteTime": {
     "end_time": "2024-01-13T02:40:39.737880500Z",
     "start_time": "2024-01-13T02:23:51.032191Z"
    }
   },
   "id": "ca46d13fe1a4d1ea"
  },
  {
   "cell_type": "code",
   "execution_count": 13,
   "outputs": [],
   "source": [
    "results = bayesopt_loop.get_results()"
   ],
   "metadata": {
    "collapsed": false,
    "ExecuteTime": {
     "end_time": "2024-01-13T02:40:39.753175300Z",
     "start_time": "2024-01-13T02:40:39.737371400Z"
    }
   },
   "id": "74f597b1fdc2aa36"
  },
  {
   "cell_type": "code",
   "execution_count": 14,
   "outputs": [
    {
     "name": "stdout",
     "output_type": "stream",
     "text": [
      "[0.32229054 0.94554579 2.        ] 9242.0\n",
      "[13820. 13820. 13820. 10469. 10469. 10469. 10469. 10469. 10469. 10469.\n",
      " 10469. 10469. 10469. 10469. 10469. 10469. 10469. 10469. 10469.  9242.\n",
      "  9242.  9242.  9242.  9242.  9242.  9242.  9242.  9242.  9242.  9242.\n",
      "  9242.  9242.  9242.  9242.  9242.]\n"
     ]
    }
   ],
   "source": [
    "print(results.minimum_location, results.minimum_value)\n",
    "print(results.best_found_value_per_iteration)"
   ],
   "metadata": {
    "collapsed": false,
    "ExecuteTime": {
     "end_time": "2024-01-13T02:40:39.824673200Z",
     "start_time": "2024-01-13T02:40:39.753175300Z"
    }
   },
   "id": "5b1682cc7f6297d6"
  }
 ],
 "metadata": {
  "kernelspec": {
   "display_name": "Python 3",
   "language": "python",
   "name": "python3"
  },
  "language_info": {
   "codemirror_mode": {
    "name": "ipython",
    "version": 2
   },
   "file_extension": ".py",
   "mimetype": "text/x-python",
   "name": "python",
   "nbconvert_exporter": "python",
   "pygments_lexer": "ipython2",
   "version": "2.7.6"
  }
 },
 "nbformat": 4,
 "nbformat_minor": 5
}
