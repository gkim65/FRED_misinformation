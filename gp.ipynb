{
 "cells": [
  {
   "cell_type": "code",
   "execution_count": null,
   "outputs": [],
   "source": [
    "import multiprocessing\n",
    "import re\n",
    "from io import StringIO\n",
    "import uuid\n",
    "\n",
    "import pandas as pd\n",
    "import numpy as np\n",
    "\n",
    "from emukit.core import ParameterSpace, ContinuousParameter, DiscreteParameter\n",
    "from emukit.core.initial_designs import RandomDesign\n",
    "from GPy.models import GPRegression\n",
    "from emukit.model_wrappers import GPyModelWrapper\n",
    "from emukit.bayesian_optimization.acquisitions import ExpectedImprovement\n",
    "from emukit.bayesian_optimization.loops import BayesianOptimizationLoop"
   ],
   "metadata": {
    "collapsed": false
   },
   "id": "a7f8a58e6997adfb"
  },
  {
   "cell_type": "code",
   "execution_count": null,
   "outputs": [],
   "source": [
    "target_name = 'SEIZ_updated'\n",
    "# n_runs = 5\n",
    "# max_parallel_runs = 8\n",
    "# threads_per_run = multiprocessing.cpu_count()//min(n_runs,max_parallel_runs)\n",
    "threads_per_run = multiprocessing.cpu_count()\n",
    "init_exposures = 100\n",
    "\n",
    "parameter_space = ParameterSpace([ContinuousParameter('p', 0, 1),\n",
    "                                  ContinuousParameter('l', 0, 1),\n",
    "                                  ContinuousParameter('epsilon', 2, 2),\n",
    "                                  DiscreteParameter('prop_init_skeptics', np.arange(1, init_exposures-1, 1, dtype=np.int_))])"
   ],
   "metadata": {
    "collapsed": false
   },
   "id": "fb1ca09136c55a1e"
  },
  {
   "cell_type": "code",
   "execution_count": null,
   "outputs": [],
   "source": [
    "def run_job(p, l, epsilon, init_skeptics, init_adopters, clear_results=False):\n",
    "    with open(f'{target_name}_editable.fred', 'r') as file:\n",
    "        filedata = file.read()\n",
    "\n",
    "    vars = {\n",
    "        '{p}': p, \n",
    "        '{l}': l, \n",
    "        '{epsilon}': epsilon, \n",
    "        '{init_skeptic}': init_skeptics, \n",
    "        '{init_adopt}': init_adopters\n",
    "    }\n",
    "\n",
    "    run_uuid = uuid.uuid4()\n",
    "\n",
    "    for target, value in vars.items():\n",
    "        filedata = filedata.replace(target, str(value))\n",
    "\n",
    "    with open(f'out/{target_name}_{run_uuid}_out.fred', 'w') as file:\n",
    "        file.write(filedata)\n",
    "        \n",
    "    if clear_results:\n",
    "        !yes | fred_clear_all_results\n",
    "    \n",
    "    # !fred_job -p {target_name}_{run_uuid}_out.fred -k {target_name}_{p}_{l}_{epsilon}_run -n {n_runs} -m {max_parallel_runs} -t {threads_per_run}\n",
    "    !fred_job -p out/{target_name}_{run_uuid}_out.fred -k {target_name}_{run_uuid}_run -t {threads_per_run}\n",
    "    !fred_csv -k {target_name}_{run_uuid}_run > results/{target_name}_{run_uuid}_run.csv\n",
    "\n",
    "    with open(f'results/{target_name}_{run_uuid}_run.csv', 'r') as file:\n",
    "        lines = file.readlines()\n",
    "\n",
    "    with open(f'results/{target_name}_{run_uuid}_run.csv', 'w') as file:\n",
    "        lines[0] = ', '.join(map(lambda item: f'{item[0][1:-1]}={item[1]}', vars.items()))+'\\n'\n",
    "        file.writelines(lines)\n",
    "\n",
    "    # with open(f'results/{target_name}_{p}_{l}_{epsilon}_run.csv', 'r') as csv:\n",
    "    #     results = csv.read()\n",
    "    # \n",
    "    # results = re.split('Run,\\d\\n', results)[1:]\n",
    "    # return [pd.read_csv(StringIO(data)) for data in results]\n",
    "    return pd.read_csv(f'results/{target_name}_{run_uuid}_run.csv', header=2)"
   ],
   "metadata": {
    "collapsed": false
   },
   "id": "e924571bf2e2530e"
  },
  {
   "cell_type": "code",
   "execution_count": null,
   "outputs": [],
   "source": [
    "def sample(X, **kwargs):\n",
    "    X = np.array(X)\n",
    "    \n",
    "    if X.ndim < 2:\n",
    "        X = np.expand_dims(X, 0)\n",
    "    elif X.ndim > 2:\n",
    "        raise Exception(f'X has too many dimensions (ndim={X.ndim}, must be 1 or 2)')\n",
    "    if X.shape[-1] != len(parameter_space._parameters):\n",
    "        raise Exception(f'X has the wrong number of variables (variables={X.shape[-1]}, must be {len(parameter_space._parameters)})')\n",
    "    \n",
    "    Y = []\n",
    "\n",
    "    for (p, l, epsilon, init_skeptics) in X: # TODO: parallelize this?\n",
    "        data = run_job(p, l, epsilon, init_skeptics, init_exposures-init_skeptics, **kwargs)\n",
    "        # Y.append([run['ADOPT.I'].iat[-1] for run in data])\n",
    "        Y.append([data['ADOPT.I'].iat[-1]])\n",
    "        \n",
    "    return np.vstack(Y)"
   ],
   "metadata": {
    "collapsed": false
   },
   "id": "cb1c34ba9ad24f90"
  },
  {
   "cell_type": "code",
   "execution_count": null,
   "outputs": [],
   "source": [
    "design = RandomDesign(parameter_space)\n",
    "num_data_points = 5\n",
    "X = design.get_samples(num_data_points)"
   ],
   "metadata": {
    "collapsed": false
   },
   "id": "a5ced94ccd5c878b"
  },
  {
   "cell_type": "code",
   "execution_count": null,
   "outputs": [],
   "source": [
    "X"
   ],
   "metadata": {
    "collapsed": false
   },
   "id": "278c49f1065bef65"
  },
  {
   "cell_type": "code",
   "execution_count": null,
   "outputs": [],
   "source": [
    "Y = sample(X, clear_results=True)"
   ],
   "metadata": {
    "collapsed": false
   },
   "id": "d51326a96257ae1a"
  },
  {
   "cell_type": "code",
   "execution_count": null,
   "outputs": [],
   "source": [
    "Y"
   ],
   "metadata": {
    "collapsed": false
   },
   "id": "4ca0dacfef62042c"
  },
  {
   "cell_type": "code",
   "execution_count": null,
   "outputs": [],
   "source": [
    "model_gpy = GPRegression(X,Y)\n",
    "model_emukit = GPyModelWrapper(model_gpy)"
   ],
   "metadata": {
    "collapsed": false
   },
   "id": "fe0f204fc438c030"
  },
  {
   "cell_type": "code",
   "execution_count": null,
   "outputs": [],
   "source": [
    "expected_improvement = ExpectedImprovement(model=model_emukit)"
   ],
   "metadata": {
    "collapsed": false
   },
   "id": "aac4e404d087b8cc"
  },
  {
   "cell_type": "code",
   "execution_count": null,
   "outputs": [],
   "source": [
    "bayesopt_loop = BayesianOptimizationLoop(model=model_emukit,\n",
    "                                         space=parameter_space,\n",
    "                                         acquisition=expected_improvement,\n",
    "                                         batch_size=1)"
   ],
   "metadata": {
    "collapsed": false
   },
   "id": "1661103750b6c98"
  },
  {
   "cell_type": "code",
   "execution_count": null,
   "outputs": [],
   "source": [
    "max_iterations = 25\n",
    "bayesopt_loop.run_loop(sample, max_iterations)"
   ],
   "metadata": {
    "collapsed": false
   },
   "id": "ca46d13fe1a4d1ea"
  },
  {
   "cell_type": "code",
   "execution_count": null,
   "outputs": [],
   "source": [
    "results = bayesopt_loop.get_results()"
   ],
   "metadata": {
    "collapsed": false
   },
   "id": "74f597b1fdc2aa36"
  },
  {
   "cell_type": "code",
   "execution_count": null,
   "outputs": [],
   "source": [
    "print(results.minimum_location, results.minimum_value)\n",
    "print(results.best_found_value_per_iteration)"
   ],
   "metadata": {
    "collapsed": false
   },
   "id": "5b1682cc7f6297d6"
  }
 ],
 "metadata": {
  "kernelspec": {
   "display_name": "Python 3",
   "language": "python",
   "name": "python3"
  },
  "language_info": {
   "codemirror_mode": {
    "name": "ipython",
    "version": 2
   },
   "file_extension": ".py",
   "mimetype": "text/x-python",
   "name": "python",
   "nbconvert_exporter": "python",
   "pygments_lexer": "ipython2",
   "version": "2.7.6"
  }
 },
 "nbformat": 4,
 "nbformat_minor": 5
}
